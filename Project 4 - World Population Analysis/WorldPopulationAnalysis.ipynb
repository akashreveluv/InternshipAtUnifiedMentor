{
 "cells": [
  {
   "cell_type": "markdown",
   "metadata": {},
   "source": [
    "<img src=\"images/population.png\" alt=\"Example Image\" width=\"1300\" style=\"display: block; margin: 0 auto;\">\n",
    "\n",
    "<h1 style=\"color:#250902; font-size:24px; font-weight:bold;\">Content</h1>\n",
    "\n",
    "<span style=\"color:#250902; font-size:18px;\">In this Dataset, we have Historical Population data for every Country/Territory in the world by different parameters like Area Size of the Country/Territory, Name of the Continent, Name of the Capital, Density, Population Growth Rate, Ranking based on Population, World Population Percentage, etc.</span>\n",
    "\n",
    "<span style=\"color:#250902; font-size:18px; font-weight:bold;\">Dataset Glossary (Column-Wise)</span>\n",
    "<ul style=\"color:#250902;\">\n",
    "    <li>Rank: Rank by Population</li>\n",
    "    <li>CCA3: 3 Digit Country/Territories Code</li>\n",
    "    <li>Country/Territories: Name of the Country/Territories</li>\n",
    "    <li>Capital: Name of the Capital</li>\n",
    "    <li>Continent: Name of the Continent</li>\n",
    "    <li>2022 Population: Population of the Country/Territories in the year 2022</li>\n",
    "    <li>2020 Population: Population of the Country/Territories in the year 2020</li>\n",
    "    <li>2015 Population: Population of the Country/Territories in the year 2015</li>\n",
    "    <li>2010 Population: Population of the Country/Territories in the year 2010</li>\n",
    "    <li>2000 Population: Population of the Country/Territories in the year 2000</li>\n",
    "    <li>1990 Population: Population of the Country/Territories in the year 1990</li>\n",
    "    <li>1980 Population: Population of the Country/Territories in the year 1980</li>\n",
    "    <li>1970 Population: Population of the Country/Territories in the year 1970</li>\n",
    "    <li>Area (km²): Area size of the Country/Territories in square kilometer</li>\n",
    "    <li>Density (per km²): Population Density per square kilometer</li>\n",
    "    <li>Growth Rate: Population Growth Rate by Country/Territories</li>\n",
    "    <li>World Population Percentage: The population percentage by each Country/Territories</li>\n",
    "</ul>"
   ]
  },
  {
   "cell_type": "markdown",
   "metadata": {},
   "source": [
    "<h1 style=\"padding:10px;background-color:#e09f3e;margin:0;color:#250902;font-family:sans-serif;font-size:24px;text-align:center;border-radius: 50px;overflow:hidden;font-weight:700\">Import Libraries</h1>"
   ]
  },
  {
   "cell_type": "code",
   "execution_count": 41,
   "metadata": {},
   "outputs": [],
   "source": [
    "import ipywidgets as widgets\n",
    "from IPython.display import display\n",
    "import numpy as np \n",
    "import pandas as pd \n",
    "import matplotlib.pyplot as plt\n",
    "import seaborn as sns\n",
    "import plotly.express as px\n",
    "import plotly.graph_objects as go\n",
    "\n",
    "from sklearn.model_selection import train_test_split\n",
    "from sklearn.preprocessing import OneHotEncoder, StandardScaler\n",
    "from sklearn.pipeline import Pipeline\n",
    "from sklearn.compose import ColumnTransformer\n",
    "from sklearn.linear_model import LinearRegression\n",
    "from sklearn.ensemble import RandomForestRegressor\n",
    "from sklearn.metrics import r2_score"
   ]
  },
  {
   "cell_type": "markdown",
   "metadata": {},
   "source": [
    "<h1 style=\"padding:10px;background-color:#e09f3e;margin:0;color:#250902;font-family:sans-serif;font-size:24px;text-align:center;border-radius: 50px;overflow:hidden;font-weight:700\">Load Dataset</h1>"
   ]
  },
  {
   "cell_type": "code",
   "execution_count": 42,
   "metadata": {},
   "outputs": [
    {
     "data": {
      "text/html": [
       "<div>\n",
       "<style scoped>\n",
       "    .dataframe tbody tr th:only-of-type {\n",
       "        vertical-align: middle;\n",
       "    }\n",
       "\n",
       "    .dataframe tbody tr th {\n",
       "        vertical-align: top;\n",
       "    }\n",
       "\n",
       "    .dataframe thead th {\n",
       "        text-align: right;\n",
       "    }\n",
       "</style>\n",
       "<table border=\"1\" class=\"dataframe\">\n",
       "  <thead>\n",
       "    <tr style=\"text-align: right;\">\n",
       "      <th></th>\n",
       "      <th>Rank</th>\n",
       "      <th>CCA3</th>\n",
       "      <th>Country/Territory</th>\n",
       "      <th>Capital</th>\n",
       "      <th>Continent</th>\n",
       "      <th>2022 Population</th>\n",
       "      <th>2020 Population</th>\n",
       "      <th>2015 Population</th>\n",
       "      <th>2010 Population</th>\n",
       "      <th>2000 Population</th>\n",
       "      <th>1990 Population</th>\n",
       "      <th>1980 Population</th>\n",
       "      <th>1970 Population</th>\n",
       "      <th>Area (km²)</th>\n",
       "      <th>Density (per km²)</th>\n",
       "      <th>Growth Rate</th>\n",
       "      <th>World Population Percentage</th>\n",
       "    </tr>\n",
       "  </thead>\n",
       "  <tbody>\n",
       "    <tr>\n",
       "      <th>0</th>\n",
       "      <td>36</td>\n",
       "      <td>AFG</td>\n",
       "      <td>Afghanistan</td>\n",
       "      <td>Kabul</td>\n",
       "      <td>Asia</td>\n",
       "      <td>41128771</td>\n",
       "      <td>38972230</td>\n",
       "      <td>33753499</td>\n",
       "      <td>28189672</td>\n",
       "      <td>19542982</td>\n",
       "      <td>10694796</td>\n",
       "      <td>12486631</td>\n",
       "      <td>10752971</td>\n",
       "      <td>652230</td>\n",
       "      <td>63.0587</td>\n",
       "      <td>1.0257</td>\n",
       "      <td>0.52</td>\n",
       "    </tr>\n",
       "    <tr>\n",
       "      <th>1</th>\n",
       "      <td>138</td>\n",
       "      <td>ALB</td>\n",
       "      <td>Albania</td>\n",
       "      <td>Tirana</td>\n",
       "      <td>Europe</td>\n",
       "      <td>2842321</td>\n",
       "      <td>2866849</td>\n",
       "      <td>2882481</td>\n",
       "      <td>2913399</td>\n",
       "      <td>3182021</td>\n",
       "      <td>3295066</td>\n",
       "      <td>2941651</td>\n",
       "      <td>2324731</td>\n",
       "      <td>28748</td>\n",
       "      <td>98.8702</td>\n",
       "      <td>0.9957</td>\n",
       "      <td>0.04</td>\n",
       "    </tr>\n",
       "    <tr>\n",
       "      <th>2</th>\n",
       "      <td>34</td>\n",
       "      <td>DZA</td>\n",
       "      <td>Algeria</td>\n",
       "      <td>Algiers</td>\n",
       "      <td>Africa</td>\n",
       "      <td>44903225</td>\n",
       "      <td>43451666</td>\n",
       "      <td>39543154</td>\n",
       "      <td>35856344</td>\n",
       "      <td>30774621</td>\n",
       "      <td>25518074</td>\n",
       "      <td>18739378</td>\n",
       "      <td>13795915</td>\n",
       "      <td>2381741</td>\n",
       "      <td>18.8531</td>\n",
       "      <td>1.0164</td>\n",
       "      <td>0.56</td>\n",
       "    </tr>\n",
       "    <tr>\n",
       "      <th>3</th>\n",
       "      <td>213</td>\n",
       "      <td>ASM</td>\n",
       "      <td>American Samoa</td>\n",
       "      <td>Pago Pago</td>\n",
       "      <td>Oceania</td>\n",
       "      <td>44273</td>\n",
       "      <td>46189</td>\n",
       "      <td>51368</td>\n",
       "      <td>54849</td>\n",
       "      <td>58230</td>\n",
       "      <td>47818</td>\n",
       "      <td>32886</td>\n",
       "      <td>27075</td>\n",
       "      <td>199</td>\n",
       "      <td>222.4774</td>\n",
       "      <td>0.9831</td>\n",
       "      <td>0.00</td>\n",
       "    </tr>\n",
       "    <tr>\n",
       "      <th>4</th>\n",
       "      <td>203</td>\n",
       "      <td>AND</td>\n",
       "      <td>Andorra</td>\n",
       "      <td>Andorra la Vella</td>\n",
       "      <td>Europe</td>\n",
       "      <td>79824</td>\n",
       "      <td>77700</td>\n",
       "      <td>71746</td>\n",
       "      <td>71519</td>\n",
       "      <td>66097</td>\n",
       "      <td>53569</td>\n",
       "      <td>35611</td>\n",
       "      <td>19860</td>\n",
       "      <td>468</td>\n",
       "      <td>170.5641</td>\n",
       "      <td>1.0100</td>\n",
       "      <td>0.00</td>\n",
       "    </tr>\n",
       "  </tbody>\n",
       "</table>\n",
       "</div>"
      ],
      "text/plain": [
       "   Rank CCA3 Country/Territory           Capital Continent  2022 Population  \\\n",
       "0    36  AFG       Afghanistan             Kabul      Asia         41128771   \n",
       "1   138  ALB           Albania            Tirana    Europe          2842321   \n",
       "2    34  DZA           Algeria           Algiers    Africa         44903225   \n",
       "3   213  ASM    American Samoa         Pago Pago   Oceania            44273   \n",
       "4   203  AND           Andorra  Andorra la Vella    Europe            79824   \n",
       "\n",
       "   2020 Population  2015 Population  2010 Population  2000 Population  \\\n",
       "0         38972230         33753499         28189672         19542982   \n",
       "1          2866849          2882481          2913399          3182021   \n",
       "2         43451666         39543154         35856344         30774621   \n",
       "3            46189            51368            54849            58230   \n",
       "4            77700            71746            71519            66097   \n",
       "\n",
       "   1990 Population  1980 Population  1970 Population  Area (km²)  \\\n",
       "0         10694796         12486631         10752971      652230   \n",
       "1          3295066          2941651          2324731       28748   \n",
       "2         25518074         18739378         13795915     2381741   \n",
       "3            47818            32886            27075         199   \n",
       "4            53569            35611            19860         468   \n",
       "\n",
       "   Density (per km²)  Growth Rate  World Population Percentage  \n",
       "0            63.0587       1.0257                         0.52  \n",
       "1            98.8702       0.9957                         0.04  \n",
       "2            18.8531       1.0164                         0.56  \n",
       "3           222.4774       0.9831                         0.00  \n",
       "4           170.5641       1.0100                         0.00  "
      ]
     },
     "execution_count": 42,
     "metadata": {},
     "output_type": "execute_result"
    }
   ],
   "source": [
    "df = pd.read_csv('dataset/world_population.csv')\n",
    "df.head()"
   ]
  },
  {
   "cell_type": "code",
   "execution_count": 43,
   "metadata": {},
   "outputs": [
    {
     "data": {
      "text/html": [
       "<div>\n",
       "<style scoped>\n",
       "    .dataframe tbody tr th:only-of-type {\n",
       "        vertical-align: middle;\n",
       "    }\n",
       "\n",
       "    .dataframe tbody tr th {\n",
       "        vertical-align: top;\n",
       "    }\n",
       "\n",
       "    .dataframe thead th {\n",
       "        text-align: right;\n",
       "    }\n",
       "</style>\n",
       "<table border=\"1\" class=\"dataframe\">\n",
       "  <thead>\n",
       "    <tr style=\"text-align: right;\">\n",
       "      <th></th>\n",
       "      <th>Rank</th>\n",
       "      <th>CCA3</th>\n",
       "      <th>Country/Territory</th>\n",
       "      <th>Capital</th>\n",
       "      <th>Continent</th>\n",
       "      <th>2022</th>\n",
       "      <th>2020</th>\n",
       "      <th>2015</th>\n",
       "      <th>2010</th>\n",
       "      <th>2000</th>\n",
       "      <th>1990</th>\n",
       "      <th>1980</th>\n",
       "      <th>1970</th>\n",
       "      <th>Area (km²)</th>\n",
       "      <th>Density (per km²)</th>\n",
       "      <th>Growth Rate</th>\n",
       "      <th>World Population Percentage</th>\n",
       "    </tr>\n",
       "  </thead>\n",
       "  <tbody>\n",
       "    <tr>\n",
       "      <th>9</th>\n",
       "      <td>140</td>\n",
       "      <td>ARM</td>\n",
       "      <td>Armenia</td>\n",
       "      <td>Yerevan</td>\n",
       "      <td>Asia</td>\n",
       "      <td>2780469</td>\n",
       "      <td>2805608</td>\n",
       "      <td>2878595</td>\n",
       "      <td>2946293</td>\n",
       "      <td>3168523</td>\n",
       "      <td>3556539</td>\n",
       "      <td>3135123</td>\n",
       "      <td>2534377</td>\n",
       "      <td>29743</td>\n",
       "      <td>93.4831</td>\n",
       "      <td>0.9962</td>\n",
       "      <td>0.03</td>\n",
       "    </tr>\n",
       "    <tr>\n",
       "      <th>227</th>\n",
       "      <td>51</td>\n",
       "      <td>VEN</td>\n",
       "      <td>Venezuela</td>\n",
       "      <td>Caracas</td>\n",
       "      <td>South America</td>\n",
       "      <td>28301696</td>\n",
       "      <td>28490453</td>\n",
       "      <td>30529716</td>\n",
       "      <td>28715022</td>\n",
       "      <td>24427729</td>\n",
       "      <td>19750579</td>\n",
       "      <td>15210443</td>\n",
       "      <td>11355475</td>\n",
       "      <td>916445</td>\n",
       "      <td>30.8820</td>\n",
       "      <td>1.0036</td>\n",
       "      <td>0.35</td>\n",
       "    </tr>\n",
       "    <tr>\n",
       "      <th>175</th>\n",
       "      <td>190</td>\n",
       "      <td>LCA</td>\n",
       "      <td>Saint Lucia</td>\n",
       "      <td>Castries</td>\n",
       "      <td>North America</td>\n",
       "      <td>179857</td>\n",
       "      <td>179237</td>\n",
       "      <td>175623</td>\n",
       "      <td>170935</td>\n",
       "      <td>159500</td>\n",
       "      <td>142301</td>\n",
       "      <td>121633</td>\n",
       "      <td>103090</td>\n",
       "      <td>616</td>\n",
       "      <td>291.9756</td>\n",
       "      <td>1.0011</td>\n",
       "      <td>0.00</td>\n",
       "    </tr>\n",
       "    <tr>\n",
       "      <th>189</th>\n",
       "      <td>116</td>\n",
       "      <td>SVK</td>\n",
       "      <td>Slovakia</td>\n",
       "      <td>Bratislava</td>\n",
       "      <td>Europe</td>\n",
       "      <td>5643453</td>\n",
       "      <td>5456681</td>\n",
       "      <td>5424444</td>\n",
       "      <td>5396424</td>\n",
       "      <td>5376690</td>\n",
       "      <td>5261305</td>\n",
       "      <td>4973883</td>\n",
       "      <td>4522867</td>\n",
       "      <td>49037</td>\n",
       "      <td>115.0856</td>\n",
       "      <td>1.0359</td>\n",
       "      <td>0.07</td>\n",
       "    </tr>\n",
       "    <tr>\n",
       "      <th>18</th>\n",
       "      <td>96</td>\n",
       "      <td>BLR</td>\n",
       "      <td>Belarus</td>\n",
       "      <td>Minsk</td>\n",
       "      <td>Europe</td>\n",
       "      <td>9534954</td>\n",
       "      <td>9633740</td>\n",
       "      <td>9700609</td>\n",
       "      <td>9731427</td>\n",
       "      <td>10256483</td>\n",
       "      <td>10428525</td>\n",
       "      <td>9817257</td>\n",
       "      <td>9170786</td>\n",
       "      <td>207600</td>\n",
       "      <td>45.9295</td>\n",
       "      <td>0.9955</td>\n",
       "      <td>0.12</td>\n",
       "    </tr>\n",
       "    <tr>\n",
       "      <th>73</th>\n",
       "      <td>131</td>\n",
       "      <td>GEO</td>\n",
       "      <td>Georgia</td>\n",
       "      <td>Tbilisi</td>\n",
       "      <td>Asia</td>\n",
       "      <td>3744385</td>\n",
       "      <td>3765912</td>\n",
       "      <td>3771132</td>\n",
       "      <td>3836831</td>\n",
       "      <td>4265172</td>\n",
       "      <td>5391636</td>\n",
       "      <td>5145843</td>\n",
       "      <td>4800426</td>\n",
       "      <td>69700</td>\n",
       "      <td>53.7214</td>\n",
       "      <td>0.9964</td>\n",
       "      <td>0.05</td>\n",
       "    </tr>\n",
       "    <tr>\n",
       "      <th>131</th>\n",
       "      <td>10</td>\n",
       "      <td>MEX</td>\n",
       "      <td>Mexico</td>\n",
       "      <td>Mexico City</td>\n",
       "      <td>North America</td>\n",
       "      <td>127504125</td>\n",
       "      <td>125998302</td>\n",
       "      <td>120149897</td>\n",
       "      <td>112532401</td>\n",
       "      <td>97873442</td>\n",
       "      <td>81720428</td>\n",
       "      <td>67705186</td>\n",
       "      <td>50289306</td>\n",
       "      <td>1964375</td>\n",
       "      <td>64.9082</td>\n",
       "      <td>1.0063</td>\n",
       "      <td>1.60</td>\n",
       "    </tr>\n",
       "    <tr>\n",
       "      <th>173</th>\n",
       "      <td>228</td>\n",
       "      <td>BLM</td>\n",
       "      <td>Saint Barthelemy</td>\n",
       "      <td>Gustavia</td>\n",
       "      <td>North America</td>\n",
       "      <td>10967</td>\n",
       "      <td>10681</td>\n",
       "      <td>9643</td>\n",
       "      <td>8988</td>\n",
       "      <td>7082</td>\n",
       "      <td>5168</td>\n",
       "      <td>2983</td>\n",
       "      <td>2417</td>\n",
       "      <td>21</td>\n",
       "      <td>522.2381</td>\n",
       "      <td>1.0098</td>\n",
       "      <td>0.00</td>\n",
       "    </tr>\n",
       "    <tr>\n",
       "      <th>122</th>\n",
       "      <td>45</td>\n",
       "      <td>MYS</td>\n",
       "      <td>Malaysia</td>\n",
       "      <td>Kuala Lumpur</td>\n",
       "      <td>Asia</td>\n",
       "      <td>33938221</td>\n",
       "      <td>33199993</td>\n",
       "      <td>31068833</td>\n",
       "      <td>28717731</td>\n",
       "      <td>22945150</td>\n",
       "      <td>17517054</td>\n",
       "      <td>13215707</td>\n",
       "      <td>10306508</td>\n",
       "      <td>330803</td>\n",
       "      <td>102.5934</td>\n",
       "      <td>1.0109</td>\n",
       "      <td>0.43</td>\n",
       "    </tr>\n",
       "    <tr>\n",
       "      <th>113</th>\n",
       "      <td>147</td>\n",
       "      <td>LSO</td>\n",
       "      <td>Lesotho</td>\n",
       "      <td>Maseru</td>\n",
       "      <td>Africa</td>\n",
       "      <td>2305825</td>\n",
       "      <td>2254100</td>\n",
       "      <td>2118521</td>\n",
       "      <td>2022747</td>\n",
       "      <td>1998630</td>\n",
       "      <td>1798997</td>\n",
       "      <td>1407672</td>\n",
       "      <td>1023481</td>\n",
       "      <td>30355</td>\n",
       "      <td>75.9620</td>\n",
       "      <td>1.0107</td>\n",
       "      <td>0.03</td>\n",
       "    </tr>\n",
       "    <tr>\n",
       "      <th>135</th>\n",
       "      <td>134</td>\n",
       "      <td>MNG</td>\n",
       "      <td>Mongolia</td>\n",
       "      <td>Ulaanbaatar</td>\n",
       "      <td>Asia</td>\n",
       "      <td>3398366</td>\n",
       "      <td>3294335</td>\n",
       "      <td>2964749</td>\n",
       "      <td>2702520</td>\n",
       "      <td>2450979</td>\n",
       "      <td>2161433</td>\n",
       "      <td>1697780</td>\n",
       "      <td>1293880</td>\n",
       "      <td>1564110</td>\n",
       "      <td>2.1727</td>\n",
       "      <td>1.0151</td>\n",
       "      <td>0.04</td>\n",
       "    </tr>\n",
       "    <tr>\n",
       "      <th>222</th>\n",
       "      <td>200</td>\n",
       "      <td>VIR</td>\n",
       "      <td>United States Virgin Islands</td>\n",
       "      <td>Charlotte Amalie</td>\n",
       "      <td>North America</td>\n",
       "      <td>99465</td>\n",
       "      <td>100442</td>\n",
       "      <td>102803</td>\n",
       "      <td>106142</td>\n",
       "      <td>108185</td>\n",
       "      <td>100685</td>\n",
       "      <td>96640</td>\n",
       "      <td>63446</td>\n",
       "      <td>347</td>\n",
       "      <td>286.6427</td>\n",
       "      <td>0.9937</td>\n",
       "      <td>0.00</td>\n",
       "    </tr>\n",
       "    <tr>\n",
       "      <th>30</th>\n",
       "      <td>108</td>\n",
       "      <td>BGR</td>\n",
       "      <td>Bulgaria</td>\n",
       "      <td>Sofia</td>\n",
       "      <td>Europe</td>\n",
       "      <td>6781953</td>\n",
       "      <td>6979175</td>\n",
       "      <td>7309253</td>\n",
       "      <td>7592273</td>\n",
       "      <td>8097691</td>\n",
       "      <td>8767778</td>\n",
       "      <td>8980606</td>\n",
       "      <td>8582950</td>\n",
       "      <td>110879</td>\n",
       "      <td>61.1654</td>\n",
       "      <td>0.9849</td>\n",
       "      <td>0.09</td>\n",
       "    </tr>\n",
       "    <tr>\n",
       "      <th>81</th>\n",
       "      <td>191</td>\n",
       "      <td>GUM</td>\n",
       "      <td>Guam</td>\n",
       "      <td>Hagåtña</td>\n",
       "      <td>Oceania</td>\n",
       "      <td>171774</td>\n",
       "      <td>169231</td>\n",
       "      <td>167978</td>\n",
       "      <td>164905</td>\n",
       "      <td>160188</td>\n",
       "      <td>138263</td>\n",
       "      <td>110286</td>\n",
       "      <td>88300</td>\n",
       "      <td>549</td>\n",
       "      <td>312.8852</td>\n",
       "      <td>1.0073</td>\n",
       "      <td>0.00</td>\n",
       "    </tr>\n",
       "    <tr>\n",
       "      <th>145</th>\n",
       "      <td>185</td>\n",
       "      <td>NCL</td>\n",
       "      <td>New Caledonia</td>\n",
       "      <td>Nouméa</td>\n",
       "      <td>Oceania</td>\n",
       "      <td>289950</td>\n",
       "      <td>286403</td>\n",
       "      <td>283032</td>\n",
       "      <td>261426</td>\n",
       "      <td>221537</td>\n",
       "      <td>177264</td>\n",
       "      <td>148599</td>\n",
       "      <td>110982</td>\n",
       "      <td>18575</td>\n",
       "      <td>15.6097</td>\n",
       "      <td>1.0075</td>\n",
       "      <td>0.00</td>\n",
       "    </tr>\n",
       "    <tr>\n",
       "      <th>117</th>\n",
       "      <td>141</td>\n",
       "      <td>LTU</td>\n",
       "      <td>Lithuania</td>\n",
       "      <td>Vilnius</td>\n",
       "      <td>Europe</td>\n",
       "      <td>2750055</td>\n",
       "      <td>2820267</td>\n",
       "      <td>2963765</td>\n",
       "      <td>3139019</td>\n",
       "      <td>3599637</td>\n",
       "      <td>3785847</td>\n",
       "      <td>3521206</td>\n",
       "      <td>3210147</td>\n",
       "      <td>65300</td>\n",
       "      <td>42.1142</td>\n",
       "      <td>0.9869</td>\n",
       "      <td>0.03</td>\n",
       "    </tr>\n",
       "    <tr>\n",
       "      <th>220</th>\n",
       "      <td>21</td>\n",
       "      <td>GBR</td>\n",
       "      <td>United Kingdom</td>\n",
       "      <td>London</td>\n",
       "      <td>Europe</td>\n",
       "      <td>67508936</td>\n",
       "      <td>67059474</td>\n",
       "      <td>65224364</td>\n",
       "      <td>62760039</td>\n",
       "      <td>58850043</td>\n",
       "      <td>57210442</td>\n",
       "      <td>56326328</td>\n",
       "      <td>55650166</td>\n",
       "      <td>242900</td>\n",
       "      <td>277.9289</td>\n",
       "      <td>1.0034</td>\n",
       "      <td>0.85</td>\n",
       "    </tr>\n",
       "    <tr>\n",
       "      <th>19</th>\n",
       "      <td>81</td>\n",
       "      <td>BEL</td>\n",
       "      <td>Belgium</td>\n",
       "      <td>Brussels</td>\n",
       "      <td>Europe</td>\n",
       "      <td>11655930</td>\n",
       "      <td>11561717</td>\n",
       "      <td>11248303</td>\n",
       "      <td>10877947</td>\n",
       "      <td>10264343</td>\n",
       "      <td>9959560</td>\n",
       "      <td>9828986</td>\n",
       "      <td>9629376</td>\n",
       "      <td>30528</td>\n",
       "      <td>381.8111</td>\n",
       "      <td>1.0038</td>\n",
       "      <td>0.15</td>\n",
       "    </tr>\n",
       "    <tr>\n",
       "      <th>112</th>\n",
       "      <td>119</td>\n",
       "      <td>LBN</td>\n",
       "      <td>Lebanon</td>\n",
       "      <td>Beirut</td>\n",
       "      <td>Asia</td>\n",
       "      <td>5489739</td>\n",
       "      <td>5662923</td>\n",
       "      <td>6398940</td>\n",
       "      <td>4995800</td>\n",
       "      <td>4320642</td>\n",
       "      <td>3593700</td>\n",
       "      <td>2963702</td>\n",
       "      <td>2381791</td>\n",
       "      <td>10452</td>\n",
       "      <td>525.2334</td>\n",
       "      <td>0.9816</td>\n",
       "      <td>0.07</td>\n",
       "    </tr>\n",
       "    <tr>\n",
       "      <th>88</th>\n",
       "      <td>89</td>\n",
       "      <td>HND</td>\n",
       "      <td>Honduras</td>\n",
       "      <td>Tegucigalpa</td>\n",
       "      <td>North America</td>\n",
       "      <td>10432860</td>\n",
       "      <td>10121763</td>\n",
       "      <td>9294505</td>\n",
       "      <td>8450933</td>\n",
       "      <td>6656725</td>\n",
       "      <td>5053234</td>\n",
       "      <td>3777990</td>\n",
       "      <td>2782753</td>\n",
       "      <td>112492</td>\n",
       "      <td>92.7431</td>\n",
       "      <td>1.0150</td>\n",
       "      <td>0.13</td>\n",
       "    </tr>\n",
       "  </tbody>\n",
       "</table>\n",
       "</div>"
      ],
      "text/plain": [
       "     Rank CCA3             Country/Territory           Capital      Continent  \\\n",
       "9     140  ARM                       Armenia           Yerevan           Asia   \n",
       "227    51  VEN                     Venezuela           Caracas  South America   \n",
       "175   190  LCA                   Saint Lucia          Castries  North America   \n",
       "189   116  SVK                      Slovakia        Bratislava         Europe   \n",
       "18     96  BLR                       Belarus             Minsk         Europe   \n",
       "73    131  GEO                       Georgia           Tbilisi           Asia   \n",
       "131    10  MEX                        Mexico       Mexico City  North America   \n",
       "173   228  BLM              Saint Barthelemy          Gustavia  North America   \n",
       "122    45  MYS                      Malaysia      Kuala Lumpur           Asia   \n",
       "113   147  LSO                       Lesotho            Maseru         Africa   \n",
       "135   134  MNG                      Mongolia       Ulaanbaatar           Asia   \n",
       "222   200  VIR  United States Virgin Islands  Charlotte Amalie  North America   \n",
       "30    108  BGR                      Bulgaria             Sofia         Europe   \n",
       "81    191  GUM                          Guam           Hagåtña        Oceania   \n",
       "145   185  NCL                 New Caledonia            Nouméa        Oceania   \n",
       "117   141  LTU                     Lithuania           Vilnius         Europe   \n",
       "220    21  GBR                United Kingdom            London         Europe   \n",
       "19     81  BEL                       Belgium          Brussels         Europe   \n",
       "112   119  LBN                       Lebanon            Beirut           Asia   \n",
       "88     89  HND                      Honduras       Tegucigalpa  North America   \n",
       "\n",
       "          2022       2020       2015       2010      2000      1990      1980  \\\n",
       "9      2780469    2805608    2878595    2946293   3168523   3556539   3135123   \n",
       "227   28301696   28490453   30529716   28715022  24427729  19750579  15210443   \n",
       "175     179857     179237     175623     170935    159500    142301    121633   \n",
       "189    5643453    5456681    5424444    5396424   5376690   5261305   4973883   \n",
       "18     9534954    9633740    9700609    9731427  10256483  10428525   9817257   \n",
       "73     3744385    3765912    3771132    3836831   4265172   5391636   5145843   \n",
       "131  127504125  125998302  120149897  112532401  97873442  81720428  67705186   \n",
       "173      10967      10681       9643       8988      7082      5168      2983   \n",
       "122   33938221   33199993   31068833   28717731  22945150  17517054  13215707   \n",
       "113    2305825    2254100    2118521    2022747   1998630   1798997   1407672   \n",
       "135    3398366    3294335    2964749    2702520   2450979   2161433   1697780   \n",
       "222      99465     100442     102803     106142    108185    100685     96640   \n",
       "30     6781953    6979175    7309253    7592273   8097691   8767778   8980606   \n",
       "81      171774     169231     167978     164905    160188    138263    110286   \n",
       "145     289950     286403     283032     261426    221537    177264    148599   \n",
       "117    2750055    2820267    2963765    3139019   3599637   3785847   3521206   \n",
       "220   67508936   67059474   65224364   62760039  58850043  57210442  56326328   \n",
       "19    11655930   11561717   11248303   10877947  10264343   9959560   9828986   \n",
       "112    5489739    5662923    6398940    4995800   4320642   3593700   2963702   \n",
       "88    10432860   10121763    9294505    8450933   6656725   5053234   3777990   \n",
       "\n",
       "         1970  Area (km²)  Density (per km²)  Growth Rate  \\\n",
       "9     2534377       29743            93.4831       0.9962   \n",
       "227  11355475      916445            30.8820       1.0036   \n",
       "175    103090         616           291.9756       1.0011   \n",
       "189   4522867       49037           115.0856       1.0359   \n",
       "18    9170786      207600            45.9295       0.9955   \n",
       "73    4800426       69700            53.7214       0.9964   \n",
       "131  50289306     1964375            64.9082       1.0063   \n",
       "173      2417          21           522.2381       1.0098   \n",
       "122  10306508      330803           102.5934       1.0109   \n",
       "113   1023481       30355            75.9620       1.0107   \n",
       "135   1293880     1564110             2.1727       1.0151   \n",
       "222     63446         347           286.6427       0.9937   \n",
       "30    8582950      110879            61.1654       0.9849   \n",
       "81      88300         549           312.8852       1.0073   \n",
       "145    110982       18575            15.6097       1.0075   \n",
       "117   3210147       65300            42.1142       0.9869   \n",
       "220  55650166      242900           277.9289       1.0034   \n",
       "19    9629376       30528           381.8111       1.0038   \n",
       "112   2381791       10452           525.2334       0.9816   \n",
       "88    2782753      112492            92.7431       1.0150   \n",
       "\n",
       "     World Population Percentage  \n",
       "9                           0.03  \n",
       "227                         0.35  \n",
       "175                         0.00  \n",
       "189                         0.07  \n",
       "18                          0.12  \n",
       "73                          0.05  \n",
       "131                         1.60  \n",
       "173                         0.00  \n",
       "122                         0.43  \n",
       "113                         0.03  \n",
       "135                         0.04  \n",
       "222                         0.00  \n",
       "30                          0.09  \n",
       "81                          0.00  \n",
       "145                         0.00  \n",
       "117                         0.03  \n",
       "220                         0.85  \n",
       "19                          0.15  \n",
       "112                         0.07  \n",
       "88                          0.13  "
      ]
     },
     "execution_count": 43,
     "metadata": {},
     "output_type": "execute_result"
    }
   ],
   "source": [
    "for col in df.columns:\n",
    "    if 'Population' and '0' in col:\n",
    "        df = df.rename(columns={col: col.split(' ')[0]})\n",
    "        \n",
    "df.sample(20)"
   ]
  },
  {
   "cell_type": "markdown",
   "metadata": {},
   "source": [
    "<h1 style=\"padding:10px;background-color:#e09f3e;margin:0;color:#250902;font-family:sans-serif;font-size:24px;text-align:center;border-radius: 50px;overflow:hidden;font-weight:700\">Dataset Shape and Checking NULL Values</h1>"
   ]
  },
  {
   "cell_type": "code",
   "execution_count": 44,
   "metadata": {},
   "outputs": [
    {
     "data": {
      "text/plain": [
       "(234, 17)"
      ]
     },
     "execution_count": 44,
     "metadata": {},
     "output_type": "execute_result"
    }
   ],
   "source": [
    "df.shape"
   ]
  },
  {
   "cell_type": "code",
   "execution_count": 45,
   "metadata": {},
   "outputs": [
    {
     "name": "stdout",
     "output_type": "stream",
     "text": [
      "<class 'pandas.core.frame.DataFrame'>\n",
      "RangeIndex: 234 entries, 0 to 233\n",
      "Data columns (total 17 columns):\n",
      " #   Column                       Non-Null Count  Dtype  \n",
      "---  ------                       --------------  -----  \n",
      " 0   Rank                         234 non-null    int64  \n",
      " 1   CCA3                         234 non-null    object \n",
      " 2   Country/Territory            234 non-null    object \n",
      " 3   Capital                      234 non-null    object \n",
      " 4   Continent                    234 non-null    object \n",
      " 5   2022                         234 non-null    int64  \n",
      " 6   2020                         234 non-null    int64  \n",
      " 7   2015                         234 non-null    int64  \n",
      " 8   2010                         234 non-null    int64  \n",
      " 9   2000                         234 non-null    int64  \n",
      " 10  1990                         234 non-null    int64  \n",
      " 11  1980                         234 non-null    int64  \n",
      " 12  1970                         234 non-null    int64  \n",
      " 13  Area (km²)                   234 non-null    int64  \n",
      " 14  Density (per km²)            234 non-null    float64\n",
      " 15  Growth Rate                  234 non-null    float64\n",
      " 16  World Population Percentage  234 non-null    float64\n",
      "dtypes: float64(3), int64(10), object(4)\n",
      "memory usage: 31.2+ KB\n"
     ]
    }
   ],
   "source": [
    "df.info()"
   ]
  },
  {
   "cell_type": "code",
   "execution_count": 46,
   "metadata": {},
   "outputs": [
    {
     "data": {
      "text/plain": [
       "Rank                           0\n",
       "CCA3                           0\n",
       "Country/Territory              0\n",
       "Capital                        0\n",
       "Continent                      0\n",
       "2022                           0\n",
       "2020                           0\n",
       "2015                           0\n",
       "2010                           0\n",
       "2000                           0\n",
       "1990                           0\n",
       "1980                           0\n",
       "1970                           0\n",
       "Area (km²)                     0\n",
       "Density (per km²)              0\n",
       "Growth Rate                    0\n",
       "World Population Percentage    0\n",
       "dtype: int64"
      ]
     },
     "execution_count": 46,
     "metadata": {},
     "output_type": "execute_result"
    }
   ],
   "source": [
    "df.isnull().sum()"
   ]
  },
  {
   "cell_type": "markdown",
   "metadata": {},
   "source": [
    "<h1 style=\"padding:10px;background-color:#e09f3e;margin:0;color:#250902;font-family:sans-serif;font-size:30px;text-align:center;border-radius: 50px;overflow:hidden;font-weight:700\">EDA : Exploratory Data Analysis</h1>"
   ]
  },
  {
   "cell_type": "markdown",
   "metadata": {},
   "source": [
    "<h1 style=\"padding:10px;background-color:#250902;margin:0;color:#e09f3e;font-family:sans-serif;font-size:24px;text-align:center;border-radius: 50px;overflow:hidden;font-weight:700\">Population by Countries in World Map View</h1>"
   ]
  },
  {
   "cell_type": "code",
   "execution_count": 47,
   "metadata": {},
   "outputs": [
    {
     "data": {
      "text/html": [
       "<div>\n",
       "<style scoped>\n",
       "    .dataframe tbody tr th:only-of-type {\n",
       "        vertical-align: middle;\n",
       "    }\n",
       "\n",
       "    .dataframe tbody tr th {\n",
       "        vertical-align: top;\n",
       "    }\n",
       "\n",
       "    .dataframe thead th {\n",
       "        text-align: right;\n",
       "    }\n",
       "</style>\n",
       "<table border=\"1\" class=\"dataframe\">\n",
       "  <thead>\n",
       "    <tr style=\"text-align: right;\">\n",
       "      <th></th>\n",
       "      <th>Country/Territory</th>\n",
       "      <th>Year</th>\n",
       "      <th>Population</th>\n",
       "    </tr>\n",
       "  </thead>\n",
       "  <tbody>\n",
       "    <tr>\n",
       "      <th>65</th>\n",
       "      <td>Faroe Islands</td>\n",
       "      <td>2022</td>\n",
       "      <td>53090</td>\n",
       "    </tr>\n",
       "    <tr>\n",
       "      <th>117</th>\n",
       "      <td>Lithuania</td>\n",
       "      <td>2022</td>\n",
       "      <td>2750055</td>\n",
       "    </tr>\n",
       "    <tr>\n",
       "      <th>54</th>\n",
       "      <td>Dominican Republic</td>\n",
       "      <td>2022</td>\n",
       "      <td>11228821</td>\n",
       "    </tr>\n",
       "    <tr>\n",
       "      <th>743</th>\n",
       "      <td>China</td>\n",
       "      <td>2000</td>\n",
       "      <td>1264099069</td>\n",
       "    </tr>\n",
       "    <tr>\n",
       "      <th>579</th>\n",
       "      <td>Latvia</td>\n",
       "      <td>2010</td>\n",
       "      <td>2101530</td>\n",
       "    </tr>\n",
       "    <tr>\n",
       "      <th>727</th>\n",
       "      <td>Bosnia and Herzegovina</td>\n",
       "      <td>2000</td>\n",
       "      <td>4179350</td>\n",
       "    </tr>\n",
       "    <tr>\n",
       "      <th>836</th>\n",
       "      <td>Monaco</td>\n",
       "      <td>2000</td>\n",
       "      <td>32465</td>\n",
       "    </tr>\n",
       "    <tr>\n",
       "      <th>975</th>\n",
       "      <td>Chad</td>\n",
       "      <td>1990</td>\n",
       "      <td>5827069</td>\n",
       "    </tr>\n",
       "    <tr>\n",
       "      <th>1415</th>\n",
       "      <td>Australia</td>\n",
       "      <td>1970</td>\n",
       "      <td>12595034</td>\n",
       "    </tr>\n",
       "    <tr>\n",
       "      <th>1553</th>\n",
       "      <td>Nigeria</td>\n",
       "      <td>1970</td>\n",
       "      <td>55569264</td>\n",
       "    </tr>\n",
       "  </tbody>\n",
       "</table>\n",
       "</div>"
      ],
      "text/plain": [
       "           Country/Territory  Year  Population\n",
       "65             Faroe Islands  2022       53090\n",
       "117                Lithuania  2022     2750055\n",
       "54        Dominican Republic  2022    11228821\n",
       "743                    China  2000  1264099069\n",
       "579                   Latvia  2010     2101530\n",
       "727   Bosnia and Herzegovina  2000     4179350\n",
       "836                   Monaco  2000       32465\n",
       "975                     Chad  1990     5827069\n",
       "1415               Australia  1970    12595034\n",
       "1553                 Nigeria  1970    55569264"
      ]
     },
     "execution_count": 47,
     "metadata": {},
     "output_type": "execute_result"
    }
   ],
   "source": [
    "population = df.melt(id_vars=['Country/Territory'], value_vars=['2022', '2020', '2010', '2000', '1990', '1980', '1970'], var_name='Year', value_name='Population')\n",
    "population = population.sort_values('Year')\n",
    "population.sample(10)"
   ]
  },
  {
   "cell_type": "code",
   "execution_count": 48,
   "metadata": {},
   "outputs": [
    {
     "data": {
      "application/vnd.plotly.v1+json": {
       "config": {
        "plotlyServerURL": "https://plot.ly"
       },
       "data": [
        {
         "coloraxis": "coloraxis",
         "geo": "geo",
         "hovertemplate": "Year=1970<br>Country/Territory=%{location}<br>Population=%{z}<extra></extra>",
         "locationmode": "country names",
         "locations": [
          "Zimbabwe",
          "Guernsey",
          "Guatemala",
          "Guam",
          "Guadeloupe",
          "Grenada",
          "Greenland",
          "Greece",
          "Gibraltar",
          "Ghana",
          "Germany",
          "Georgia",
          "Gambia",
          "Gabon",
          "French Polynesia",
          "French Guiana",
          "France",
          "Finland",
          "Fiji",
          "Faroe Islands",
          "Falkland Islands",
          "Ethiopia",
          "Eswatini",
          "Estonia",
          "Eritrea",
          "Equatorial Guinea",
          "Guinea",
          "Guinea-Bissau",
          "Guyana",
          "Haiti",
          "Lesotho",
          "Lebanon",
          "Latvia",
          "Laos",
          "Kyrgyzstan",
          "Kuwait",
          "Kiribati",
          "Kenya",
          "Kazakhstan",
          "Jordan",
          "Jersey",
          "Japan",
          "El Salvador",
          "Jamaica",
          "Italy",
          "Israel",
          "Isle of Man",
          "Ireland",
          "Iraq",
          "Iran",
          "Indonesia",
          "India",
          "Iceland",
          "Hungary",
          "Hong Kong",
          "Honduras",
          "Ivory Coast",
          "Liberia",
          "Egypt",
          "DR Congo",
          "Bolivia",
          "Bhutan",
          "Bermuda",
          "Benin",
          "Belize",
          "Belgium",
          "Belarus",
          "Barbados",
          "Bangladesh",
          "Bahrain",
          "Bahamas",
          "Azerbaijan",
          "Austria",
          "Australia",
          "Aruba",
          "Armenia",
          "Argentina",
          "Antigua and Barbuda",
          "Anguilla",
          "Angola",
          "Andorra",
          "American Samoa",
          "Algeria",
          "Albania",
          "Afghanistan",
          "Bosnia and Herzegovina",
          "Botswana",
          "Brazil",
          "British Virgin Islands",
          "Dominican Republic",
          "Dominica",
          "Djibouti",
          "Denmark",
          "Czech Republic",
          "Cyprus",
          "Curacao",
          "Cuba",
          "Croatia",
          "Costa Rica",
          "Cook Islands",
          "Comoros",
          "Ecuador",
          "Colombia",
          "Chile",
          "Chad",
          "Central African Republic",
          "Cayman Islands",
          "Cape Verde",
          "Canada",
          "Cameroon",
          "Cambodia",
          "Burundi",
          "Burkina Faso",
          "Bulgaria",
          "Brunei",
          "China",
          "Libya",
          "Zambia",
          "Lithuania",
          "Switzerland",
          "Sweden",
          "Suriname",
          "Sudan",
          "Sri Lanka",
          "Spain",
          "South Sudan",
          "South Korea",
          "South Africa",
          "Somalia",
          "Solomon Islands",
          "Slovenia",
          "Slovakia",
          "Sint Maarten",
          "Singapore",
          "Sierra Leone",
          "Seychelles",
          "Serbia",
          "Senegal",
          "Saudi Arabia",
          "Sao Tome and Principe",
          "San Marino",
          "Samoa",
          "Saint Vincent and the Grenadines",
          "Saint Pierre and Miquelon",
          "Syria",
          "Taiwan",
          "Tajikistan",
          "Tanzania",
          "Yemen",
          "Western Sahara",
          "Wallis and Futuna",
          "Vietnam",
          "Venezuela",
          "Vatican City",
          "Vanuatu",
          "Uzbekistan",
          "Uruguay",
          "United States Virgin Islands",
          "United States",
          "United Kingdom",
          "Saint Martin",
          "United Arab Emirates",
          "Uganda",
          "Tuvalu",
          "Turks and Caicos Islands",
          "Turkmenistan",
          "Turkey",
          "Tunisia",
          "Trinidad and Tobago",
          "Tonga",
          "Tokelau",
          "Togo",
          "Timor-Leste",
          "Thailand",
          "Ukraine",
          "Saint Lucia",
          "Liechtenstein",
          "Saint Barthelemy",
          "Nauru",
          "Namibia",
          "Myanmar",
          "Mozambique",
          "Morocco",
          "Montserrat",
          "Montenegro",
          "Mongolia",
          "Monaco",
          "Moldova",
          "Mexico",
          "Mayotte",
          "Mauritius",
          "Mauritania",
          "Martinique",
          "Marshall Islands",
          "Malta",
          "Mali",
          "Maldives",
          "Malaysia",
          "Malawi",
          "Madagascar",
          "Macau",
          "Luxembourg",
          "Saint Kitts and Nevis",
          "Nepal",
          "Netherlands",
          "Micronesia",
          "New Zealand",
          "New Caledonia",
          "Russia",
          "Romania",
          "Reunion",
          "Republic of the Congo",
          "Qatar",
          "Puerto Rico",
          "Portugal",
          "Philippines",
          "Peru",
          "Paraguay",
          "Papua New Guinea",
          "Panama",
          "Poland",
          "Rwanda",
          "Palestine",
          "Niger",
          "Nigeria",
          "Niue",
          "North Korea",
          "North Macedonia",
          "Nicaragua",
          "Norway",
          "Oman",
          "Pakistan",
          "Palau",
          "Northern Mariana Islands"
         ],
         "name": "",
         "type": "choropleth",
         "z": [
          5202918,
          52656,
          5453208,
          88300,
          318310,
          98794,
          45434,
          8544873,
          26685,
          8861895,
          78294583,
          4800426,
          528731,
          597192,
          117891,
          46484,
          50523586,
          4606621,
          527634,
          38416,
          2274,
          28308246,
          442865,
          1361999,
          1272748,
          316955,
          4222374,
          591663,
          705261,
          4680812,
          1023481,
          2381791,
          2397414,
          2675283,
          3016384,
          802786,
          57437,
          11473087,
          12265305,
          1557374,
          68347,
          105416839,
          3619090,
          1859091,
          53324036,
          2907307,
          55298,
          2937637,
          9811347,
          28449705,
          115228394,
          557501301,
          204468,
          10315366,
          3955072,
          2782753,
          5477086,
          1463563,
          34781986,
          20151733,
          4585693,
          298894,
          52019,
          3023443,
          120905,
          9629376,
          9170786,
          241397,
          67541860,
          222555,
          179129,
          5425317,
          7465301,
          12595034,
          59106,
          2534377,
          23842803,
          64516,
          6283,
          6029700,
          19860,
          27075,
          13795915,
          2324731,
          10752971,
          3815561,
          592244,
          96369875,
          9581,
          4475871,
          68895,
          144379,
          4922963,
          9795744,
          640804,
          150385,
          8869636,
          4492638,
          1855697,
          20470,
          242351,
          6172215,
          20905254,
          9820481,
          3667394,
          2067356,
          10533,
          287262,
          21434577,
          6452787,
          6708525,
          3497834,
          5611666,
          8582950,
          133343,
          822534450,
          1909177,
          4281671,
          3210147,
          6181227,
          8027702,
          379918,
          11305206,
          12388769,
          33792617,
          3342410,
          32601143,
          22368306,
          3720977,
          172833,
          1741286,
          4522867,
          6260,
          2061831,
          2778557,
          54379,
          7193533,
          4367744,
          6106191,
          77583,
          18169,
          142771,
          98459,
          5537,
          6319199,
          14957870,
          2993019,
          13618192,
          6843607,
          76371,
          9377,
          41928849,
          11355475,
          752,
          87019,
          12011361,
          2790265,
          63446,
          200328340,
          55650166,
          5802,
          298084,
          10317212,
          5814,
          5665,
          2201432,
          35540990,
          5047404,
          988890,
          86484,
          1714,
          2197383,
          554021,
          35791728,
          47279086,
          103090,
          21089,
          2417,
          6663,
          754467,
          27284112,
          8411676,
          15274351,
          11402,
          530268,
          1293880,
          24270,
          3711140,
          50289306,
          35383,
          830115,
          1122198,
          326428,
          23969,
          315414,
          6153587,
          123243,
          10306508,
          4625141,
          6639751,
          247284,
          339342,
          44968,
          12501285,
          13037686,
          58989,
          2824061,
          110982,
          130093010,
          19922618,
          473925,
          1396989,
          118007,
          2737619,
          8683631,
          37435586,
          13562371,
          2408787,
          2489059,
          1516188,
          32482943,
          3896367,
          1118241,
          4669708,
          55569264,
          5185,
          14996879,
          1656783,
          2444767,
          3875546,
          670693,
          59290872,
          11366,
          10143
         ]
        }
       ],
       "frames": [
        {
         "data": [
          {
           "coloraxis": "coloraxis",
           "geo": "geo",
           "hovertemplate": "Year=1970<br>Country/Territory=%{location}<br>Population=%{z}<extra></extra>",
           "locationmode": "country names",
           "locations": [
            "Zimbabwe",
            "Guernsey",
            "Guatemala",
            "Guam",
            "Guadeloupe",
            "Grenada",
            "Greenland",
            "Greece",
            "Gibraltar",
            "Ghana",
            "Germany",
            "Georgia",
            "Gambia",
            "Gabon",
            "French Polynesia",
            "French Guiana",
            "France",
            "Finland",
            "Fiji",
            "Faroe Islands",
            "Falkland Islands",
            "Ethiopia",
            "Eswatini",
            "Estonia",
            "Eritrea",
            "Equatorial Guinea",
            "Guinea",
            "Guinea-Bissau",
            "Guyana",
            "Haiti",
            "Lesotho",
            "Lebanon",
            "Latvia",
            "Laos",
            "Kyrgyzstan",
            "Kuwait",
            "Kiribati",
            "Kenya",
            "Kazakhstan",
            "Jordan",
            "Jersey",
            "Japan",
            "El Salvador",
            "Jamaica",
            "Italy",
            "Israel",
            "Isle of Man",
            "Ireland",
            "Iraq",
            "Iran",
            "Indonesia",
            "India",
            "Iceland",
            "Hungary",
            "Hong Kong",
            "Honduras",
            "Ivory Coast",
            "Liberia",
            "Egypt",
            "DR Congo",
            "Bolivia",
            "Bhutan",
            "Bermuda",
            "Benin",
            "Belize",
            "Belgium",
            "Belarus",
            "Barbados",
            "Bangladesh",
            "Bahrain",
            "Bahamas",
            "Azerbaijan",
            "Austria",
            "Australia",
            "Aruba",
            "Armenia",
            "Argentina",
            "Antigua and Barbuda",
            "Anguilla",
            "Angola",
            "Andorra",
            "American Samoa",
            "Algeria",
            "Albania",
            "Afghanistan",
            "Bosnia and Herzegovina",
            "Botswana",
            "Brazil",
            "British Virgin Islands",
            "Dominican Republic",
            "Dominica",
            "Djibouti",
            "Denmark",
            "Czech Republic",
            "Cyprus",
            "Curacao",
            "Cuba",
            "Croatia",
            "Costa Rica",
            "Cook Islands",
            "Comoros",
            "Ecuador",
            "Colombia",
            "Chile",
            "Chad",
            "Central African Republic",
            "Cayman Islands",
            "Cape Verde",
            "Canada",
            "Cameroon",
            "Cambodia",
            "Burundi",
            "Burkina Faso",
            "Bulgaria",
            "Brunei",
            "China",
            "Libya",
            "Zambia",
            "Lithuania",
            "Switzerland",
            "Sweden",
            "Suriname",
            "Sudan",
            "Sri Lanka",
            "Spain",
            "South Sudan",
            "South Korea",
            "South Africa",
            "Somalia",
            "Solomon Islands",
            "Slovenia",
            "Slovakia",
            "Sint Maarten",
            "Singapore",
            "Sierra Leone",
            "Seychelles",
            "Serbia",
            "Senegal",
            "Saudi Arabia",
            "Sao Tome and Principe",
            "San Marino",
            "Samoa",
            "Saint Vincent and the Grenadines",
            "Saint Pierre and Miquelon",
            "Syria",
            "Taiwan",
            "Tajikistan",
            "Tanzania",
            "Yemen",
            "Western Sahara",
            "Wallis and Futuna",
            "Vietnam",
            "Venezuela",
            "Vatican City",
            "Vanuatu",
            "Uzbekistan",
            "Uruguay",
            "United States Virgin Islands",
            "United States",
            "United Kingdom",
            "Saint Martin",
            "United Arab Emirates",
            "Uganda",
            "Tuvalu",
            "Turks and Caicos Islands",
            "Turkmenistan",
            "Turkey",
            "Tunisia",
            "Trinidad and Tobago",
            "Tonga",
            "Tokelau",
            "Togo",
            "Timor-Leste",
            "Thailand",
            "Ukraine",
            "Saint Lucia",
            "Liechtenstein",
            "Saint Barthelemy",
            "Nauru",
            "Namibia",
            "Myanmar",
            "Mozambique",
            "Morocco",
            "Montserrat",
            "Montenegro",
            "Mongolia",
            "Monaco",
            "Moldova",
            "Mexico",
            "Mayotte",
            "Mauritius",
            "Mauritania",
            "Martinique",
            "Marshall Islands",
            "Malta",
            "Mali",
            "Maldives",
            "Malaysia",
            "Malawi",
            "Madagascar",
            "Macau",
            "Luxembourg",
            "Saint Kitts and Nevis",
            "Nepal",
            "Netherlands",
            "Micronesia",
            "New Zealand",
            "New Caledonia",
            "Russia",
            "Romania",
            "Reunion",
            "Republic of the Congo",
            "Qatar",
            "Puerto Rico",
            "Portugal",
            "Philippines",
            "Peru",
            "Paraguay",
            "Papua New Guinea",
            "Panama",
            "Poland",
            "Rwanda",
            "Palestine",
            "Niger",
            "Nigeria",
            "Niue",
            "North Korea",
            "North Macedonia",
            "Nicaragua",
            "Norway",
            "Oman",
            "Pakistan",
            "Palau",
            "Northern Mariana Islands"
           ],
           "name": "",
           "type": "choropleth",
           "z": [
            5202918,
            52656,
            5453208,
            88300,
            318310,
            98794,
            45434,
            8544873,
            26685,
            8861895,
            78294583,
            4800426,
            528731,
            597192,
            117891,
            46484,
            50523586,
            4606621,
            527634,
            38416,
            2274,
            28308246,
            442865,
            1361999,
            1272748,
            316955,
            4222374,
            591663,
            705261,
            4680812,
            1023481,
            2381791,
            2397414,
            2675283,
            3016384,
            802786,
            57437,
            11473087,
            12265305,
            1557374,
            68347,
            105416839,
            3619090,
            1859091,
            53324036,
            2907307,
            55298,
            2937637,
            9811347,
            28449705,
            115228394,
            557501301,
            204468,
            10315366,
            3955072,
            2782753,
            5477086,
            1463563,
            34781986,
            20151733,
            4585693,
            298894,
            52019,
            3023443,
            120905,
            9629376,
            9170786,
            241397,
            67541860,
            222555,
            179129,
            5425317,
            7465301,
            12595034,
            59106,
            2534377,
            23842803,
            64516,
            6283,
            6029700,
            19860,
            27075,
            13795915,
            2324731,
            10752971,
            3815561,
            592244,
            96369875,
            9581,
            4475871,
            68895,
            144379,
            4922963,
            9795744,
            640804,
            150385,
            8869636,
            4492638,
            1855697,
            20470,
            242351,
            6172215,
            20905254,
            9820481,
            3667394,
            2067356,
            10533,
            287262,
            21434577,
            6452787,
            6708525,
            3497834,
            5611666,
            8582950,
            133343,
            822534450,
            1909177,
            4281671,
            3210147,
            6181227,
            8027702,
            379918,
            11305206,
            12388769,
            33792617,
            3342410,
            32601143,
            22368306,
            3720977,
            172833,
            1741286,
            4522867,
            6260,
            2061831,
            2778557,
            54379,
            7193533,
            4367744,
            6106191,
            77583,
            18169,
            142771,
            98459,
            5537,
            6319199,
            14957870,
            2993019,
            13618192,
            6843607,
            76371,
            9377,
            41928849,
            11355475,
            752,
            87019,
            12011361,
            2790265,
            63446,
            200328340,
            55650166,
            5802,
            298084,
            10317212,
            5814,
            5665,
            2201432,
            35540990,
            5047404,
            988890,
            86484,
            1714,
            2197383,
            554021,
            35791728,
            47279086,
            103090,
            21089,
            2417,
            6663,
            754467,
            27284112,
            8411676,
            15274351,
            11402,
            530268,
            1293880,
            24270,
            3711140,
            50289306,
            35383,
            830115,
            1122198,
            326428,
            23969,
            315414,
            6153587,
            123243,
            10306508,
            4625141,
            6639751,
            247284,
            339342,
            44968,
            12501285,
            13037686,
            58989,
            2824061,
            110982,
            130093010,
            19922618,
            473925,
            1396989,
            118007,
            2737619,
            8683631,
            37435586,
            13562371,
            2408787,
            2489059,
            1516188,
            32482943,
            3896367,
            1118241,
            4669708,
            55569264,
            5185,
            14996879,
            1656783,
            2444767,
            3875546,
            670693,
            59290872,
            11366,
            10143
           ]
          }
         ],
         "name": "1970"
        },
        {
         "data": [
          {
           "coloraxis": "coloraxis",
           "geo": "geo",
           "hovertemplate": "Year=1980<br>Country/Territory=%{location}<br>Population=%{z}<extra></extra>",
           "locationmode": "country names",
           "locations": [
            "Ghana",
            "Gibraltar",
            "Greece",
            "Greenland",
            "Grenada",
            "Guam",
            "Guatemala",
            "Guernsey",
            "Guinea",
            "Germany",
            "Guadeloupe",
            "Georgia",
            "Eritrea",
            "Gabon",
            "French Polynesia",
            "French Guiana",
            "France",
            "Finland",
            "Fiji",
            "Faroe Islands",
            "Falkland Islands",
            "Ethiopia",
            "Eswatini",
            "Estonia",
            "Guinea-Bissau",
            "Gambia",
            "Guyana",
            "Liberia",
            "Honduras",
            "Equatorial Guinea",
            "Lesotho",
            "Lebanon",
            "Latvia",
            "Laos",
            "Kyrgyzstan",
            "Kuwait",
            "Kiribati",
            "Kenya",
            "Kazakhstan",
            "Jordan",
            "Jersey",
            "Haiti",
            "Japan",
            "Ivory Coast",
            "Italy",
            "Israel",
            "Isle of Man",
            "Ireland",
            "Iraq",
            "Iran",
            "Indonesia",
            "India",
            "Iceland",
            "Hungary",
            "Hong Kong",
            "Jamaica",
            "El Salvador",
            "Brunei",
            "DR Congo",
            "Bhutan",
            "Bermuda",
            "Benin",
            "Belize",
            "Belgium",
            "Belarus",
            "Barbados",
            "Bangladesh",
            "Bahrain",
            "Bahamas",
            "Azerbaijan",
            "Austria",
            "Australia",
            "Aruba",
            "Armenia",
            "Argentina",
            "Antigua and Barbuda",
            "Anguilla",
            "Angola",
            "Andorra",
            "American Samoa",
            "Algeria",
            "Albania",
            "Afghanistan",
            "Libya",
            "Bolivia",
            "Bosnia and Herzegovina",
            "Botswana",
            "Brazil",
            "Dominican Republic",
            "Dominica",
            "Djibouti",
            "Denmark",
            "Czech Republic",
            "Cyprus",
            "Curacao",
            "Cuba",
            "Croatia",
            "Costa Rica",
            "Cook Islands",
            "Comoros",
            "Ecuador",
            "Colombia",
            "Chile",
            "Chad",
            "Central African Republic",
            "Cayman Islands",
            "Cape Verde",
            "Canada",
            "Cameroon",
            "Cambodia",
            "Burundi",
            "Burkina Faso",
            "Bulgaria",
            "British Virgin Islands",
            "China",
            "Liechtenstein",
            "Egypt",
            "Luxembourg",
            "Taiwan",
            "Syria",
            "Switzerland",
            "Sweden",
            "Suriname",
            "Sudan",
            "Sri Lanka",
            "Spain",
            "South Sudan",
            "South Korea",
            "South Africa",
            "Somalia",
            "Tajikistan",
            "Solomon Islands",
            "Slovakia",
            "Sint Maarten",
            "Singapore",
            "Sierra Leone",
            "Seychelles",
            "Serbia",
            "Senegal",
            "Saudi Arabia",
            "Sao Tome and Principe",
            "San Marino",
            "Samoa",
            "Saint Vincent and the Grenadines",
            "Slovenia",
            "Saint Pierre and Miquelon",
            "Tanzania",
            "Timor-Leste",
            "Zimbabwe",
            "Zambia",
            "Yemen",
            "Western Sahara",
            "Wallis and Futuna",
            "Vietnam",
            "Venezuela",
            "Vatican City",
            "Vanuatu",
            "Uzbekistan",
            "Uruguay",
            "United States Virgin Islands",
            "Thailand",
            "United States",
            "United Arab Emirates",
            "Ukraine",
            "Uganda",
            "Tuvalu",
            "Turks and Caicos Islands",
            "Turkmenistan",
            "Turkey",
            "Tunisia",
            "Trinidad and Tobago",
            "Tonga",
            "Tokelau",
            "Togo",
            "United Kingdom",
            "Saint Martin",
            "Lithuania",
            "Saint Lucia",
            "Netherlands",
            "Nepal",
            "Nauru",
            "Namibia",
            "Myanmar",
            "Mozambique",
            "Morocco",
            "Montserrat",
            "Montenegro",
            "Mongolia",
            "Moldova",
            "Micronesia",
            "Mexico",
            "Mayotte",
            "Mauritius",
            "Mauritania",
            "Martinique",
            "Marshall Islands",
            "Malta",
            "Mali",
            "Maldives",
            "Malaysia",
            "Malawi",
            "Madagascar",
            "Macau",
            "New Caledonia",
            "New Zealand",
            "Monaco",
            "Niger",
            "Saint Kitts and Nevis",
            "Nicaragua",
            "Saint Barthelemy",
            "Rwanda",
            "Russia",
            "Romania",
            "Reunion",
            "Republic of the Congo",
            "Qatar",
            "Portugal",
            "Poland",
            "Philippines",
            "Peru",
            "Puerto Rico",
            "Papua New Guinea",
            "Nigeria",
            "Paraguay",
            "North Korea",
            "North Macedonia",
            "Northern Mariana Islands",
            "Norway",
            "Niue",
            "Pakistan",
            "Palau",
            "Palestine",
            "Panama",
            "Oman"
           ],
           "name": "",
           "type": "choropleth",
           "z": [
            11865246,
            28734,
            9307148,
            50106,
            94838,
            110286,
            6987767,
            52860,
            4972609,
            77786703,
            334234,
            5145843,
            1657982,
            749078,
            163591,
            66825,
            53713830,
            4779418,
            644582,
            43054,
            2240,
            34945469,
            598564,
            1476983,
            831462,
            718586,
            778176,
            1932169,
            3777990,
            282509,
            1407672,
            2963702,
            2572037,
            3297519,
            3691209,
            1493870,
            60813,
            16187124,
            14172710,
            2216903,
            75124,
            5646676,
            117624196,
            8303809,
            56329482,
            3744608,
            64022,
            3391387,
            13653369,
            38520664,
            148177096,
            696828385,
            228263,
            10698679,
            4978544,
            2135546,
            4508992,
            187921,
            26708686,
            415257,
            53565,
            3833939,
            145133,
            9828986,
            9817257,
            253575,
            83929765,
            362595,
            223752,
            6383060,
            7547561,
            14706322,
            62267,
            3135123,
            28024803,
            64888,
            6560,
            8330047,
            35611,
            32886,
            18739378,
            2941651,
            12486631,
            2962720,
            5736088,
            4199820,
            938578,
            122288383,
            5755800,
            72978,
            324121,
            5125392,
            10270060,
            679327,
            156851,
            9809107,
            4680144,
            2414303,
            17651,
            328328,
            8135845,
            26176195,
            11469828,
            4408230,
            2415276,
            17100,
            317234,
            24511510,
            8519891,
            6198959,
            4312834,
            6932967,
            8980606,
            11109,
            982372466,
            25003,
            43748556,
            363741,
            18100281,
            8898954,
            6319113,
            8311763,
            375112,
            16673586,
            14943645,
            37491666,
            4192011,
            38170501,
            29463549,
            5892224,
            4045965,
            233668,
            4973883,
            12243,
            2400729,
            3367477,
            65290,
            7777010,
            5703869,
            10171710,
            97210,
            21346,
            164905,
            107480,
            1901570,
            6106,
            19297659,
            642224,
            7049926,
            5720438,
            9204938,
            116775,
            11315,
            52968270,
            15210443,
            733,
            118156,
            15947129,
            2953750,
            96640,
            45737753,
            223140018,
            1014048,
            49973920,
            13284026,
            7731,
            7598,
            2862903,
            44089069,
            6578156,
            1127852,
            96708,
            1647,
            2838110,
            56326328,
            7776,
            3521206,
            121633,
            14130387,
            15600442,
            7635,
            975994,
            33465781,
            11413587,
            19678444,
            11452,
            589324,
            1697780,
            4103240,
            76299,
            67705186,
            52233,
            954865,
            1506694,
            333786,
            31988,
            333587,
            7372581,
            164887,
            13215707,
            6267369,
            8948162,
            245332,
            148599,
            3147168,
            27076,
            6173177,
            43097,
            3303309,
            2983,
            5247532,
            138257420,
            22125224,
            551674,
            1829256,
            277450,
            9785252,
            35521429,
            48419546,
            17492406,
            3214568,
            3104788,
            72951439,
            3078912,
            17973650,
            1907023,
            17613,
            4085776,
            3637,
            80624057,
            12252,
            1453620,
            1956987,
            1017462
           ]
          }
         ],
         "name": "1980"
        },
        {
         "data": [
          {
           "coloraxis": "coloraxis",
           "geo": "geo",
           "hovertemplate": "Year=1990<br>Country/Territory=%{location}<br>Population=%{z}<extra></extra>",
           "locationmode": "country names",
           "locations": [
            "Ghana",
            "Gibraltar",
            "Greece",
            "Greenland",
            "Grenada",
            "Guam",
            "Guatemala",
            "Guernsey",
            "Guinea",
            "Germany",
            "Guadeloupe",
            "Georgia",
            "Eritrea",
            "Gabon",
            "French Polynesia",
            "French Guiana",
            "France",
            "Finland",
            "Fiji",
            "Faroe Islands",
            "Falkland Islands",
            "Ethiopia",
            "Eswatini",
            "Estonia",
            "Guinea-Bissau",
            "Gambia",
            "Guyana",
            "Liberia",
            "Honduras",
            "Equatorial Guinea",
            "Lesotho",
            "Lebanon",
            "Latvia",
            "Laos",
            "Kyrgyzstan",
            "Kuwait",
            "Kiribati",
            "Kenya",
            "Kazakhstan",
            "Jordan",
            "Jersey",
            "Haiti",
            "Japan",
            "Ivory Coast",
            "Italy",
            "Israel",
            "Isle of Man",
            "Ireland",
            "Iraq",
            "Iran",
            "Indonesia",
            "India",
            "Iceland",
            "Hungary",
            "Hong Kong",
            "Jamaica",
            "El Salvador",
            "Bulgaria",
            "Ecuador",
            "Bosnia and Herzegovina",
            "Bolivia",
            "Bhutan",
            "Bermuda",
            "Benin",
            "Belize",
            "Belgium",
            "Belarus",
            "Barbados",
            "Bangladesh",
            "Bahrain",
            "Bahamas",
            "Azerbaijan",
            "Austria",
            "Australia",
            "Aruba",
            "Armenia",
            "Argentina",
            "Antigua and Barbuda",
            "Anguilla",
            "Angola",
            "Andorra",
            "American Samoa",
            "Algeria",
            "Libya",
            "Botswana",
            "Brazil",
            "British Virgin Islands",
            "Brunei",
            "DR Congo",
            "Dominican Republic",
            "Dominica",
            "Djibouti",
            "Denmark",
            "Czech Republic",
            "Cyprus",
            "Curacao",
            "Cuba",
            "Croatia",
            "Costa Rica",
            "Cook Islands",
            "Egypt",
            "Comoros",
            "China",
            "Chile",
            "Chad",
            "Central African Republic",
            "Cayman Islands",
            "Cape Verde",
            "Canada",
            "Cameroon",
            "Cambodia",
            "Burundi",
            "Burkina Faso",
            "Afghanistan",
            "Colombia",
            "Albania",
            "Liechtenstein",
            "Luxembourg",
            "Taiwan",
            "Syria",
            "Switzerland",
            "Sweden",
            "Suriname",
            "Sudan",
            "Sri Lanka",
            "Spain",
            "South Sudan",
            "South Korea",
            "South Africa",
            "Somalia",
            "Solomon Islands",
            "Slovenia",
            "Slovakia",
            "Sint Maarten",
            "Singapore",
            "Sierra Leone",
            "Seychelles",
            "Serbia",
            "Senegal",
            "Saudi Arabia",
            "Sao Tome and Principe",
            "San Marino",
            "Samoa",
            "Tajikistan",
            "Tanzania",
            "Thailand",
            "Timor-Leste",
            "Lithuania",
            "Zimbabwe",
            "Yemen",
            "Western Sahara",
            "Wallis and Futuna",
            "Vietnam",
            "Venezuela",
            "Vatican City",
            "Vanuatu",
            "Uzbekistan",
            "Uruguay",
            "United States Virgin Islands",
            "Saint Vincent and the Grenadines",
            "United States",
            "United Arab Emirates",
            "Ukraine",
            "Uganda",
            "Tuvalu",
            "Turks and Caicos Islands",
            "Turkmenistan",
            "Turkey",
            "Tunisia",
            "Trinidad and Tobago",
            "Tonga",
            "Tokelau",
            "Togo",
            "United Kingdom",
            "Saint Pierre and Miquelon",
            "Zambia",
            "Saint Lucia",
            "Netherlands",
            "Nepal",
            "Nauru",
            "Namibia",
            "Myanmar",
            "Mozambique",
            "Morocco",
            "Montserrat",
            "Montenegro",
            "Mongolia",
            "Monaco",
            "Moldova",
            "New Caledonia",
            "Micronesia",
            "Mayotte",
            "Mauritius",
            "Mauritania",
            "Martinique",
            "Marshall Islands",
            "Malta",
            "Mali",
            "Maldives",
            "Malaysia",
            "Malawi",
            "Madagascar",
            "Saint Martin",
            "Mexico",
            "New Zealand",
            "Macau",
            "Niger",
            "Nicaragua",
            "Saint Kitts and Nevis",
            "Saint Barthelemy",
            "Rwanda",
            "Russia",
            "Romania",
            "Reunion",
            "Republic of the Congo",
            "Puerto Rico",
            "Portugal",
            "Poland",
            "Philippines",
            "Peru",
            "Qatar",
            "Papua New Guinea",
            "Nigeria",
            "Paraguay",
            "North Korea",
            "North Macedonia",
            "Northern Mariana Islands",
            "Norway",
            "Niue",
            "Pakistan",
            "Palau",
            "Palestine",
            "Panama",
            "Oman"
           ],
           "name": "",
           "type": "choropleth",
           "z": [
            15446982,
            27317,
            10302255,
            55599,
            99047,
            138263,
            9084780,
            57727,
            6354145,
            79370196,
            391951,
            5391636,
            2149960,
            983028,
            211089,
            113931,
            56412897,
            4986545,
            780430,
            47479,
            2332,
            47878073,
            854011,
            1570674,
            973551,
            1040616,
            747116,
            2209731,
            5053234,
            465549,
            1798997,
            3593700,
            2689391,
            4314443,
            4394734,
            1674938,
            75124,
            23162269,
            16866563,
            3480587,
            82874,
            6925331,
            123686321,
            11910540,
            56756561,
            4803254,
            68865,
            3485374,
            17658381,
            55793629,
            182159874,
            870452165,
            255019,
            10375989,
            5838574,
            2392030,
            5367179,
            8767778,
            10449837,
            4494310,
            7096194,
            558442,
            57470,
            5133419,
            182589,
            9959560,
            10428525,
            258868,
            107147651,
            517418,
            270679,
            7427836,
            7678729,
            17048003,
            65712,
            3556539,
            32637657,
            63328,
            8316,
            11828638,
            53569,
            47818,
            25518074,
            4236983,
            1341474,
            150706446,
            15617,
            261928,
            35987541,
            7129004,
            69481,
            577173,
            5144623,
            10301192,
            788500,
            155446,
            10626680,
            4873707,
            3158253,
            17123,
            57214630,
            431119,
            1153704252,
            13342868,
            5827069,
            2809221,
            26027,
            364563,
            27657204,
            11430520,
            8910808,
            5483793,
            9131361,
            10694796,
            32601393,
            3295066,
            28765,
            381267,
            20586174,
            12408996,
            6711693,
            8548406,
            412756,
            21090886,
            17204094,
            38889889,
            4750817,
            44120039,
            39877570,
            6999096,
            324171,
            1986024,
            5261305,
            27845,
            3022209,
            4325388,
            71057,
            7987529,
            7536001,
            16004763,
            120343,
            23132,
            168186,
            5417860,
            26206012,
            55228410,
            758106,
            3785847,
            10113893,
            13375121,
            178529,
            13454,
            66912613,
            19750579,
            700,
            150882,
            20579100,
            3117012,
            100685,
            112487,
            248083732,
            1900151,
            51589817,
            17586630,
            9182,
            11709,
            3720278,
            54324142,
            8440023,
            1266518,
            98727,
            1669,
            3875947,
            57210442,
            6324,
            7686401,
            142301,
            14944548,
            19616530,
            9598,
            1369011,
            40099553,
            13303459,
            24570814,
            10805,
            621442,
            2161433,
            30329,
            4480199,
            177264,
            98603,
            92659,
            1090290,
            2006027,
            374271,
            46047,
            365392,
            8945026,
            224957,
            17517054,
            9539665,
            11882762,
            28127,
            81720428,
            3397389,
            350227,
            8370647,
            4227820,
            40636,
            5168,
            7319962,
            148005704,
            22836234,
            658992,
            2385435,
            3543776,
            10007346,
            38064255,
            61558898,
            22109099,
            441675,
            3864972,
            95214257,
            4059195,
            20799523,
            2044174,
            48002,
            4241636,
            2533,
            115414069,
            15293,
            2124609,
            2449968,
            1804524
           ]
          }
         ],
         "name": "1990"
        },
        {
         "data": [
          {
           "coloraxis": "coloraxis",
           "geo": "geo",
           "hovertemplate": "Year=2000<br>Country/Territory=%{location}<br>Population=%{z}<extra></extra>",
           "locationmode": "country names",
           "locations": [
            "Palau",
            "Niger",
            "Nigeria",
            "Niue",
            "North Korea",
            "North Macedonia",
            "Northern Mariana Islands",
            "Norway",
            "Oman",
            "Pakistan",
            "Palestine",
            "Russia",
            "Papua New Guinea",
            "Paraguay",
            "Peru",
            "Philippines",
            "Poland",
            "Portugal",
            "Puerto Rico",
            "Qatar",
            "Republic of the Congo",
            "Reunion",
            "Romania",
            "Nicaragua",
            "Rwanda",
            "Panama",
            "New Zealand",
            "Moldova",
            "Netherlands",
            "Luxembourg",
            "Saint Barthelemy",
            "Macau",
            "Madagascar",
            "Malawi",
            "Malaysia",
            "Maldives",
            "Mali",
            "Malta",
            "Marshall Islands",
            "Martinique",
            "Mauritania",
            "New Caledonia",
            "Mauritius",
            "Mexico",
            "Micronesia",
            "Monaco",
            "Mongolia",
            "Montenegro",
            "Montserrat",
            "Morocco",
            "Mozambique",
            "Myanmar",
            "Namibia",
            "Nauru",
            "Nepal",
            "Mayotte",
            "Saint Kitts and Nevis",
            "Taiwan",
            "Saint Martin",
            "Togo",
            "Tokelau",
            "Tonga",
            "Trinidad and Tobago",
            "Tunisia",
            "Turkey",
            "Turkmenistan",
            "Turks and Caicos Islands",
            "Tuvalu",
            "Uganda",
            "Ukraine",
            "United Arab Emirates",
            "Timor-Leste",
            "United Kingdom",
            "United States Virgin Islands",
            "Uruguay",
            "Uzbekistan",
            "Vanuatu",
            "Vatican City",
            "Venezuela",
            "Vietnam",
            "Wallis and Futuna",
            "Western Sahara",
            "Yemen",
            "Zambia",
            "Lithuania",
            "United States",
            "Saint Lucia",
            "Thailand",
            "Tajikistan",
            "Saint Pierre and Miquelon",
            "Saint Vincent and the Grenadines",
            "Samoa",
            "San Marino",
            "Sao Tome and Principe",
            "Saudi Arabia",
            "Senegal",
            "Serbia",
            "Seychelles",
            "Sierra Leone",
            "Singapore",
            "Sint Maarten",
            "Tanzania",
            "Slovakia",
            "Solomon Islands",
            "Somalia",
            "South Africa",
            "South Korea",
            "South Sudan",
            "Spain",
            "Sri Lanka",
            "Sudan",
            "Suriname",
            "Sweden",
            "Switzerland",
            "Syria",
            "Slovenia",
            "Zimbabwe",
            "Liechtenstein",
            "Liberia",
            "Bulgaria",
            "Burkina Faso",
            "Burundi",
            "Cambodia",
            "Cameroon",
            "Canada",
            "Cape Verde",
            "Cayman Islands",
            "Central African Republic",
            "Chad",
            "Chile",
            "China",
            "Colombia",
            "Comoros",
            "Cook Islands",
            "Costa Rica",
            "Croatia",
            "Cuba",
            "Curacao",
            "Cyprus",
            "Czech Republic",
            "Denmark",
            "Djibouti",
            "Dominica",
            "Dominican Republic",
            "Brunei",
            "British Virgin Islands",
            "Brazil",
            "Botswana",
            "Afghanistan",
            "Albania",
            "Algeria",
            "American Samoa",
            "Andorra",
            "Angola",
            "Anguilla",
            "Antigua and Barbuda",
            "Argentina",
            "Armenia",
            "Aruba",
            "Australia",
            "DR Congo",
            "Austria",
            "Bahamas",
            "Bahrain",
            "Bangladesh",
            "Barbados",
            "Belarus",
            "Belgium",
            "Belize",
            "Benin",
            "Bermuda",
            "Bhutan",
            "Bolivia",
            "Bosnia and Herzegovina",
            "Azerbaijan",
            "Ecuador",
            "Libya",
            "El Salvador",
            "Hong Kong",
            "Hungary",
            "Iceland",
            "India",
            "Indonesia",
            "Iran",
            "Iraq",
            "Ireland",
            "Isle of Man",
            "Israel",
            "Ivory Coast",
            "Jamaica",
            "Japan",
            "Jersey",
            "Jordan",
            "Kazakhstan",
            "Kenya",
            "Kiribati",
            "Kuwait",
            "Kyrgyzstan",
            "Laos",
            "Latvia",
            "Lebanon",
            "Lesotho",
            "Egypt",
            "Honduras",
            "Haiti",
            "Italy",
            "Guinea-Bissau",
            "Guyana",
            "Eritrea",
            "Estonia",
            "Eswatini",
            "Ethiopia",
            "Falkland Islands",
            "Faroe Islands",
            "Fiji",
            "France",
            "French Guiana",
            "French Polynesia",
            "Gabon",
            "Gambia",
            "Finland",
            "Equatorial Guinea",
            "Georgia",
            "Guernsey",
            "Guatemala",
            "Guam",
            "Guadeloupe",
            "Grenada",
            "Guinea",
            "Greece",
            "Gibraltar",
            "Ghana",
            "Germany",
            "Greenland"
           ],
           "name": "",
           "type": "choropleth",
           "z": [
            19726,
            11622665,
            122851984,
            2074,
            23367059,
            2037936,
            80338,
            4491202,
            2344253,
            154369924,
            3139954,
            146844839,
            5508297,
            5123819,
            26654439,
            77958223,
            38504431,
            10300626,
            3827108,
            645937,
            3134030,
            785424,
            21919876,
            5123222,
            8109989,
            3001731,
            3855266,
            4251573,
            15899135,
            435628,
            7082,
            431896,
            16216431,
            11229387,
            22945150,
            282507,
            11239101,
            399212,
            54224,
            432543,
            2695003,
            221537,
            1215930,
            97873442,
            111709,
            32465,
            2450979,
            633324,
            5138,
            28554415,
            17768505,
            45538332,
            1819141,
            10377,
            24559500,
            159215,
            45461,
            22194731,
            29610,
            5008035,
            1666,
            102603,
            1332203,
            9893316,
            64113547,
            4569132,
            18744,
            9638,
            24020697,
            48879755,
            3275333,
            878360,
            58850043,
            108185,
            3292224,
            24925554,
            192074,
            651,
            24427729,
            79001142,
            14723,
            270375,
            18628700,
            9891136,
            3599637,
            282398554,
            159500,
            63066603,
            6272998,
            6274,
            113813,
            184008,
            26823,
            143714,
            21547390,
            9704287,
            7935022,
            80060,
            4584067,
            4053602,
            30489,
            34463704,
            5376690,
            429978,
            8721465,
            46813266,
            46788591,
            6114440,
            40741651,
            18776371,
            26298773,
            478998,
            8871043,
            7182059,
            16307654,
            1984339,
            11834676,
            33026,
            2895224,
            8097691,
            11882888,
            6307659,
            12118841,
            15091594,
            30683313,
            458251,
            39658,
            3759170,
            8259137,
            15351799,
            1264099069,
            39215135,
            536758,
            15897,
            3979193,
            4548434,
            11105791,
            141424,
            948237,
            10234710,
            5340655,
            742033,
            68346,
            8540791,
            333926,
            20104,
            175873720,
            1726985,
            19542982,
            3182021,
            30774621,
            58230,
            66097,
            16394062,
            11047,
            75055,
            37070774,
            3168523,
            89101,
            19017963,
            48616317,
            8010428,
            325014,
            711442,
            129193327,
            264657,
            10256483,
            10264343,
            240406,
            6998023,
            61371,
            587207,
            8592656,
            4179350,
            8190337,
            12626507,
            5154790,
            5958482,
            6731195,
            10202055,
            281462,
            1059633675,
            214072421,
            65544383,
            24628858,
            3768950,
            75562,
            6116958,
            16799670,
            2612205,
            126803861,
            86192,
            5056174,
            15236253,
            30851606,
            88826,
            1934901,
            4935182,
            5430853,
            2392530,
            4320642,
            1998630,
            71371371,
            6656725,
            8360225,
            56966397,
            1230849,
            759051,
            2392880,
            1396877,
            1030496,
            67031867,
            3080,
            45660,
            832509,
            58665453,
            164351,
            250927,
            1272935,
            1437539,
            5176209,
            684977,
            4265172,
            59114,
            11735894,
            160188,
            424067,
            107432,
            8336967,
            11038109,
            27741,
            19665502,
            81551677,
            56184
           ]
          }
         ],
         "name": "2000"
        },
        {
         "data": [
          {
           "coloraxis": "coloraxis",
           "geo": "geo",
           "hovertemplate": "Year=2010<br>Country/Territory=%{location}<br>Population=%{z}<extra></extra>",
           "locationmode": "country names",
           "locations": [
            "Germany",
            "Ghana",
            "Gibraltar",
            "Greece",
            "Greenland",
            "Guadeloupe",
            "Guam",
            "Guatemala",
            "Guernsey",
            "Georgia",
            "Grenada",
            "Gambia",
            "Equatorial Guinea",
            "French Polynesia",
            "French Guiana",
            "France",
            "Finland",
            "Fiji",
            "Faroe Islands",
            "Falkland Islands",
            "Ethiopia",
            "Eswatini",
            "Estonia",
            "Eritrea",
            "Guinea",
            "Gabon",
            "Guinea-Bissau",
            "Lesotho",
            "Haiti",
            "El Salvador",
            "Lebanon",
            "Latvia",
            "Laos",
            "Kyrgyzstan",
            "Kuwait",
            "Kiribati",
            "Kenya",
            "Kazakhstan",
            "Jordan",
            "Jersey",
            "Japan",
            "Guyana",
            "Jamaica",
            "Italy",
            "Israel",
            "Isle of Man",
            "Ireland",
            "Iraq",
            "Iran",
            "Indonesia",
            "India",
            "Iceland",
            "Hungary",
            "Hong Kong",
            "Honduras",
            "Ivory Coast",
            "Egypt",
            "Brunei",
            "DR Congo",
            "Bhutan",
            "Bermuda",
            "Benin",
            "Belize",
            "Belgium",
            "Belarus",
            "Barbados",
            "Bangladesh",
            "Bahrain",
            "Bahamas",
            "Azerbaijan",
            "Austria",
            "Australia",
            "Aruba",
            "Armenia",
            "Argentina",
            "Antigua and Barbuda",
            "Anguilla",
            "Angola",
            "Andorra",
            "American Samoa",
            "Algeria",
            "Albania",
            "Afghanistan",
            "Liberia",
            "Bolivia",
            "Bosnia and Herzegovina",
            "Botswana",
            "Brazil",
            "Dominican Republic",
            "Dominica",
            "Djibouti",
            "Denmark",
            "Czech Republic",
            "Cyprus",
            "Curacao",
            "Cuba",
            "Croatia",
            "Costa Rica",
            "Cook Islands",
            "Comoros",
            "Ecuador",
            "Colombia",
            "Chile",
            "Chad",
            "Central African Republic",
            "Cayman Islands",
            "Cape Verde",
            "Canada",
            "Cameroon",
            "Cambodia",
            "Burundi",
            "Burkina Faso",
            "Bulgaria",
            "British Virgin Islands",
            "China",
            "Libya",
            "Liechtenstein",
            "Lithuania",
            "Syria",
            "Switzerland",
            "Sweden",
            "Suriname",
            "Sudan",
            "Sri Lanka",
            "Spain",
            "South Sudan",
            "South Korea",
            "South Africa",
            "Somalia",
            "Solomon Islands",
            "Slovenia",
            "Slovakia",
            "Sint Maarten",
            "Singapore",
            "Sierra Leone",
            "Seychelles",
            "Serbia",
            "Senegal",
            "Saudi Arabia",
            "Sao Tome and Principe",
            "San Marino",
            "Samoa",
            "Saint Vincent and the Grenadines",
            "Zimbabwe",
            "Tajikistan",
            "Tanzania",
            "Thailand",
            "Zambia",
            "Yemen",
            "Western Sahara",
            "Wallis and Futuna",
            "Vietnam",
            "Venezuela",
            "Vatican City",
            "Vanuatu",
            "Uzbekistan",
            "Uruguay",
            "United States Virgin Islands",
            "United States",
            "Saint Pierre and Miquelon",
            "United Kingdom",
            "Ukraine",
            "Uganda",
            "Tuvalu",
            "Turks and Caicos Islands",
            "Turkmenistan",
            "Turkey",
            "Tunisia",
            "Trinidad and Tobago",
            "Tonga",
            "Tokelau",
            "Togo",
            "Timor-Leste",
            "United Arab Emirates",
            "Saint Martin",
            "Taiwan",
            "Saint Kitts and Nevis",
            "Nepal",
            "Nauru",
            "Namibia",
            "Myanmar",
            "Mozambique",
            "Morocco",
            "Montserrat",
            "Montenegro",
            "Mongolia",
            "Monaco",
            "Moldova",
            "Micronesia",
            "Netherlands",
            "Mexico",
            "Mauritius",
            "Mauritania",
            "Martinique",
            "Marshall Islands",
            "Malta",
            "Mali",
            "Maldives",
            "Malaysia",
            "Malawi",
            "Madagascar",
            "Macau",
            "Saint Lucia",
            "Mayotte",
            "New Caledonia",
            "Luxembourg",
            "Nicaragua",
            "Saint Barthelemy",
            "Rwanda",
            "Russia",
            "Romania",
            "Reunion",
            "Republic of the Congo",
            "Qatar",
            "New Zealand",
            "Portugal",
            "Poland",
            "Philippines",
            "Peru",
            "Paraguay",
            "Puerto Rico",
            "Panama",
            "Papua New Guinea",
            "Niger",
            "Nigeria",
            "Niue",
            "North Macedonia",
            "North Korea",
            "Norway",
            "Oman",
            "Pakistan",
            "Palau",
            "Palestine",
            "Northern Mariana Islands"
           ],
           "name": "",
           "type": "choropleth",
           "z": [
            81325090,
            25574719,
            31262,
            11033783,
            56351,
            403072,
            164905,
            14543121,
            60782,
            3836831,
            114039,
            1937275,
            1094524,
            283788,
            228453,
            62444567,
            5363271,
            905169,
            48410,
            3187,
            89237791,
            1099920,
            1331535,
            3147727,
            10270728,
            1711105,
            1567220,
            2022747,
            9842880,
            6114034,
            4995800,
            2101530,
            6323418,
            5483774,
            2943356,
            107995,
            41517895,
            16627837,
            6931258,
            96151,
            128105431,
            747932,
            2733896,
            59822450,
            7328445,
            83828,
            4524585,
            31264875,
            75373855,
            244016173,
            1240613620,
            318333,
            9986825,
            7132438,
            8450933,
            21120042,
            87252413,
            396053,
            66391257,
            705516,
            63447,
            9445710,
            322106,
            10877947,
            9731427,
            274711,
            148391139,
            1213645,
            373272,
            9237202,
            8362829,
            22019168,
            100341,
            2946293,
            41100123,
            85695,
            13172,
            23364185,
            71519,
            54849,
            35856344,
            2913399,
            28189672,
            4019956,
            10223270,
            3811088,
            2091664,
            196353492,
            9775755,
            68755,
            919199,
            5550849,
            10464749,
            1129686,
            159380,
            11290417,
            4368682,
            4622252,
            17212,
            656024,
            14989585,
            44816108,
            17004162,
            11894727,
            4660067,
            54074,
            521212,
            33963412,
            19878036,
            14363532,
            9126605,
            16116845,
            7592273,
            27556,
            1348191368,
            6491988,
            35926,
            3139019,
            22337563,
            7822435,
            9381729,
            546080,
            33739933,
            20668557,
            46572772,
            9714419,
            48813042,
            51784921,
            12026649,
            540394,
            2057286,
            5396424,
            33034,
            5163590,
            6436698,
            92409,
            7653748,
            12530121,
            29411929,
            182138,
            31608,
            194672,
            109308,
            12839771,
            7621779,
            45110527,
            68270489,
            13792086,
            24743946,
            413296,
            13142,
            87411012,
            28715022,
            596,
            245453,
            28614227,
            3352651,
            106142,
            311182845,
            6052,
            62760039,
            45683020,
            32341728,
            10550,
            29726,
            5267970,
            73195345,
            10895063,
            1410296,
            107383,
            1367,
            6571855,
            1088486,
            8481771,
            36458,
            23083083,
            47403,
            27161567,
            10241,
            2099271,
            49390988,
            23073723,
            32464865,
            4938,
            631044,
            2702520,
            33178,
            3678186,
            107588,
            16617116,
            112532401,
            1283330,
            3419461,
            392181,
            53416,
            418755,
            15529181,
            361575,
            28717731,
            14718422,
            21731053,
            557297,
            170935,
            211786,
            261426,
            507070,
            5855734,
            8988,
            10309031,
            143242599,
            20335211,
            890130,
            4437884,
            1713504,
            4346338,
            10588401,
            38597353,
            94636700,
            29229572,
            5768613,
            3717922,
            3623617,
            7583269,
            16647543,
            160952853,
            1812,
            2093828,
            24686435,
            4889741,
            2881914,
            194454498,
            18540,
            3992278,
            54087
           ]
          }
         ],
         "name": "2010"
        },
        {
         "data": [
          {
           "coloraxis": "coloraxis",
           "geo": "geo",
           "hovertemplate": "Year=2020<br>Country/Territory=%{location}<br>Population=%{z}<extra></extra>",
           "locationmode": "country names",
           "locations": [
            "Gibraltar",
            "Georgia",
            "Germany",
            "Ghana",
            "Greece",
            "Guernsey",
            "Grenada",
            "Guadeloupe",
            "Guam",
            "Guatemala",
            "Greenland",
            "Gambia",
            "Equatorial Guinea",
            "French Polynesia",
            "French Guiana",
            "France",
            "Finland",
            "Fiji",
            "Faroe Islands",
            "Falkland Islands",
            "Ethiopia",
            "Eswatini",
            "Estonia",
            "Eritrea",
            "Guinea",
            "Gabon",
            "Guinea-Bissau",
            "Italy",
            "Haiti",
            "Lesotho",
            "Lebanon",
            "Latvia",
            "Laos",
            "Kyrgyzstan",
            "Kuwait",
            "Kiribati",
            "Kenya",
            "Kazakhstan",
            "Jordan",
            "Jersey",
            "Japan",
            "Jamaica",
            "Ivory Coast",
            "Israel",
            "Isle of Man",
            "Ireland",
            "Iraq",
            "Iran",
            "Indonesia",
            "India",
            "Iceland",
            "Hungary",
            "Hong Kong",
            "Honduras",
            "Guyana",
            "El Salvador",
            "Afghanistan",
            "Ecuador",
            "Bosnia and Herzegovina",
            "Bolivia",
            "Bhutan",
            "Bermuda",
            "Benin",
            "Belize",
            "Belgium",
            "Belarus",
            "Barbados",
            "Bangladesh",
            "Bahrain",
            "Bahamas",
            "Botswana",
            "Azerbaijan",
            "Australia",
            "Aruba",
            "Armenia",
            "Argentina",
            "Antigua and Barbuda",
            "Anguilla",
            "Angola",
            "Andorra",
            "American Samoa",
            "Algeria",
            "Albania",
            "Liberia",
            "Austria",
            "Egypt",
            "Brazil",
            "Brunei",
            "DR Congo",
            "Dominican Republic",
            "Dominica",
            "Djibouti",
            "Denmark",
            "Czech Republic",
            "Cyprus",
            "Curacao",
            "Cuba",
            "Croatia",
            "Costa Rica",
            "Cook Islands",
            "British Virgin Islands",
            "Comoros",
            "China",
            "Chile",
            "Chad",
            "Central African Republic",
            "Cayman Islands",
            "Cape Verde",
            "Canada",
            "Cameroon",
            "Cambodia",
            "Burundi",
            "Burkina Faso",
            "Bulgaria",
            "Colombia",
            "Libya",
            "Saint Kitts and Nevis",
            "Lithuania",
            "Taiwan",
            "Syria",
            "Switzerland",
            "Sweden",
            "Suriname",
            "Sudan",
            "Sri Lanka",
            "Spain",
            "South Sudan",
            "South Korea",
            "South Africa",
            "Somalia",
            "Solomon Islands",
            "Slovenia",
            "Slovakia",
            "Sint Maarten",
            "Singapore",
            "Sierra Leone",
            "Seychelles",
            "Serbia",
            "Senegal",
            "Saudi Arabia",
            "Sao Tome and Principe",
            "San Marino",
            "Samoa",
            "Liechtenstein",
            "Tanzania",
            "Thailand",
            "Timor-Leste",
            "Zimbabwe",
            "Zambia",
            "Yemen",
            "Western Sahara",
            "Wallis and Futuna",
            "Vietnam",
            "Venezuela",
            "Vatican City",
            "Vanuatu",
            "Uzbekistan",
            "Uruguay",
            "United States Virgin Islands",
            "Saint Vincent and the Grenadines",
            "United States",
            "United Arab Emirates",
            "Ukraine",
            "Uganda",
            "Tuvalu",
            "Turks and Caicos Islands",
            "Turkmenistan",
            "Turkey",
            "Tunisia",
            "Trinidad and Tobago",
            "Tonga",
            "Tokelau",
            "Togo",
            "United Kingdom",
            "Saint Pierre and Miquelon",
            "Tajikistan",
            "Saint Lucia",
            "Nepal",
            "Nauru",
            "Namibia",
            "Myanmar",
            "Mozambique",
            "Morocco",
            "Montserrat",
            "Montenegro",
            "Mongolia",
            "Monaco",
            "Moldova",
            "Micronesia",
            "Netherlands",
            "Mexico",
            "Mauritius",
            "Mauritania",
            "Martinique",
            "Marshall Islands",
            "Malta",
            "Mali",
            "Maldives",
            "Malaysia",
            "Malawi",
            "Madagascar",
            "Macau",
            "Saint Martin",
            "Mayotte",
            "New Caledonia",
            "Luxembourg",
            "Nicaragua",
            "Saint Barthelemy",
            "Rwanda",
            "Russia",
            "Romania",
            "Reunion",
            "Republic of the Congo",
            "Qatar",
            "New Zealand",
            "Portugal",
            "Poland",
            "Philippines",
            "Peru",
            "Paraguay",
            "Puerto Rico",
            "Panama",
            "Papua New Guinea",
            "Niger",
            "Nigeria",
            "Niue",
            "North Macedonia",
            "North Korea",
            "Norway",
            "Oman",
            "Pakistan",
            "Palau",
            "Palestine",
            "Northern Mariana Islands"
           ],
           "name": "",
           "type": "choropleth",
           "z": [
            32709,
            3765912,
            83328988,
            32180401,
            10512232,
            62794,
            123663,
            395642,
            169231,
            17362718,
            56026,
            2573995,
            1596049,
            301920,
            290969,
            64480053,
            5529468,
            920422,
            52415,
            3747,
            117190911,
            1180655,
            1329444,
            3555868,
            13205153,
            2292573,
            2015828,
            59500579,
            11306801,
            2254100,
            5662923,
            1897052,
            7319399,
            6424874,
            4360444,
            126463,
            51985780,
            18979243,
            10928721,
            108319,
            125244761,
            2820436,
            26811790,
            8757489,
            84046,
            4946119,
            42556984,
            87290193,
            271857970,
            1396387127,
            366669,
            9750573,
            7500958,
            10121763,
            797202,
            6292731,
            38972230,
            17588595,
            3318407,
            11936162,
            772506,
            64031,
            12643123,
            394921,
            11561717,
            9633740,
            280693,
            167420951,
            1477469,
            406471,
            2546402,
            10284951,
            25670051,
            106585,
            2805608,
            45036032,
            92664,
            15585,
            33428485,
            77700,
            46189,
            43451666,
            2866849,
            5087584,
            8907777,
            107465134,
            213196304,
            441725,
            92853164,
            10999664,
            71995,
            1090156,
            5825641,
            10530953,
            1237537,
            189288,
            11300698,
            4096868,
            5123105,
            17029,
            30910,
            806166,
            1424929781,
            19300315,
            16644701,
            5343020,
            67311,
            582640,
            37888705,
            26491087,
            16396860,
            12220227,
            21522626,
            6979175,
            50930662,
            6653942,
            47642,
            2820267,
            23821464,
            20772595,
            8638613,
            10368969,
            607065,
            44440486,
            21715079,
            47363807,
            10606227,
            51844690,
            58801927,
            16537016,
            691191,
            2117641,
            5456681,
            43621,
            5909869,
            8233969,
            105530,
            7358005,
            16436119,
            35997107,
            218641,
            34007,
            214929,
            38756,
            61704518,
            71475664,
            1299995,
            15669666,
            18927715,
            32284046,
            556048,
            11655,
            96648685,
            28490453,
            520,
            311685,
            33526656,
            3429086,
            100442,
            104632,
            335942003,
            9287289,
            43909666,
            44404611,
            11069,
            44276,
            6250438,
            84135428,
            12161723,
            1518147,
            105254,
            1827,
            8442580,
            67059474,
            5906,
            9543207,
            179237,
            29348627,
            12315,
            2489098,
            53423198,
            31178239,
            36688772,
            4500,
            629048,
            3294335,
            36922,
            3084847,
            112106,
            17434557,
            125998302,
            1297828,
            4498604,
            370391,
            43413,
            515357,
            21224040,
            514438,
            33199993,
            19377061,
            28225177,
            676283,
            32552,
            305587,
            286403,
            630399,
            6755895,
            10681,
            13146362,
            145617329,
            19442038,
            957822,
            5702174,
            2760385,
            5061133,
            10298192,
            38428366,
            112190977,
            33304756,
            6618695,
            3271564,
            4294396,
            9749640,
            24333639,
            208327405,
            1942,
            2111072,
            25867467,
            5379839,
            4543399,
            227196741,
            17972,
            5019401,
            49587
           ]
          }
         ],
         "name": "2020"
        },
        {
         "data": [
          {
           "coloraxis": "coloraxis",
           "geo": "geo",
           "hovertemplate": "Year=2022<br>Country/Territory=%{location}<br>Population=%{z}<extra></extra>",
           "locationmode": "country names",
           "locations": [
            "Greece",
            "Germany",
            "Ghana",
            "Gibraltar",
            "Greenland",
            "Guinea",
            "Guadeloupe",
            "Guam",
            "Guatemala",
            "Guernsey",
            "Grenada",
            "Georgia",
            "Eritrea",
            "Gabon",
            "French Polynesia",
            "French Guiana",
            "France",
            "Finland",
            "Fiji",
            "Faroe Islands",
            "Falkland Islands",
            "Ethiopia",
            "Eswatini",
            "Estonia",
            "Guinea-Bissau",
            "Gambia",
            "Guyana",
            "Ivory Coast",
            "Honduras",
            "Liberia",
            "Lesotho",
            "Lebanon",
            "Latvia",
            "Laos",
            "Kyrgyzstan",
            "Kuwait",
            "Kiribati",
            "Kenya",
            "Kazakhstan",
            "Jordan",
            "Jersey",
            "Japan",
            "Jamaica",
            "Italy",
            "Israel",
            "Isle of Man",
            "Ireland",
            "Iraq",
            "Iran",
            "Indonesia",
            "India",
            "Iceland",
            "Hungary",
            "Hong Kong",
            "Haiti",
            "Equatorial Guinea",
            "Albania",
            "Egypt",
            "Botswana",
            "Bosnia and Herzegovina",
            "Bolivia",
            "Bhutan",
            "Bermuda",
            "Benin",
            "Belize",
            "Belgium",
            "Belarus",
            "Barbados",
            "Bangladesh",
            "Bahrain",
            "Brazil",
            "Bahamas",
            "Austria",
            "Australia",
            "Aruba",
            "Armenia",
            "Argentina",
            "Antigua and Barbuda",
            "Anguilla",
            "Angola",
            "Andorra",
            "American Samoa",
            "Algeria",
            "Libya",
            "Azerbaijan",
            "El Salvador",
            "British Virgin Islands",
            "Bulgaria",
            "Ecuador",
            "DR Congo",
            "Dominican Republic",
            "Dominica",
            "Djibouti",
            "Denmark",
            "Czech Republic",
            "Cyprus",
            "Curacao",
            "Cuba",
            "Croatia",
            "Costa Rica",
            "Brunei",
            "Cook Islands",
            "Colombia",
            "China",
            "Chile",
            "Chad",
            "Central African Republic",
            "Cayman Islands",
            "Cape Verde",
            "Canada",
            "Cameroon",
            "Cambodia",
            "Burundi",
            "Burkina Faso",
            "Comoros",
            "Liechtenstein",
            "Saint Kitts and Nevis",
            "Luxembourg",
            "Taiwan",
            "Syria",
            "Switzerland",
            "Sweden",
            "Suriname",
            "Sudan",
            "Sri Lanka",
            "Spain",
            "South Sudan",
            "South Korea",
            "South Africa",
            "Somalia",
            "Solomon Islands",
            "Slovenia",
            "Slovakia",
            "Sint Maarten",
            "Singapore",
            "Sierra Leone",
            "Seychelles",
            "Serbia",
            "Senegal",
            "Saudi Arabia",
            "Sao Tome and Principe",
            "San Marino",
            "Samoa",
            "Tajikistan",
            "Tanzania",
            "Thailand",
            "Timor-Leste",
            "Zimbabwe",
            "Zambia",
            "Yemen",
            "Western Sahara",
            "Wallis and Futuna",
            "Vietnam",
            "Venezuela",
            "Vatican City",
            "Vanuatu",
            "Uzbekistan",
            "Uruguay",
            "United States Virgin Islands",
            "Saint Vincent and the Grenadines",
            "United States",
            "United Arab Emirates",
            "Ukraine",
            "Uganda",
            "Tuvalu",
            "Turks and Caicos Islands",
            "Turkmenistan",
            "Turkey",
            "Tunisia",
            "Trinidad and Tobago",
            "Tonga",
            "Tokelau",
            "Togo",
            "United Kingdom",
            "Lithuania",
            "Saint Pierre and Miquelon",
            "Saint Lucia",
            "Nepal",
            "Nauru",
            "Namibia",
            "Myanmar",
            "Mozambique",
            "Morocco",
            "Montserrat",
            "Montenegro",
            "Mongolia",
            "Monaco",
            "Moldova",
            "Micronesia",
            "Mexico",
            "Mayotte",
            "Mauritius",
            "Mauritania",
            "Martinique",
            "Marshall Islands",
            "Malta",
            "Mali",
            "Maldives",
            "Malaysia",
            "Malawi",
            "Madagascar",
            "Macau",
            "Netherlands",
            "New Caledonia",
            "New Zealand",
            "Nicaragua",
            "Saint Barthelemy",
            "Rwanda",
            "Russia",
            "Romania",
            "Reunion",
            "Republic of the Congo",
            "Qatar",
            "Puerto Rico",
            "Portugal",
            "Poland",
            "Philippines",
            "Peru",
            "Saint Martin",
            "Paraguay",
            "Panama",
            "Palestine",
            "Palau",
            "Pakistan",
            "Oman",
            "Norway",
            "Northern Mariana Islands",
            "North Macedonia",
            "North Korea",
            "Niue",
            "Nigeria",
            "Niger",
            "Papua New Guinea",
            "Afghanistan"
           ],
           "name": "",
           "type": "choropleth",
           "z": [
            10384971,
            83369843,
            33475870,
            32649,
            56466,
            13859341,
            395752,
            171774,
            17843908,
            63301,
            125438,
            3744385,
            3684032,
            2388992,
            306279,
            304557,
            64626628,
            5540745,
            929766,
            53090,
            3780,
            123379924,
            1201670,
            1326062,
            2105566,
            2705992,
            808726,
            28160542,
            10432860,
            5302681,
            2305825,
            5489739,
            1850651,
            7529475,
            6630623,
            4268873,
            131232,
            54027487,
            19397998,
            11285869,
            110778,
            123951692,
            2827377,
            59037474,
            9038309,
            84519,
            5023109,
            44496122,
            88550570,
            275501339,
            1417173173,
            372899,
            9967308,
            7488865,
            11584996,
            1674908,
            2842321,
            110990103,
            2630296,
            3233526,
            12224110,
            782455,
            64184,
            13352864,
            405272,
            11655930,
            9534954,
            281635,
            171186372,
            1472233,
            215313498,
            409984,
            8939617,
            26177413,
            106445,
            2780469,
            45510318,
            93763,
            15857,
            35588987,
            79824,
            44273,
            44903225,
            6812341,
            10358074,
            6336392,
            31305,
            6781953,
            18001000,
            99010212,
            11228821,
            72737,
            1120849,
            5882261,
            10493986,
            1251488,
            191163,
            11212191,
            4030358,
            5180829,
            449002,
            17011,
            51874024,
            1425887337,
            19603733,
            17723315,
            5579144,
            68706,
            593149,
            38454327,
            27914536,
            16767842,
            12889576,
            22673762,
            836774,
            39327,
            47657,
            647599,
            23893394,
            22125249,
            8740472,
            10549347,
            618040,
            46874204,
            21832143,
            47558630,
            10913164,
            51815810,
            59893885,
            17597511,
            724273,
            2119844,
            5643453,
            44175,
            5975689,
            8605718,
            107118,
            7221365,
            17316449,
            36408820,
            227380,
            33660,
            222382,
            9952787,
            65497748,
            71697030,
            1341296,
            16320537,
            20017675,
            33696614,
            575986,
            11572,
            98186856,
            28301696,
            510,
            326740,
            34627652,
            3422794,
            99465,
            103948,
            338289857,
            9441129,
            39701739,
            47249585,
            11312,
            45703,
            6430770,
            85341241,
            12356117,
            1531044,
            106858,
            1871,
            8848699,
            67508936,
            2750055,
            5862,
            179857,
            30547580,
            12668,
            2567012,
            54179306,
            32969517,
            37457971,
            4390,
            627082,
            3398366,
            36469,
            3272996,
            114164,
            127504125,
            326101,
            1299469,
            4736139,
            367507,
            41569,
            533286,
            22593590,
            523787,
            33938221,
            20405317,
            29611714,
            695168,
            17564014,
            289950,
            5185288,
            6948392,
            10967,
            13776698,
            144713314,
            19659267,
            974052,
            5970424,
            2695122,
            3252407,
            10270865,
            39857145,
            115559009,
            34049588,
            31791,
            6780744,
            4408581,
            5250072,
            18055,
            235824862,
            4576298,
            5434319,
            49551,
            2093599,
            26069416,
            1934,
            218541212,
            26207977,
            10142619,
            41128771
           ]
          }
         ],
         "name": "2022"
        }
       ],
       "layout": {
        "coloraxis": {
         "colorbar": {
          "title": {
           "text": "Population"
          }
         },
         "colorscale": [
          [
           0,
           "#440154"
          ],
          [
           0.1111111111111111,
           "#482878"
          ],
          [
           0.2222222222222222,
           "#3e4989"
          ],
          [
           0.3333333333333333,
           "#31688e"
          ],
          [
           0.4444444444444444,
           "#26828e"
          ],
          [
           0.5555555555555556,
           "#1f9e89"
          ],
          [
           0.6666666666666666,
           "#35b779"
          ],
          [
           0.7777777777777778,
           "#6ece58"
          ],
          [
           0.8888888888888888,
           "#b5de2b"
          ],
          [
           1,
           "#fde725"
          ]
         ]
        },
        "geo": {
         "center": {},
         "domain": {
          "x": [
           0,
           1
          ],
          "y": [
           0,
           1
          ]
         }
        },
        "height": 600,
        "legend": {
         "tracegroupgap": 0
        },
        "sliders": [
         {
          "active": 0,
          "currentvalue": {
           "prefix": "Year="
          },
          "len": 0.9,
          "pad": {
           "b": 10,
           "t": 60
          },
          "steps": [
           {
            "args": [
             [
              "1970"
             ],
             {
              "frame": {
               "duration": 0,
               "redraw": true
              },
              "fromcurrent": true,
              "mode": "immediate",
              "transition": {
               "duration": 0,
               "easing": "linear"
              }
             }
            ],
            "label": "1970",
            "method": "animate"
           },
           {
            "args": [
             [
              "1980"
             ],
             {
              "frame": {
               "duration": 0,
               "redraw": true
              },
              "fromcurrent": true,
              "mode": "immediate",
              "transition": {
               "duration": 0,
               "easing": "linear"
              }
             }
            ],
            "label": "1980",
            "method": "animate"
           },
           {
            "args": [
             [
              "1990"
             ],
             {
              "frame": {
               "duration": 0,
               "redraw": true
              },
              "fromcurrent": true,
              "mode": "immediate",
              "transition": {
               "duration": 0,
               "easing": "linear"
              }
             }
            ],
            "label": "1990",
            "method": "animate"
           },
           {
            "args": [
             [
              "2000"
             ],
             {
              "frame": {
               "duration": 0,
               "redraw": true
              },
              "fromcurrent": true,
              "mode": "immediate",
              "transition": {
               "duration": 0,
               "easing": "linear"
              }
             }
            ],
            "label": "2000",
            "method": "animate"
           },
           {
            "args": [
             [
              "2010"
             ],
             {
              "frame": {
               "duration": 0,
               "redraw": true
              },
              "fromcurrent": true,
              "mode": "immediate",
              "transition": {
               "duration": 0,
               "easing": "linear"
              }
             }
            ],
            "label": "2010",
            "method": "animate"
           },
           {
            "args": [
             [
              "2020"
             ],
             {
              "frame": {
               "duration": 0,
               "redraw": true
              },
              "fromcurrent": true,
              "mode": "immediate",
              "transition": {
               "duration": 0,
               "easing": "linear"
              }
             }
            ],
            "label": "2020",
            "method": "animate"
           },
           {
            "args": [
             [
              "2022"
             ],
             {
              "frame": {
               "duration": 0,
               "redraw": true
              },
              "fromcurrent": true,
              "mode": "immediate",
              "transition": {
               "duration": 0,
               "easing": "linear"
              }
             }
            ],
            "label": "2022",
            "method": "animate"
           }
          ],
          "x": 0.1,
          "xanchor": "left",
          "y": 0,
          "yanchor": "top"
         }
        ],
        "template": {
         "data": {
          "bar": [
           {
            "error_x": {
             "color": "#2a3f5f"
            },
            "error_y": {
             "color": "#2a3f5f"
            },
            "marker": {
             "line": {
              "color": "#E5ECF6",
              "width": 0.5
             },
             "pattern": {
              "fillmode": "overlay",
              "size": 10,
              "solidity": 0.2
             }
            },
            "type": "bar"
           }
          ],
          "barpolar": [
           {
            "marker": {
             "line": {
              "color": "#E5ECF6",
              "width": 0.5
             },
             "pattern": {
              "fillmode": "overlay",
              "size": 10,
              "solidity": 0.2
             }
            },
            "type": "barpolar"
           }
          ],
          "carpet": [
           {
            "aaxis": {
             "endlinecolor": "#2a3f5f",
             "gridcolor": "white",
             "linecolor": "white",
             "minorgridcolor": "white",
             "startlinecolor": "#2a3f5f"
            },
            "baxis": {
             "endlinecolor": "#2a3f5f",
             "gridcolor": "white",
             "linecolor": "white",
             "minorgridcolor": "white",
             "startlinecolor": "#2a3f5f"
            },
            "type": "carpet"
           }
          ],
          "choropleth": [
           {
            "colorbar": {
             "outlinewidth": 0,
             "ticks": ""
            },
            "type": "choropleth"
           }
          ],
          "contour": [
           {
            "colorbar": {
             "outlinewidth": 0,
             "ticks": ""
            },
            "colorscale": [
             [
              0,
              "#0d0887"
             ],
             [
              0.1111111111111111,
              "#46039f"
             ],
             [
              0.2222222222222222,
              "#7201a8"
             ],
             [
              0.3333333333333333,
              "#9c179e"
             ],
             [
              0.4444444444444444,
              "#bd3786"
             ],
             [
              0.5555555555555556,
              "#d8576b"
             ],
             [
              0.6666666666666666,
              "#ed7953"
             ],
             [
              0.7777777777777778,
              "#fb9f3a"
             ],
             [
              0.8888888888888888,
              "#fdca26"
             ],
             [
              1,
              "#f0f921"
             ]
            ],
            "type": "contour"
           }
          ],
          "contourcarpet": [
           {
            "colorbar": {
             "outlinewidth": 0,
             "ticks": ""
            },
            "type": "contourcarpet"
           }
          ],
          "heatmap": [
           {
            "colorbar": {
             "outlinewidth": 0,
             "ticks": ""
            },
            "colorscale": [
             [
              0,
              "#0d0887"
             ],
             [
              0.1111111111111111,
              "#46039f"
             ],
             [
              0.2222222222222222,
              "#7201a8"
             ],
             [
              0.3333333333333333,
              "#9c179e"
             ],
             [
              0.4444444444444444,
              "#bd3786"
             ],
             [
              0.5555555555555556,
              "#d8576b"
             ],
             [
              0.6666666666666666,
              "#ed7953"
             ],
             [
              0.7777777777777778,
              "#fb9f3a"
             ],
             [
              0.8888888888888888,
              "#fdca26"
             ],
             [
              1,
              "#f0f921"
             ]
            ],
            "type": "heatmap"
           }
          ],
          "heatmapgl": [
           {
            "colorbar": {
             "outlinewidth": 0,
             "ticks": ""
            },
            "colorscale": [
             [
              0,
              "#0d0887"
             ],
             [
              0.1111111111111111,
              "#46039f"
             ],
             [
              0.2222222222222222,
              "#7201a8"
             ],
             [
              0.3333333333333333,
              "#9c179e"
             ],
             [
              0.4444444444444444,
              "#bd3786"
             ],
             [
              0.5555555555555556,
              "#d8576b"
             ],
             [
              0.6666666666666666,
              "#ed7953"
             ],
             [
              0.7777777777777778,
              "#fb9f3a"
             ],
             [
              0.8888888888888888,
              "#fdca26"
             ],
             [
              1,
              "#f0f921"
             ]
            ],
            "type": "heatmapgl"
           }
          ],
          "histogram": [
           {
            "marker": {
             "pattern": {
              "fillmode": "overlay",
              "size": 10,
              "solidity": 0.2
             }
            },
            "type": "histogram"
           }
          ],
          "histogram2d": [
           {
            "colorbar": {
             "outlinewidth": 0,
             "ticks": ""
            },
            "colorscale": [
             [
              0,
              "#0d0887"
             ],
             [
              0.1111111111111111,
              "#46039f"
             ],
             [
              0.2222222222222222,
              "#7201a8"
             ],
             [
              0.3333333333333333,
              "#9c179e"
             ],
             [
              0.4444444444444444,
              "#bd3786"
             ],
             [
              0.5555555555555556,
              "#d8576b"
             ],
             [
              0.6666666666666666,
              "#ed7953"
             ],
             [
              0.7777777777777778,
              "#fb9f3a"
             ],
             [
              0.8888888888888888,
              "#fdca26"
             ],
             [
              1,
              "#f0f921"
             ]
            ],
            "type": "histogram2d"
           }
          ],
          "histogram2dcontour": [
           {
            "colorbar": {
             "outlinewidth": 0,
             "ticks": ""
            },
            "colorscale": [
             [
              0,
              "#0d0887"
             ],
             [
              0.1111111111111111,
              "#46039f"
             ],
             [
              0.2222222222222222,
              "#7201a8"
             ],
             [
              0.3333333333333333,
              "#9c179e"
             ],
             [
              0.4444444444444444,
              "#bd3786"
             ],
             [
              0.5555555555555556,
              "#d8576b"
             ],
             [
              0.6666666666666666,
              "#ed7953"
             ],
             [
              0.7777777777777778,
              "#fb9f3a"
             ],
             [
              0.8888888888888888,
              "#fdca26"
             ],
             [
              1,
              "#f0f921"
             ]
            ],
            "type": "histogram2dcontour"
           }
          ],
          "mesh3d": [
           {
            "colorbar": {
             "outlinewidth": 0,
             "ticks": ""
            },
            "type": "mesh3d"
           }
          ],
          "parcoords": [
           {
            "line": {
             "colorbar": {
              "outlinewidth": 0,
              "ticks": ""
             }
            },
            "type": "parcoords"
           }
          ],
          "pie": [
           {
            "automargin": true,
            "type": "pie"
           }
          ],
          "scatter": [
           {
            "fillpattern": {
             "fillmode": "overlay",
             "size": 10,
             "solidity": 0.2
            },
            "type": "scatter"
           }
          ],
          "scatter3d": [
           {
            "line": {
             "colorbar": {
              "outlinewidth": 0,
              "ticks": ""
             }
            },
            "marker": {
             "colorbar": {
              "outlinewidth": 0,
              "ticks": ""
             }
            },
            "type": "scatter3d"
           }
          ],
          "scattercarpet": [
           {
            "marker": {
             "colorbar": {
              "outlinewidth": 0,
              "ticks": ""
             }
            },
            "type": "scattercarpet"
           }
          ],
          "scattergeo": [
           {
            "marker": {
             "colorbar": {
              "outlinewidth": 0,
              "ticks": ""
             }
            },
            "type": "scattergeo"
           }
          ],
          "scattergl": [
           {
            "marker": {
             "colorbar": {
              "outlinewidth": 0,
              "ticks": ""
             }
            },
            "type": "scattergl"
           }
          ],
          "scattermapbox": [
           {
            "marker": {
             "colorbar": {
              "outlinewidth": 0,
              "ticks": ""
             }
            },
            "type": "scattermapbox"
           }
          ],
          "scatterpolar": [
           {
            "marker": {
             "colorbar": {
              "outlinewidth": 0,
              "ticks": ""
             }
            },
            "type": "scatterpolar"
           }
          ],
          "scatterpolargl": [
           {
            "marker": {
             "colorbar": {
              "outlinewidth": 0,
              "ticks": ""
             }
            },
            "type": "scatterpolargl"
           }
          ],
          "scatterternary": [
           {
            "marker": {
             "colorbar": {
              "outlinewidth": 0,
              "ticks": ""
             }
            },
            "type": "scatterternary"
           }
          ],
          "surface": [
           {
            "colorbar": {
             "outlinewidth": 0,
             "ticks": ""
            },
            "colorscale": [
             [
              0,
              "#0d0887"
             ],
             [
              0.1111111111111111,
              "#46039f"
             ],
             [
              0.2222222222222222,
              "#7201a8"
             ],
             [
              0.3333333333333333,
              "#9c179e"
             ],
             [
              0.4444444444444444,
              "#bd3786"
             ],
             [
              0.5555555555555556,
              "#d8576b"
             ],
             [
              0.6666666666666666,
              "#ed7953"
             ],
             [
              0.7777777777777778,
              "#fb9f3a"
             ],
             [
              0.8888888888888888,
              "#fdca26"
             ],
             [
              1,
              "#f0f921"
             ]
            ],
            "type": "surface"
           }
          ],
          "table": [
           {
            "cells": {
             "fill": {
              "color": "#EBF0F8"
             },
             "line": {
              "color": "white"
             }
            },
            "header": {
             "fill": {
              "color": "#C8D4E3"
             },
             "line": {
              "color": "white"
             }
            },
            "type": "table"
           }
          ]
         },
         "layout": {
          "annotationdefaults": {
           "arrowcolor": "#2a3f5f",
           "arrowhead": 0,
           "arrowwidth": 1
          },
          "autotypenumbers": "strict",
          "coloraxis": {
           "colorbar": {
            "outlinewidth": 0,
            "ticks": ""
           }
          },
          "colorscale": {
           "diverging": [
            [
             0,
             "#8e0152"
            ],
            [
             0.1,
             "#c51b7d"
            ],
            [
             0.2,
             "#de77ae"
            ],
            [
             0.3,
             "#f1b6da"
            ],
            [
             0.4,
             "#fde0ef"
            ],
            [
             0.5,
             "#f7f7f7"
            ],
            [
             0.6,
             "#e6f5d0"
            ],
            [
             0.7,
             "#b8e186"
            ],
            [
             0.8,
             "#7fbc41"
            ],
            [
             0.9,
             "#4d9221"
            ],
            [
             1,
             "#276419"
            ]
           ],
           "sequential": [
            [
             0,
             "#0d0887"
            ],
            [
             0.1111111111111111,
             "#46039f"
            ],
            [
             0.2222222222222222,
             "#7201a8"
            ],
            [
             0.3333333333333333,
             "#9c179e"
            ],
            [
             0.4444444444444444,
             "#bd3786"
            ],
            [
             0.5555555555555556,
             "#d8576b"
            ],
            [
             0.6666666666666666,
             "#ed7953"
            ],
            [
             0.7777777777777778,
             "#fb9f3a"
            ],
            [
             0.8888888888888888,
             "#fdca26"
            ],
            [
             1,
             "#f0f921"
            ]
           ],
           "sequentialminus": [
            [
             0,
             "#0d0887"
            ],
            [
             0.1111111111111111,
             "#46039f"
            ],
            [
             0.2222222222222222,
             "#7201a8"
            ],
            [
             0.3333333333333333,
             "#9c179e"
            ],
            [
             0.4444444444444444,
             "#bd3786"
            ],
            [
             0.5555555555555556,
             "#d8576b"
            ],
            [
             0.6666666666666666,
             "#ed7953"
            ],
            [
             0.7777777777777778,
             "#fb9f3a"
            ],
            [
             0.8888888888888888,
             "#fdca26"
            ],
            [
             1,
             "#f0f921"
            ]
           ]
          },
          "colorway": [
           "#636efa",
           "#EF553B",
           "#00cc96",
           "#ab63fa",
           "#FFA15A",
           "#19d3f3",
           "#FF6692",
           "#B6E880",
           "#FF97FF",
           "#FECB52"
          ],
          "font": {
           "color": "#2a3f5f"
          },
          "geo": {
           "bgcolor": "white",
           "lakecolor": "white",
           "landcolor": "#E5ECF6",
           "showlakes": true,
           "showland": true,
           "subunitcolor": "white"
          },
          "hoverlabel": {
           "align": "left"
          },
          "hovermode": "closest",
          "mapbox": {
           "style": "light"
          },
          "paper_bgcolor": "white",
          "plot_bgcolor": "#E5ECF6",
          "polar": {
           "angularaxis": {
            "gridcolor": "white",
            "linecolor": "white",
            "ticks": ""
           },
           "bgcolor": "#E5ECF6",
           "radialaxis": {
            "gridcolor": "white",
            "linecolor": "white",
            "ticks": ""
           }
          },
          "scene": {
           "xaxis": {
            "backgroundcolor": "#E5ECF6",
            "gridcolor": "white",
            "gridwidth": 2,
            "linecolor": "white",
            "showbackground": true,
            "ticks": "",
            "zerolinecolor": "white"
           },
           "yaxis": {
            "backgroundcolor": "#E5ECF6",
            "gridcolor": "white",
            "gridwidth": 2,
            "linecolor": "white",
            "showbackground": true,
            "ticks": "",
            "zerolinecolor": "white"
           },
           "zaxis": {
            "backgroundcolor": "#E5ECF6",
            "gridcolor": "white",
            "gridwidth": 2,
            "linecolor": "white",
            "showbackground": true,
            "ticks": "",
            "zerolinecolor": "white"
           }
          },
          "shapedefaults": {
           "line": {
            "color": "#2a3f5f"
           }
          },
          "ternary": {
           "aaxis": {
            "gridcolor": "white",
            "linecolor": "white",
            "ticks": ""
           },
           "baxis": {
            "gridcolor": "white",
            "linecolor": "white",
            "ticks": ""
           },
           "bgcolor": "#E5ECF6",
           "caxis": {
            "gridcolor": "white",
            "linecolor": "white",
            "ticks": ""
           }
          },
          "title": {
           "x": 0.05
          },
          "xaxis": {
           "automargin": true,
           "gridcolor": "white",
           "linecolor": "white",
           "ticks": "",
           "title": {
            "standoff": 15
           },
           "zerolinecolor": "white",
           "zerolinewidth": 2
          },
          "yaxis": {
           "automargin": true,
           "gridcolor": "white",
           "linecolor": "white",
           "ticks": "",
           "title": {
            "standoff": 15
           },
           "zerolinecolor": "white",
           "zerolinewidth": 2
          }
         }
        },
        "title": {
         "text": "Total Population over The World (1970-2022)"
        },
        "updatemenus": [
         {
          "buttons": [
           {
            "args": [
             null,
             {
              "frame": {
               "duration": 500,
               "redraw": true
              },
              "fromcurrent": true,
              "mode": "immediate",
              "transition": {
               "duration": 500,
               "easing": "linear"
              }
             }
            ],
            "label": "&#9654;",
            "method": "animate"
           },
           {
            "args": [
             [
              null
             ],
             {
              "frame": {
               "duration": 0,
               "redraw": true
              },
              "fromcurrent": true,
              "mode": "immediate",
              "transition": {
               "duration": 0,
               "easing": "linear"
              }
             }
            ],
            "label": "&#9724;",
            "method": "animate"
           }
          ],
          "direction": "left",
          "pad": {
           "r": 10,
           "t": 70
          },
          "showactive": false,
          "type": "buttons",
          "x": 0.1,
          "xanchor": "right",
          "y": 0,
          "yanchor": "top"
         }
        ]
       }
      }
     },
     "metadata": {},
     "output_type": "display_data"
    }
   ],
   "source": [
    "fig = px.choropleth(population, \n",
    "              locations = 'Country/Territory',\n",
    "              color=\"Population\", \n",
    "              animation_frame=\"Year\",\n",
    "              color_continuous_scale='Viridis',\n",
    "              locationmode='country names',\n",
    "              title='Total Population over The World (1970-2022)',\n",
    "              height=600\n",
    "             )\n",
    "fig.show()"
   ]
  },
  {
   "cell_type": "markdown",
   "metadata": {},
   "source": [
    "<h1 style=\"padding:10px;background-color:#250902;margin:0;color:#e09f3e;font-family:sans-serif;font-size:24px;text-align:center;border-radius: 50px;overflow:hidden;font-weight:700\">Top 5 Countries by Populations in Selected Year</h1>"
   ]
  },
  {
   "cell_type": "code",
   "execution_count": 49,
   "metadata": {},
   "outputs": [
    {
     "data": {
      "application/vnd.jupyter.widget-view+json": {
       "model_id": "6bb9f05c449e4ce8b767c12cd0011aa8",
       "version_major": 2,
       "version_minor": 0
      },
      "text/plain": [
       "interactive(children=(Dropdown(description='Year:', options=('1970', '1980', '1990', '2000', '2010', '2020', '…"
      ]
     },
     "execution_count": 49,
     "metadata": {},
     "output_type": "execute_result"
    }
   ],
   "source": [
    "data = {\n",
    "    'Country': population['Country/Territory'],\n",
    "    'Year': population['Year'],\n",
    "    'Population': population['Population']\n",
    "}\n",
    "\n",
    "new_df = pd.DataFrame(data)\n",
    "\n",
    "year_dropdown = widgets.Dropdown(\n",
    "    options=new_df['Year'].unique(),\n",
    "    description='Year:',\n",
    "    disabled=False,\n",
    ")\n",
    "\n",
    "def update_graph(selected_year):\n",
    "    filtered_data = new_df[new_df['Year'] == selected_year].sort_values(by=\"Population\", ascending=False).head(5)\n",
    "    \n",
    "    plt.figure(figsize=(12, 6))\n",
    "    bars = plt.bar(filtered_data['Country'], filtered_data['Population'] / 1e6, color='#415A77')\n",
    "    plt.title(f'Top 5 Countries by Population in {selected_year}')\n",
    "    plt.xlabel('')\n",
    "    plt.ylabel('')\n",
    "    plt.xticks(rotation=45)\n",
    "\n",
    "    for bar in bars:\n",
    "        yval = bar.get_height()\n",
    "        plt.text(bar.get_x() + bar.get_width()/2, yval, f'{yval:.2f}M', ha='center', va='bottom')\n",
    "\n",
    "    plt.grid(False)\n",
    "    plt.gca().spines['top'].set_visible(False)\n",
    "    plt.gca().spines['right'].set_visible(False)\n",
    "    plt.gca().spines['left'].set_visible(True)\n",
    "    plt.gca().spines['bottom'].set_visible(True)\n",
    "\n",
    "    plt.show()\n",
    "\n",
    "widgets.interactive(update_graph, selected_year=year_dropdown)"
   ]
  },
  {
   "cell_type": "markdown",
   "metadata": {},
   "source": [
    "<h1 style=\"padding:10px;background-color:#250902;margin:0;color:#e09f3e;font-family:sans-serif;font-size:24px;text-align:center;border-radius: 50px;overflow:hidden;font-weight:700\">Top 5 Countries by Populations Percentage in Selected Year</h1>"
   ]
  },
  {
   "cell_type": "code",
   "execution_count": 50,
   "metadata": {},
   "outputs": [
    {
     "data": {
      "application/vnd.jupyter.widget-view+json": {
       "model_id": "1182051593d640f59c1780390bac1a51",
       "version_major": 2,
       "version_minor": 0
      },
      "text/plain": [
       "interactive(children=(Dropdown(description='Year:', options=('1970', '1980', '1990', '2000', '2010', '2020', '…"
      ]
     },
     "execution_count": 50,
     "metadata": {},
     "output_type": "execute_result"
    }
   ],
   "source": [
    "data = {\n",
    "    'Country': population['Country/Territory'],\n",
    "    'Year': population['Year'],\n",
    "    'Population': population['Population']\n",
    "}\n",
    "new_df = pd.DataFrame(data)\n",
    "\n",
    "year_dropdown = widgets.Dropdown(\n",
    "    options=new_df['Year'].unique(),\n",
    "    description='Year:',\n",
    "    disabled=False,\n",
    ")\n",
    "\n",
    "def update_graph(selected_year):\n",
    "    filtered_data = new_df[new_df['Year'] == selected_year].sort_values(by=\"Population\", ascending=False).head(5)\n",
    "    \n",
    "    plt.figure(figsize=(7, 7))\n",
    "    plt.pie(\n",
    "        filtered_data['Population'], \n",
    "        labels=filtered_data['Country'], \n",
    "        autopct=lambda p: f'{p:.2f}%', \n",
    "        startangle=140, \n",
    "        colors=['#1D3557', '#457B9D', '#E63946', '#F1FAEE', '#A8DADC' ]\n",
    "    )\n",
    "    plt.title(f'Population Percentage of Top 5 Countries in {selected_year}')\n",
    "\n",
    "    plt.show()\n",
    "\n",
    "widgets.interactive(update_graph, selected_year=year_dropdown)"
   ]
  },
  {
   "cell_type": "markdown",
   "metadata": {},
   "source": [
    "<h1 style=\"padding:10px;background-color:#250902;margin:0;color:#e09f3e;font-family:sans-serif;font-size:24px;text-align:center;border-radius: 50px;overflow:hidden;font-weight:700\">Year-wise Population by Selected Country</h1>"
   ]
  },
  {
   "cell_type": "code",
   "execution_count": 51,
   "metadata": {},
   "outputs": [
    {
     "data": {
      "application/vnd.jupyter.widget-view+json": {
       "model_id": "223fedd5b94b4cf5a0c47e46f6484fce",
       "version_major": 2,
       "version_minor": 0
      },
      "text/plain": [
       "interactive(children=(Dropdown(description='Country:', options=('Zimbabwe', 'Guernsey', 'Guatemala', 'Guam', '…"
      ]
     },
     "execution_count": 51,
     "metadata": {},
     "output_type": "execute_result"
    }
   ],
   "source": [
    "new_data = {\n",
    "    'Country': population['Country/Territory'],\n",
    "    'Year': population['Year'],\n",
    "    'Population': population['Population']\n",
    "}\n",
    "\n",
    "new_df_v2 = pd.DataFrame(new_data)\n",
    "\n",
    "country_dropdown = widgets.Dropdown(\n",
    "    options=new_df_v2['Country'].unique(),\n",
    "    description='Country:',\n",
    "    disabled=False,\n",
    ")\n",
    "\n",
    "def update_graph_v2(selected_country):\n",
    "    filtered_data_v2 = new_df_v2[new_df_v2['Country'] == selected_country]\n",
    "    \n",
    "    plt.figure(figsize=(12, 6))\n",
    "    bars_v2 = plt.bar(filtered_data_v2['Year'], filtered_data_v2['Population'] / 1e6, color='#415A77')\n",
    "    plt.title(f'Population of Country : {selected_country}')\n",
    "    plt.xlabel('')\n",
    "    plt.ylabel('')\n",
    "    plt.xticks(rotation=45)\n",
    "\n",
    "    for bar in bars_v2:\n",
    "        yval = bar.get_height()\n",
    "        plt.text(bar.get_x() + bar.get_width()/2, yval, f'{yval:.2f}M', ha='center', va='bottom')\n",
    "\n",
    "    \n",
    "\n",
    "    plt.show()\n",
    "\n",
    "widgets.interactive(update_graph_v2, selected_country=country_dropdown)"
   ]
  },
  {
   "cell_type": "markdown",
   "metadata": {},
   "source": [
    "<h1 style=\"padding:10px;background-color:#e09f3e;margin:0;color:#250902;font-family:sans-serif;font-size:30px;text-align:center;border-radius: 50px;overflow:hidden;font-weight:700\">Machine Learning Models to Predicts the Population</h1>"
   ]
  },
  {
   "cell_type": "code",
   "execution_count": 52,
   "metadata": {},
   "outputs": [
    {
     "data": {
      "text/html": [
       "<div>\n",
       "<style scoped>\n",
       "    .dataframe tbody tr th:only-of-type {\n",
       "        vertical-align: middle;\n",
       "    }\n",
       "\n",
       "    .dataframe tbody tr th {\n",
       "        vertical-align: top;\n",
       "    }\n",
       "\n",
       "    .dataframe thead th {\n",
       "        text-align: right;\n",
       "    }\n",
       "</style>\n",
       "<table border=\"1\" class=\"dataframe\">\n",
       "  <thead>\n",
       "    <tr style=\"text-align: right;\">\n",
       "      <th></th>\n",
       "      <th>Country/Territory</th>\n",
       "      <th>2022</th>\n",
       "      <th>2020</th>\n",
       "      <th>2015</th>\n",
       "      <th>2010</th>\n",
       "      <th>2000</th>\n",
       "      <th>1990</th>\n",
       "      <th>1980</th>\n",
       "      <th>1970</th>\n",
       "    </tr>\n",
       "  </thead>\n",
       "  <tbody>\n",
       "    <tr>\n",
       "      <th>0</th>\n",
       "      <td>Afghanistan</td>\n",
       "      <td>41128771</td>\n",
       "      <td>38972230</td>\n",
       "      <td>33753499</td>\n",
       "      <td>28189672</td>\n",
       "      <td>19542982</td>\n",
       "      <td>10694796</td>\n",
       "      <td>12486631</td>\n",
       "      <td>10752971</td>\n",
       "    </tr>\n",
       "    <tr>\n",
       "      <th>1</th>\n",
       "      <td>Albania</td>\n",
       "      <td>2842321</td>\n",
       "      <td>2866849</td>\n",
       "      <td>2882481</td>\n",
       "      <td>2913399</td>\n",
       "      <td>3182021</td>\n",
       "      <td>3295066</td>\n",
       "      <td>2941651</td>\n",
       "      <td>2324731</td>\n",
       "    </tr>\n",
       "    <tr>\n",
       "      <th>2</th>\n",
       "      <td>Algeria</td>\n",
       "      <td>44903225</td>\n",
       "      <td>43451666</td>\n",
       "      <td>39543154</td>\n",
       "      <td>35856344</td>\n",
       "      <td>30774621</td>\n",
       "      <td>25518074</td>\n",
       "      <td>18739378</td>\n",
       "      <td>13795915</td>\n",
       "    </tr>\n",
       "    <tr>\n",
       "      <th>3</th>\n",
       "      <td>American Samoa</td>\n",
       "      <td>44273</td>\n",
       "      <td>46189</td>\n",
       "      <td>51368</td>\n",
       "      <td>54849</td>\n",
       "      <td>58230</td>\n",
       "      <td>47818</td>\n",
       "      <td>32886</td>\n",
       "      <td>27075</td>\n",
       "    </tr>\n",
       "    <tr>\n",
       "      <th>4</th>\n",
       "      <td>Andorra</td>\n",
       "      <td>79824</td>\n",
       "      <td>77700</td>\n",
       "      <td>71746</td>\n",
       "      <td>71519</td>\n",
       "      <td>66097</td>\n",
       "      <td>53569</td>\n",
       "      <td>35611</td>\n",
       "      <td>19860</td>\n",
       "    </tr>\n",
       "    <tr>\n",
       "      <th>...</th>\n",
       "      <td>...</td>\n",
       "      <td>...</td>\n",
       "      <td>...</td>\n",
       "      <td>...</td>\n",
       "      <td>...</td>\n",
       "      <td>...</td>\n",
       "      <td>...</td>\n",
       "      <td>...</td>\n",
       "      <td>...</td>\n",
       "    </tr>\n",
       "    <tr>\n",
       "      <th>229</th>\n",
       "      <td>Wallis and Futuna</td>\n",
       "      <td>11572</td>\n",
       "      <td>11655</td>\n",
       "      <td>12182</td>\n",
       "      <td>13142</td>\n",
       "      <td>14723</td>\n",
       "      <td>13454</td>\n",
       "      <td>11315</td>\n",
       "      <td>9377</td>\n",
       "    </tr>\n",
       "    <tr>\n",
       "      <th>230</th>\n",
       "      <td>Western Sahara</td>\n",
       "      <td>575986</td>\n",
       "      <td>556048</td>\n",
       "      <td>491824</td>\n",
       "      <td>413296</td>\n",
       "      <td>270375</td>\n",
       "      <td>178529</td>\n",
       "      <td>116775</td>\n",
       "      <td>76371</td>\n",
       "    </tr>\n",
       "    <tr>\n",
       "      <th>231</th>\n",
       "      <td>Yemen</td>\n",
       "      <td>33696614</td>\n",
       "      <td>32284046</td>\n",
       "      <td>28516545</td>\n",
       "      <td>24743946</td>\n",
       "      <td>18628700</td>\n",
       "      <td>13375121</td>\n",
       "      <td>9204938</td>\n",
       "      <td>6843607</td>\n",
       "    </tr>\n",
       "    <tr>\n",
       "      <th>232</th>\n",
       "      <td>Zambia</td>\n",
       "      <td>20017675</td>\n",
       "      <td>18927715</td>\n",
       "      <td>16248230</td>\n",
       "      <td>13792086</td>\n",
       "      <td>9891136</td>\n",
       "      <td>7686401</td>\n",
       "      <td>5720438</td>\n",
       "      <td>4281671</td>\n",
       "    </tr>\n",
       "    <tr>\n",
       "      <th>233</th>\n",
       "      <td>Zimbabwe</td>\n",
       "      <td>16320537</td>\n",
       "      <td>15669666</td>\n",
       "      <td>14154937</td>\n",
       "      <td>12839771</td>\n",
       "      <td>11834676</td>\n",
       "      <td>10113893</td>\n",
       "      <td>7049926</td>\n",
       "      <td>5202918</td>\n",
       "    </tr>\n",
       "  </tbody>\n",
       "</table>\n",
       "<p>234 rows × 9 columns</p>\n",
       "</div>"
      ],
      "text/plain": [
       "     Country/Territory      2022      2020      2015      2010      2000  \\\n",
       "0          Afghanistan  41128771  38972230  33753499  28189672  19542982   \n",
       "1              Albania   2842321   2866849   2882481   2913399   3182021   \n",
       "2              Algeria  44903225  43451666  39543154  35856344  30774621   \n",
       "3       American Samoa     44273     46189     51368     54849     58230   \n",
       "4              Andorra     79824     77700     71746     71519     66097   \n",
       "..                 ...       ...       ...       ...       ...       ...   \n",
       "229  Wallis and Futuna     11572     11655     12182     13142     14723   \n",
       "230     Western Sahara    575986    556048    491824    413296    270375   \n",
       "231              Yemen  33696614  32284046  28516545  24743946  18628700   \n",
       "232             Zambia  20017675  18927715  16248230  13792086   9891136   \n",
       "233           Zimbabwe  16320537  15669666  14154937  12839771  11834676   \n",
       "\n",
       "         1990      1980      1970  \n",
       "0    10694796  12486631  10752971  \n",
       "1     3295066   2941651   2324731  \n",
       "2    25518074  18739378  13795915  \n",
       "3       47818     32886     27075  \n",
       "4       53569     35611     19860  \n",
       "..        ...       ...       ...  \n",
       "229     13454     11315      9377  \n",
       "230    178529    116775     76371  \n",
       "231  13375121   9204938   6843607  \n",
       "232   7686401   5720438   4281671  \n",
       "233  10113893   7049926   5202918  \n",
       "\n",
       "[234 rows x 9 columns]"
      ]
     },
     "execution_count": 52,
     "metadata": {},
     "output_type": "execute_result"
    }
   ],
   "source": [
    "cleaned_df = df[['Country/Territory', '2022', '2020', '2015', '2010', '2000', '1990', '1980', '1970']]\n",
    "cleaned_df"
   ]
  },
  {
   "cell_type": "code",
   "execution_count": 53,
   "metadata": {},
   "outputs": [],
   "source": [
    "df_encoded = pd.get_dummies(cleaned_df, columns=['Country/Territory'], drop_first=True, dtype='int')\n",
    "\n",
    "df_encoded.columns = [col.replace('Country/Territory_', '') for col in df_encoded.columns]\n",
    "\n",
    "X = df_encoded.drop(columns=['2022'])\n",
    "y = df_encoded['2022']\n",
    "\n",
    "X_train, X_test, y_train, y_test = train_test_split(X, y, test_size=0.2, random_state=42)"
   ]
  },
  {
   "cell_type": "markdown",
   "metadata": {},
   "source": [
    "<h1 style=\"padding:10px;background-color:#250902;margin:0;color:#e09f3e;font-family:sans-serif;font-size:24px;text-align:center;border-radius: 50px;overflow:hidden;font-weight:700\">Model : Linear Regression</h1>"
   ]
  },
  {
   "cell_type": "code",
   "execution_count": 54,
   "metadata": {},
   "outputs": [
    {
     "data": {
      "text/plain": [
       "0.9998877971256137"
      ]
     },
     "execution_count": 54,
     "metadata": {},
     "output_type": "execute_result"
    }
   ],
   "source": [
    "model = LinearRegression()\n",
    "model.fit(X_train, y_train)\n",
    "\n",
    "y_pred = model.predict(X_test)\n",
    "\n",
    "r2 = r2_score(y_test, y_pred)\n",
    "r2"
   ]
  },
  {
   "cell_type": "code",
   "execution_count": 55,
   "metadata": {},
   "outputs": [
    {
     "name": "stdout",
     "output_type": "stream",
     "text": [
      "Predicted population of India in 2030: 1108.84 million\n",
      "R² Score: 0.9630\n"
     ]
    }
   ],
   "source": [
    "def predict_population_lr(country_name):\n",
    "    if country_name not in df['Country/Territory'].values:\n",
    "        return f\"Country '{country_name}' not found in the dataset.\"\n",
    "\n",
    "    cleaned_df = df[['Country/Territory', '2022', '2020', '2015', '2010', '2000', '1990', '1980', '1970']]\n",
    "\n",
    "    melted_df = cleaned_df.melt(id_vars=['Country/Territory'], var_name='Year', value_name='Population')\n",
    "\n",
    "    melted_df['Year'] = melted_df['Year'].astype(int)\n",
    "\n",
    "    X = melted_df[['Country/Territory', 'Year']]\n",
    "    y = melted_df['Population']\n",
    "\n",
    "    preprocessor = ColumnTransformer(\n",
    "        transformers=[\n",
    "            ('country_ohe', OneHotEncoder(drop='first'), ['Country/Territory']),\n",
    "            ('year_scaler', StandardScaler(), ['Year'])\n",
    "        ]\n",
    "    )\n",
    "\n",
    "    pipeline = Pipeline(steps=[\n",
    "        ('preprocessor', preprocessor),\n",
    "        ('model', LinearRegression())\n",
    "    ])\n",
    "\n",
    "    X_train, X_test, y_train, y_test = train_test_split(X, y, test_size=0.2, random_state=42)\n",
    "\n",
    "    pipeline.fit(X_train, y_train)\n",
    "\n",
    "    input_data = pd.DataFrame({'Country/Territory': [country_name], 'Year': [2030]})\n",
    "    predicted_population = pipeline.predict(input_data)[0]\n",
    "    \n",
    "    y_pred = pipeline.predict(X_test)\n",
    "    r2 = r2_score(y_test, y_pred)\n",
    "\n",
    "    predicted_population_millions = predicted_population / 1_000_000\n",
    "    return f\"Predicted population of {country_name} in 2030: {predicted_population_millions:.2f} million\\nR² Score: {r2:.4f}\"\n",
    "\n",
    "country_to_predict = input(\"Enter the country name: \")\n",
    "result = predict_population_lr(country_to_predict)\n",
    "print(result)"
   ]
  },
  {
   "cell_type": "markdown",
   "metadata": {},
   "source": [
    "<h1 style=\"padding:10px;background-color:#250902;margin:0;color:#e09f3e;font-family:sans-serif;font-size:24px;text-align:center;border-radius: 50px;overflow:hidden;font-weight:700\">Model : Random Forest</h1>"
   ]
  },
  {
   "cell_type": "code",
   "execution_count": 56,
   "metadata": {},
   "outputs": [
    {
     "data": {
      "text/plain": [
       "0.9603397950219483"
      ]
     },
     "execution_count": 56,
     "metadata": {},
     "output_type": "execute_result"
    }
   ],
   "source": [
    "model_rf = RandomForestRegressor()\n",
    "model_rf.fit(X_train, y_train)\n",
    "\n",
    "y_pred_rf = model_rf.predict(X_test)\n",
    "\n",
    "r2_rf = r2_score(y_test, y_pred_rf)\n",
    "r2_rf"
   ]
  },
  {
   "cell_type": "code",
   "execution_count": 57,
   "metadata": {},
   "outputs": [
    {
     "name": "stdout",
     "output_type": "stream",
     "text": [
      "Predicted population of India in 2030: 1380.60 million\n",
      "R² Score: 0.9869\n"
     ]
    }
   ],
   "source": [
    "def predict_population_rf(country_name):\n",
    "    if country_name not in df['Country/Territory'].values:\n",
    "        return f\"Country '{country_name}' not found in the dataset.\"\n",
    "\n",
    "    cleaned_df = df[['Country/Territory', '2022', '2020', '2015', '2010', '2000', '1990', '1980', '1970']]\n",
    "\n",
    "    melted_df = cleaned_df.melt(id_vars=['Country/Territory'], var_name='Year', value_name='Population')\n",
    "\n",
    "    melted_df['Year'] = melted_df['Year'].astype(int)\n",
    "\n",
    "    X = melted_df[['Country/Territory', 'Year']]\n",
    "    y = melted_df['Population']\n",
    "\n",
    "    preprocessor = ColumnTransformer(\n",
    "        transformers=[\n",
    "            ('country_ohe', OneHotEncoder(drop='first'), ['Country/Territory']),\n",
    "            ('year_scaler', StandardScaler(), ['Year'])\n",
    "        ]\n",
    "    )\n",
    "\n",
    "    pipeline = Pipeline(steps=[\n",
    "        ('preprocessor', preprocessor),\n",
    "        ('model', RandomForestRegressor(random_state=42))\n",
    "    ])\n",
    "\n",
    "    X_train, X_test, y_train, y_test = train_test_split(X, y, test_size=0.2, random_state=42)\n",
    "\n",
    "    pipeline.fit(X_train, y_train)\n",
    "\n",
    "    input_data = pd.DataFrame({'Country/Territory': [country_name], 'Year': [2030]})\n",
    "    predicted_population = pipeline.predict(input_data)[0]\n",
    "    \n",
    "    y_pred = pipeline.predict(X_test)\n",
    "    r2 = r2_score(y_test, y_pred)\n",
    "\n",
    "    predicted_population_millions = predicted_population / 1_000_000\n",
    "    return f\"Predicted population of {country_name} in 2030: {predicted_population_millions:.2f} million\\nR² Score: {r2:.4f}\"\n",
    "\n",
    "country_to_predict = input(\"Enter the country name: \")\n",
    "result = predict_population_rf(country_to_predict)\n",
    "print(result)"
   ]
  },
  {
   "cell_type": "markdown",
   "metadata": {},
   "source": [
    "<h1 style=\"padding:10px;background-color:#e09f3e;margin:0;color:#250902;font-family:sans-serif;font-size:30px;text-align:center;border-radius: 50px;overflow:hidden;font-weight:700\">Prediction by Numpy using Formula : (mx + b)</h1>"
   ]
  },
  {
   "cell_type": "markdown",
   "metadata": {},
   "source": [
    "<h1 style=\"padding:10px;background-color:#250902;margin:0;color:#e09f3e;font-family:sans-serif;font-size:24px;text-align:center;border-radius: 50px;overflow:hidden;font-weight:700\">Predict the Population of Given Country in 2030</h1>"
   ]
  },
  {
   "cell_type": "code",
   "execution_count": 58,
   "metadata": {},
   "outputs": [
    {
     "data": {
      "application/vnd.plotly.v1+json": {
       "config": {
        "plotlyServerURL": "https://plot.ly"
       },
       "data": [
        {
         "line": {
          "color": "#415A77",
          "width": 2
         },
         "marker": {
          "size": 10
         },
         "mode": "lines+markers",
         "name": "Actual Population",
         "type": "scatter",
         "x": [
          2020,
          2022
         ],
         "y": [
          1396387127,
          1417173173
         ]
        },
        {
         "line": {
          "color": "red",
          "dash": "dot"
         },
         "mode": "lines",
         "name": "Predicted Population 2022-2030",
         "type": "scatter",
         "x": [
          2022,
          2030
         ],
         "y": [
          1417173173,
          1568086576.3867989
         ]
        },
        {
         "marker": {
          "color": "red",
          "size": 10
         },
         "mode": "markers+text",
         "name": "Predicted Population 2030",
         "text": [
          "1568.09M"
         ],
         "textposition": "top center",
         "type": "scatter",
         "x": [
          2030
         ],
         "y": [
          1568086576.3867989
         ]
        }
       ],
       "layout": {
        "plot_bgcolor": "white",
        "showlegend": true,
        "template": {
         "data": {
          "bar": [
           {
            "error_x": {
             "color": "#2a3f5f"
            },
            "error_y": {
             "color": "#2a3f5f"
            },
            "marker": {
             "line": {
              "color": "#E5ECF6",
              "width": 0.5
             },
             "pattern": {
              "fillmode": "overlay",
              "size": 10,
              "solidity": 0.2
             }
            },
            "type": "bar"
           }
          ],
          "barpolar": [
           {
            "marker": {
             "line": {
              "color": "#E5ECF6",
              "width": 0.5
             },
             "pattern": {
              "fillmode": "overlay",
              "size": 10,
              "solidity": 0.2
             }
            },
            "type": "barpolar"
           }
          ],
          "carpet": [
           {
            "aaxis": {
             "endlinecolor": "#2a3f5f",
             "gridcolor": "white",
             "linecolor": "white",
             "minorgridcolor": "white",
             "startlinecolor": "#2a3f5f"
            },
            "baxis": {
             "endlinecolor": "#2a3f5f",
             "gridcolor": "white",
             "linecolor": "white",
             "minorgridcolor": "white",
             "startlinecolor": "#2a3f5f"
            },
            "type": "carpet"
           }
          ],
          "choropleth": [
           {
            "colorbar": {
             "outlinewidth": 0,
             "ticks": ""
            },
            "type": "choropleth"
           }
          ],
          "contour": [
           {
            "colorbar": {
             "outlinewidth": 0,
             "ticks": ""
            },
            "colorscale": [
             [
              0,
              "#0d0887"
             ],
             [
              0.1111111111111111,
              "#46039f"
             ],
             [
              0.2222222222222222,
              "#7201a8"
             ],
             [
              0.3333333333333333,
              "#9c179e"
             ],
             [
              0.4444444444444444,
              "#bd3786"
             ],
             [
              0.5555555555555556,
              "#d8576b"
             ],
             [
              0.6666666666666666,
              "#ed7953"
             ],
             [
              0.7777777777777778,
              "#fb9f3a"
             ],
             [
              0.8888888888888888,
              "#fdca26"
             ],
             [
              1,
              "#f0f921"
             ]
            ],
            "type": "contour"
           }
          ],
          "contourcarpet": [
           {
            "colorbar": {
             "outlinewidth": 0,
             "ticks": ""
            },
            "type": "contourcarpet"
           }
          ],
          "heatmap": [
           {
            "colorbar": {
             "outlinewidth": 0,
             "ticks": ""
            },
            "colorscale": [
             [
              0,
              "#0d0887"
             ],
             [
              0.1111111111111111,
              "#46039f"
             ],
             [
              0.2222222222222222,
              "#7201a8"
             ],
             [
              0.3333333333333333,
              "#9c179e"
             ],
             [
              0.4444444444444444,
              "#bd3786"
             ],
             [
              0.5555555555555556,
              "#d8576b"
             ],
             [
              0.6666666666666666,
              "#ed7953"
             ],
             [
              0.7777777777777778,
              "#fb9f3a"
             ],
             [
              0.8888888888888888,
              "#fdca26"
             ],
             [
              1,
              "#f0f921"
             ]
            ],
            "type": "heatmap"
           }
          ],
          "heatmapgl": [
           {
            "colorbar": {
             "outlinewidth": 0,
             "ticks": ""
            },
            "colorscale": [
             [
              0,
              "#0d0887"
             ],
             [
              0.1111111111111111,
              "#46039f"
             ],
             [
              0.2222222222222222,
              "#7201a8"
             ],
             [
              0.3333333333333333,
              "#9c179e"
             ],
             [
              0.4444444444444444,
              "#bd3786"
             ],
             [
              0.5555555555555556,
              "#d8576b"
             ],
             [
              0.6666666666666666,
              "#ed7953"
             ],
             [
              0.7777777777777778,
              "#fb9f3a"
             ],
             [
              0.8888888888888888,
              "#fdca26"
             ],
             [
              1,
              "#f0f921"
             ]
            ],
            "type": "heatmapgl"
           }
          ],
          "histogram": [
           {
            "marker": {
             "pattern": {
              "fillmode": "overlay",
              "size": 10,
              "solidity": 0.2
             }
            },
            "type": "histogram"
           }
          ],
          "histogram2d": [
           {
            "colorbar": {
             "outlinewidth": 0,
             "ticks": ""
            },
            "colorscale": [
             [
              0,
              "#0d0887"
             ],
             [
              0.1111111111111111,
              "#46039f"
             ],
             [
              0.2222222222222222,
              "#7201a8"
             ],
             [
              0.3333333333333333,
              "#9c179e"
             ],
             [
              0.4444444444444444,
              "#bd3786"
             ],
             [
              0.5555555555555556,
              "#d8576b"
             ],
             [
              0.6666666666666666,
              "#ed7953"
             ],
             [
              0.7777777777777778,
              "#fb9f3a"
             ],
             [
              0.8888888888888888,
              "#fdca26"
             ],
             [
              1,
              "#f0f921"
             ]
            ],
            "type": "histogram2d"
           }
          ],
          "histogram2dcontour": [
           {
            "colorbar": {
             "outlinewidth": 0,
             "ticks": ""
            },
            "colorscale": [
             [
              0,
              "#0d0887"
             ],
             [
              0.1111111111111111,
              "#46039f"
             ],
             [
              0.2222222222222222,
              "#7201a8"
             ],
             [
              0.3333333333333333,
              "#9c179e"
             ],
             [
              0.4444444444444444,
              "#bd3786"
             ],
             [
              0.5555555555555556,
              "#d8576b"
             ],
             [
              0.6666666666666666,
              "#ed7953"
             ],
             [
              0.7777777777777778,
              "#fb9f3a"
             ],
             [
              0.8888888888888888,
              "#fdca26"
             ],
             [
              1,
              "#f0f921"
             ]
            ],
            "type": "histogram2dcontour"
           }
          ],
          "mesh3d": [
           {
            "colorbar": {
             "outlinewidth": 0,
             "ticks": ""
            },
            "type": "mesh3d"
           }
          ],
          "parcoords": [
           {
            "line": {
             "colorbar": {
              "outlinewidth": 0,
              "ticks": ""
             }
            },
            "type": "parcoords"
           }
          ],
          "pie": [
           {
            "automargin": true,
            "type": "pie"
           }
          ],
          "scatter": [
           {
            "fillpattern": {
             "fillmode": "overlay",
             "size": 10,
             "solidity": 0.2
            },
            "type": "scatter"
           }
          ],
          "scatter3d": [
           {
            "line": {
             "colorbar": {
              "outlinewidth": 0,
              "ticks": ""
             }
            },
            "marker": {
             "colorbar": {
              "outlinewidth": 0,
              "ticks": ""
             }
            },
            "type": "scatter3d"
           }
          ],
          "scattercarpet": [
           {
            "marker": {
             "colorbar": {
              "outlinewidth": 0,
              "ticks": ""
             }
            },
            "type": "scattercarpet"
           }
          ],
          "scattergeo": [
           {
            "marker": {
             "colorbar": {
              "outlinewidth": 0,
              "ticks": ""
             }
            },
            "type": "scattergeo"
           }
          ],
          "scattergl": [
           {
            "marker": {
             "colorbar": {
              "outlinewidth": 0,
              "ticks": ""
             }
            },
            "type": "scattergl"
           }
          ],
          "scattermapbox": [
           {
            "marker": {
             "colorbar": {
              "outlinewidth": 0,
              "ticks": ""
             }
            },
            "type": "scattermapbox"
           }
          ],
          "scatterpolar": [
           {
            "marker": {
             "colorbar": {
              "outlinewidth": 0,
              "ticks": ""
             }
            },
            "type": "scatterpolar"
           }
          ],
          "scatterpolargl": [
           {
            "marker": {
             "colorbar": {
              "outlinewidth": 0,
              "ticks": ""
             }
            },
            "type": "scatterpolargl"
           }
          ],
          "scatterternary": [
           {
            "marker": {
             "colorbar": {
              "outlinewidth": 0,
              "ticks": ""
             }
            },
            "type": "scatterternary"
           }
          ],
          "surface": [
           {
            "colorbar": {
             "outlinewidth": 0,
             "ticks": ""
            },
            "colorscale": [
             [
              0,
              "#0d0887"
             ],
             [
              0.1111111111111111,
              "#46039f"
             ],
             [
              0.2222222222222222,
              "#7201a8"
             ],
             [
              0.3333333333333333,
              "#9c179e"
             ],
             [
              0.4444444444444444,
              "#bd3786"
             ],
             [
              0.5555555555555556,
              "#d8576b"
             ],
             [
              0.6666666666666666,
              "#ed7953"
             ],
             [
              0.7777777777777778,
              "#fb9f3a"
             ],
             [
              0.8888888888888888,
              "#fdca26"
             ],
             [
              1,
              "#f0f921"
             ]
            ],
            "type": "surface"
           }
          ],
          "table": [
           {
            "cells": {
             "fill": {
              "color": "#EBF0F8"
             },
             "line": {
              "color": "white"
             }
            },
            "header": {
             "fill": {
              "color": "#C8D4E3"
             },
             "line": {
              "color": "white"
             }
            },
            "type": "table"
           }
          ]
         },
         "layout": {
          "annotationdefaults": {
           "arrowcolor": "#2a3f5f",
           "arrowhead": 0,
           "arrowwidth": 1
          },
          "autotypenumbers": "strict",
          "coloraxis": {
           "colorbar": {
            "outlinewidth": 0,
            "ticks": ""
           }
          },
          "colorscale": {
           "diverging": [
            [
             0,
             "#8e0152"
            ],
            [
             0.1,
             "#c51b7d"
            ],
            [
             0.2,
             "#de77ae"
            ],
            [
             0.3,
             "#f1b6da"
            ],
            [
             0.4,
             "#fde0ef"
            ],
            [
             0.5,
             "#f7f7f7"
            ],
            [
             0.6,
             "#e6f5d0"
            ],
            [
             0.7,
             "#b8e186"
            ],
            [
             0.8,
             "#7fbc41"
            ],
            [
             0.9,
             "#4d9221"
            ],
            [
             1,
             "#276419"
            ]
           ],
           "sequential": [
            [
             0,
             "#0d0887"
            ],
            [
             0.1111111111111111,
             "#46039f"
            ],
            [
             0.2222222222222222,
             "#7201a8"
            ],
            [
             0.3333333333333333,
             "#9c179e"
            ],
            [
             0.4444444444444444,
             "#bd3786"
            ],
            [
             0.5555555555555556,
             "#d8576b"
            ],
            [
             0.6666666666666666,
             "#ed7953"
            ],
            [
             0.7777777777777778,
             "#fb9f3a"
            ],
            [
             0.8888888888888888,
             "#fdca26"
            ],
            [
             1,
             "#f0f921"
            ]
           ],
           "sequentialminus": [
            [
             0,
             "#0d0887"
            ],
            [
             0.1111111111111111,
             "#46039f"
            ],
            [
             0.2222222222222222,
             "#7201a8"
            ],
            [
             0.3333333333333333,
             "#9c179e"
            ],
            [
             0.4444444444444444,
             "#bd3786"
            ],
            [
             0.5555555555555556,
             "#d8576b"
            ],
            [
             0.6666666666666666,
             "#ed7953"
            ],
            [
             0.7777777777777778,
             "#fb9f3a"
            ],
            [
             0.8888888888888888,
             "#fdca26"
            ],
            [
             1,
             "#f0f921"
            ]
           ]
          },
          "colorway": [
           "#636efa",
           "#EF553B",
           "#00cc96",
           "#ab63fa",
           "#FFA15A",
           "#19d3f3",
           "#FF6692",
           "#B6E880",
           "#FF97FF",
           "#FECB52"
          ],
          "font": {
           "color": "#2a3f5f"
          },
          "geo": {
           "bgcolor": "white",
           "lakecolor": "white",
           "landcolor": "#E5ECF6",
           "showlakes": true,
           "showland": true,
           "subunitcolor": "white"
          },
          "hoverlabel": {
           "align": "left"
          },
          "hovermode": "closest",
          "mapbox": {
           "style": "light"
          },
          "paper_bgcolor": "white",
          "plot_bgcolor": "#E5ECF6",
          "polar": {
           "angularaxis": {
            "gridcolor": "white",
            "linecolor": "white",
            "ticks": ""
           },
           "bgcolor": "#E5ECF6",
           "radialaxis": {
            "gridcolor": "white",
            "linecolor": "white",
            "ticks": ""
           }
          },
          "scene": {
           "xaxis": {
            "backgroundcolor": "#E5ECF6",
            "gridcolor": "white",
            "gridwidth": 2,
            "linecolor": "white",
            "showbackground": true,
            "ticks": "",
            "zerolinecolor": "white"
           },
           "yaxis": {
            "backgroundcolor": "#E5ECF6",
            "gridcolor": "white",
            "gridwidth": 2,
            "linecolor": "white",
            "showbackground": true,
            "ticks": "",
            "zerolinecolor": "white"
           },
           "zaxis": {
            "backgroundcolor": "#E5ECF6",
            "gridcolor": "white",
            "gridwidth": 2,
            "linecolor": "white",
            "showbackground": true,
            "ticks": "",
            "zerolinecolor": "white"
           }
          },
          "shapedefaults": {
           "line": {
            "color": "#2a3f5f"
           }
          },
          "ternary": {
           "aaxis": {
            "gridcolor": "white",
            "linecolor": "white",
            "ticks": ""
           },
           "baxis": {
            "gridcolor": "white",
            "linecolor": "white",
            "ticks": ""
           },
           "bgcolor": "#E5ECF6",
           "caxis": {
            "gridcolor": "white",
            "linecolor": "white",
            "ticks": ""
           }
          },
          "title": {
           "x": 0.05
          },
          "xaxis": {
           "automargin": true,
           "gridcolor": "white",
           "linecolor": "white",
           "ticks": "",
           "title": {
            "standoff": 15
           },
           "zerolinecolor": "white",
           "zerolinewidth": 2
          },
          "yaxis": {
           "automargin": true,
           "gridcolor": "white",
           "linecolor": "white",
           "ticks": "",
           "title": {
            "standoff": 15
           },
           "zerolinecolor": "white",
           "zerolinewidth": 2
          }
         }
        },
        "title": {
         "text": "Population of India in 2030 (using trends)"
        },
        "xaxis": {
         "gridcolor": "white",
         "showgrid": false,
         "title": {
          "text": ""
         }
        },
        "yaxis": {
         "gridcolor": "white",
         "showgrid": false,
         "tickformat": ",",
         "title": {
          "text": ""
         }
        }
       }
      }
     },
     "metadata": {},
     "output_type": "display_data"
    },
    {
     "name": "stdout",
     "output_type": "stream",
     "text": [
      "Predicted population of India in 2030 (using trend): 1568.09 million\n"
     ]
    }
   ],
   "source": [
    "def predict_population_numpy(country_name):\n",
    "    if country_name not in df['Country/Territory'].values:\n",
    "        return f\"Country '{country_name}' not found in the dataset.\"\n",
    "\n",
    "    cleaned_df = df[['Country/Territory', '2022', '2020', '2015', '2010', '2000', '1990', '1980', '1970']]\n",
    "    \n",
    "    country_data = cleaned_df[cleaned_df['Country/Territory'] == country_name].iloc[0, 1:].values\n",
    "\n",
    "    country_data = pd.to_numeric(country_data, errors='coerce')\n",
    "\n",
    "    valid_mask = ~np.isnan(country_data)\n",
    "    country_data = country_data[valid_mask]\n",
    "    years = np.array([2022, 2020, 2015, 2010, 2000, 1990, 1980, 1970])[valid_mask]\n",
    "\n",
    "    coeffs = np.polyfit(years, country_data, 1)\n",
    "\n",
    "    m, b = coeffs\n",
    "    predicted_population_2030 = m * 2030 + b\n",
    "\n",
    "    population_data = {\n",
    "        'Year': [2020, 2022, 2030],\n",
    "        'Population': [country_data[1], country_data[0], predicted_population_2030]\n",
    "    }\n",
    "\n",
    "    fig = go.Figure()\n",
    "    \n",
    "    fig.add_trace(go.Scatter(\n",
    "        x=population_data['Year'][:2],\n",
    "        y=population_data['Population'][:2],\n",
    "        mode='lines+markers',\n",
    "        name='Actual Population',\n",
    "        marker=dict(size=10),\n",
    "        line=dict(color='#415A77', width=2)\n",
    "    ))\n",
    "\n",
    "    fig.add_trace(go.Scatter(\n",
    "        x=[2022, 2030],\n",
    "        y=[population_data['Population'][1], predicted_population_2030],\n",
    "        mode='lines',\n",
    "        name='Predicted Population 2022-2030',\n",
    "        line=dict(color='red', dash='dot')\n",
    "    ))\n",
    "\n",
    "    fig.add_trace(go.Scatter(\n",
    "        x=[2030],\n",
    "        y=[predicted_population_2030],\n",
    "        mode='markers+text',\n",
    "        name='Predicted Population 2030',\n",
    "        marker=dict(size=10, color='red'),\n",
    "        text=[f\"{predicted_population_2030 / 1_000_000:.2f}M\"],\n",
    "        textposition='top center'\n",
    "    ))\n",
    "\n",
    "    fig.update_layout(\n",
    "        title=f'Population of {country_name} in 2030 (using trends)',\n",
    "        xaxis_title='',\n",
    "        yaxis_title='',\n",
    "        yaxis_tickformat=',',\n",
    "        showlegend=True,\n",
    "        plot_bgcolor='white',\n",
    "        xaxis=dict(\n",
    "            showgrid=False,\n",
    "            gridcolor='white'\n",
    "        ),\n",
    "        yaxis=dict(\n",
    "            showgrid=False,\n",
    "            gridcolor='white'\n",
    "        )\n",
    "    )\n",
    "\n",
    "    fig.show()\n",
    "\n",
    "    predicted_population_millions = predicted_population_2030 / 1_000_000\n",
    "    return f\"Predicted population of {country_name} in 2030 (using trend): {predicted_population_millions:.2f} million\"\n",
    "\n",
    "country_to_predict = input(\"Enter the country name: \")\n",
    "result = predict_population_numpy(country_to_predict)\n",
    "print(result)"
   ]
  },
  {
   "cell_type": "markdown",
   "metadata": {},
   "source": [
    "<h1 style=\"padding:10px;background-color:#250902;margin:0;color:#e09f3e;font-family:sans-serif;font-size:24px;text-align:center;border-radius: 50px;overflow:hidden;font-weight:700\">Predict the Population of Selected Country in 2030</h1>"
   ]
  },
  {
   "cell_type": "code",
   "execution_count": 59,
   "metadata": {},
   "outputs": [
    {
     "data": {
      "application/vnd.jupyter.widget-view+json": {
       "model_id": "f401017ffe7a4353a220c96588bedaf4",
       "version_major": 2,
       "version_minor": 0
      },
      "text/plain": [
       "interactive(children=(Dropdown(description='Country:', options=('Afghanistan', 'Albania', 'Algeria', 'American…"
      ]
     },
     "execution_count": 59,
     "metadata": {},
     "output_type": "execute_result"
    }
   ],
   "source": [
    "def predict_population_numpy(country_name):\n",
    "    if country_name not in df['Country/Territory'].values:\n",
    "        return f\"Country '{country_name}' not found in the dataset.\"\n",
    "\n",
    "    cleaned_df = df[['Country/Territory', '2022', '2020', '2015', '2010', '2000', '1990', '1980', '1970']]\n",
    "    country_data = cleaned_df[cleaned_df['Country/Territory'] == country_name].iloc[0, 1:].values\n",
    "    country_data = pd.to_numeric(country_data, errors='coerce')\n",
    "    valid_mask = ~np.isnan(country_data)\n",
    "    country_data = country_data[valid_mask]\n",
    "    years = np.array([2022, 2020, 2015, 2010, 2000, 1990, 1980, 1970])[valid_mask]\n",
    "\n",
    "    coeffs = np.polyfit(years, country_data, 1)\n",
    "    m, b = coeffs\n",
    "    predicted_population_2030 = m * 2030 + b\n",
    "\n",
    "    population_data = {\n",
    "        'Year': [2020, 2022, 2030],\n",
    "        'Population': [country_data[1], country_data[0], predicted_population_2030]\n",
    "    }\n",
    "\n",
    "    plt.figure(figsize=(10, 5))\n",
    "    sns.lineplot(x=population_data['Year'][:2], y=population_data['Population'][:2], marker='o', color='#415A77', label='Actual Population')\n",
    "    sns.lineplot(x=[2022, 2030], y=[population_data['Population'][1], predicted_population_2030],\n",
    "                 marker='o', color='red', linestyle='dotted', label='Predicted Population 2022-2030')\n",
    "\n",
    "    plt.text(2020, population_data['Population'][0], \n",
    "             f\"{population_data['Population'][0] / 1_000_000:.2f}M\", color='black', ha='center')\n",
    "    plt.text(2022, population_data['Population'][1], \n",
    "             f\"{population_data['Population'][1] / 1_000_000:.2f}M\", color='black', ha='center')\n",
    "    plt.text(2030, predicted_population_2030, f\"{predicted_population_2030 / 1_000_000:.2f}M\", \n",
    "             color='red', ha='left')\n",
    "\n",
    "    plt.title(f'Population of {country_name} in 2030 (using trends)')\n",
    "    plt.xlabel('')\n",
    "    plt.ylabel('')\n",
    "\n",
    "    plt.xticks([2020, 2022, 2030])\n",
    "    \n",
    "    plt.grid(False)\n",
    "    plt.gca().spines['top'].set_visible(False)\n",
    "    plt.gca().spines['right'].set_visible(False)\n",
    "    plt.gca().spines['left'].set_visible(True)\n",
    "    plt.gca().spines['bottom'].set_visible(True)\n",
    "\n",
    "    plt.legend()\n",
    "    plt.show()\n",
    "\n",
    "    predicted_population_millions = predicted_population_2030 / 1_000_000\n",
    "    return f\"Predicted population of {country_name} in 2030 (using trend): {predicted_population_millions:.2f} million\"\n",
    "\n",
    "country_dropdown = widgets.Dropdown(\n",
    "    options=df['Country/Territory'].unique(),\n",
    "    description='Country:',\n",
    "    disabled=False,\n",
    ")\n",
    "\n",
    "widgets.interactive(predict_population_numpy, country_name=country_dropdown)"
   ]
  },
  {
   "cell_type": "markdown",
   "metadata": {},
   "source": [
    "<h1 style=\"padding:10px;background-color:#250902;margin:0;color:#e09f3e;font-family:sans-serif;font-size:24px;text-align:center;border-radius: 50px;overflow:hidden;font-weight:700\">Population of Selected Continent in All Years</h1>"
   ]
  },
  {
   "cell_type": "code",
   "execution_count": 60,
   "metadata": {},
   "outputs": [],
   "source": [
    "population_continent = df.melt(id_vars=['Continent'], value_vars=['2022', '2020', '2010', '2000', '1990', '1980', '1970'], var_name='Year', value_name='Population')\n",
    "population_continent = population_continent.groupby(['Continent', 'Year'])['Population'].sum().reset_index()"
   ]
  },
  {
   "cell_type": "code",
   "execution_count": 61,
   "metadata": {},
   "outputs": [
    {
     "data": {
      "application/vnd.jupyter.widget-view+json": {
       "model_id": "b470382f21c34ce6ab374d3dfdffcb65",
       "version_major": 2,
       "version_minor": 0
      },
      "text/plain": [
       "interactive(children=(Dropdown(description='Continent:', options=('Africa', 'Asia', 'Europe', 'North America',…"
      ]
     },
     "execution_count": 61,
     "metadata": {},
     "output_type": "execute_result"
    }
   ],
   "source": [
    "data = {\n",
    "    'Continent': population_continent['Continent'],\n",
    "    'Year': population_continent['Year'],\n",
    "    'Population': population_continent['Population']\n",
    "}\n",
    "\n",
    "new_df_v3 = pd.DataFrame(data)\n",
    "\n",
    "continent_dropdown = widgets.Dropdown(\n",
    "    options=new_df_v3['Continent'].unique(),\n",
    "    description='Continent:',\n",
    "    disabled=False,\n",
    ")\n",
    "\n",
    "def update_graph(selected_continent):\n",
    "    filtered_data = new_df_v3[new_df_v3['Continent'] == selected_continent].sort_values(by=\"Population\", ascending=True)\n",
    "    \n",
    "    plt.figure(figsize=(12, 6))\n",
    "    bars = plt.bar(filtered_data['Year'], filtered_data['Population'] / 1e6, color='#415A77')\n",
    "    plt.title(f'Population of {selected_continent} from 1970 - 2022')\n",
    "    plt.xlabel('')\n",
    "    plt.ylabel('')\n",
    "    plt.xticks(rotation=45)\n",
    "\n",
    "    for bar in bars:\n",
    "        yval = bar.get_height()\n",
    "        plt.text(bar.get_x() + bar.get_width()/2, yval, f'{yval:.2f}M', ha='center', va='bottom')\n",
    "\n",
    "    plt.grid(False)\n",
    "    plt.gca().spines['top'].set_visible(False)\n",
    "    plt.gca().spines['right'].set_visible(False)\n",
    "    plt.gca().spines['left'].set_visible(True)\n",
    "    plt.gca().spines['bottom'].set_visible(True)\n",
    "\n",
    "    plt.show()\n",
    "\n",
    "widgets.interactive(update_graph, selected_continent=continent_dropdown)"
   ]
  },
  {
   "cell_type": "markdown",
   "metadata": {},
   "source": [
    "<h1 style=\"padding:10px;background-color:#250902;margin:0;color:#e09f3e;font-family:sans-serif;font-size:24px;text-align:center;border-radius: 50px;overflow:hidden;font-weight:700\">Population of Selected Year in All Continents</h1>"
   ]
  },
  {
   "cell_type": "code",
   "execution_count": 62,
   "metadata": {},
   "outputs": [
    {
     "data": {
      "application/vnd.jupyter.widget-view+json": {
       "model_id": "9c1863fcd96642b38769d4f06ee00abf",
       "version_major": 2,
       "version_minor": 0
      },
      "text/plain": [
       "interactive(children=(Dropdown(description='Year:', options=('1970', '1980', '1990', '2000', '2010', '2020', '…"
      ]
     },
     "execution_count": 62,
     "metadata": {},
     "output_type": "execute_result"
    }
   ],
   "source": [
    "data = {\n",
    "    'Continent': population_continent['Continent'],\n",
    "    'Year': population_continent['Year'],\n",
    "    'Population': population_continent['Population']\n",
    "}\n",
    "\n",
    "new_df_v3 = pd.DataFrame(data)\n",
    "\n",
    "year_dropdown = widgets.Dropdown(\n",
    "    options=new_df_v3['Year'].unique(),\n",
    "    description='Year:',\n",
    "    disabled=False,\n",
    ")\n",
    "\n",
    "def update_graph(selected_year):\n",
    "    filtered_data = new_df_v3[new_df_v3['Year'] == selected_year].sort_values(by=\"Population\", ascending=True)\n",
    "    \n",
    "    plt.figure(figsize=(12, 6))\n",
    "    bars = plt.bar(filtered_data['Continent'], filtered_data['Population'] / 1e6, color='#415A77')\n",
    "    plt.title(f'Population of Continents in {selected_year}')\n",
    "    plt.xlabel('')\n",
    "    plt.ylabel('')\n",
    "    plt.xticks(rotation=45)\n",
    "\n",
    "    for bar in bars:\n",
    "        yval = bar.get_height()\n",
    "        plt.text(bar.get_x() + bar.get_width()/2, yval, f'{yval:.2f}M', ha='center', va='bottom')\n",
    "\n",
    "    plt.grid(False)\n",
    "    plt.gca().spines['top'].set_visible(False)\n",
    "    plt.gca().spines['right'].set_visible(False)\n",
    "    plt.gca().spines['left'].set_visible(True)\n",
    "    plt.gca().spines['bottom'].set_visible(True)\n",
    "\n",
    "    plt.show()\n",
    "\n",
    "widgets.interactive(update_graph, selected_year=year_dropdown)"
   ]
  },
  {
   "cell_type": "markdown",
   "metadata": {},
   "source": [
    "<h1 style=\"padding:10px;background-color:#250902;margin:0;color:#e09f3e;font-family:sans-serif;font-size:24px;text-align:center;border-radius: 50px;overflow:hidden;font-weight:700\">Continents by Populations Percentage in Selected Year</h1>"
   ]
  },
  {
   "cell_type": "code",
   "execution_count": 63,
   "metadata": {},
   "outputs": [
    {
     "data": {
      "application/vnd.jupyter.widget-view+json": {
       "model_id": "185b5dd757144508a67766217da085dc",
       "version_major": 2,
       "version_minor": 0
      },
      "text/plain": [
       "interactive(children=(Dropdown(description='Year:', options=('1970', '1980', '1990', '2000', '2010', '2020', '…"
      ]
     },
     "execution_count": 63,
     "metadata": {},
     "output_type": "execute_result"
    }
   ],
   "source": [
    "data = {\n",
    "    'Continent': population_continent['Continent'],\n",
    "    'Year': population_continent['Year'],\n",
    "    'Population': population_continent['Population']\n",
    "}\n",
    "new_df_v4 = pd.DataFrame(data)\n",
    "\n",
    "year_dropdown = widgets.Dropdown(\n",
    "    options=new_df_v4['Year'].unique(),\n",
    "    description='Year:',\n",
    "    disabled=False,\n",
    ")\n",
    "\n",
    "def update_graph(selected_year):\n",
    "    filtered_data = new_df_v4[new_df_v4['Year'] == selected_year].sort_values(by=\"Population\", ascending=False)\n",
    "    \n",
    "    plt.figure(figsize=(7, 7))\n",
    "    plt.pie(\n",
    "        filtered_data['Population'], \n",
    "        labels=filtered_data['Continent'], \n",
    "        autopct=lambda p: f'{p:.2f}%', \n",
    "        startangle=140, \n",
    "        colors=['#1D3557', '#457B9D', '#E63946', '#F1FAEE', '#A8DADC', '#8d99ae' ]\n",
    "    )\n",
    "    plt.title(f'Population Percentage of Continents in {selected_year}')\n",
    "\n",
    "    plt.show()\n",
    "\n",
    "widgets.interactive(update_graph, selected_year=year_dropdown)"
   ]
  },
  {
   "cell_type": "markdown",
   "metadata": {},
   "source": [
    "<h1 style=\"padding:10px;background-color:#e09f3e;margin:0;color:#250902;font-family:sans-serif;font-size:30px;text-align:center;border-radius: 50px;overflow:hidden;font-weight:700\">Prediction by Numpy using Formula : (mx + b)</h1>"
   ]
  },
  {
   "cell_type": "markdown",
   "metadata": {},
   "source": [
    "<h1 style=\"padding:10px;background-color:#250902;margin:0;color:#e09f3e;font-family:sans-serif;font-size:24px;text-align:center;border-radius: 50px;overflow:hidden;font-weight:700\">Predict the Population of Given Continents in 2030</h1>"
   ]
  },
  {
   "cell_type": "code",
   "execution_count": 64,
   "metadata": {},
   "outputs": [
    {
     "data": {
      "application/vnd.jupyter.widget-view+json": {
       "model_id": "5f82567c0a6545b9b421ee31a99b1f9b",
       "version_major": 2,
       "version_minor": 0
      },
      "text/plain": [
       "interactive(children=(Dropdown(description='Select Continent:', options=('Asia', 'Europe', 'Africa', 'Oceania'…"
      ]
     },
     "execution_count": 64,
     "metadata": {},
     "output_type": "execute_result"
    }
   ],
   "source": [
    "def predict_population_and_plot(continent_name):\n",
    "    continent_data = population_continent[population_continent['Continent'] == continent_name].sort_values(by='Year')\n",
    "    \n",
    "    years = continent_data['Year'].values.astype(int)\n",
    "    populations = continent_data['Population'].values.astype(float)\n",
    "\n",
    "    coeffs = np.polyfit(years, populations, 1)\n",
    "    m, b = coeffs\n",
    "    predicted_population_2030 = m * 2030 + b\n",
    "\n",
    "    plot_data = {\n",
    "        'Year': [2020, 2022, 2030],\n",
    "        'Population': [populations[-2], populations[-1], predicted_population_2030]\n",
    "    }\n",
    "\n",
    "    plt.figure(figsize=(10, 5))\n",
    "    sns.lineplot(x=plot_data['Year'][:2], y=plot_data['Population'][:2], marker='o', color='#415A77', label=f'Population Trend ({continent_name})')\n",
    "    sns.lineplot(x=[2022, 2030], y=[plot_data['Population'][1], predicted_population_2030],\n",
    "                 marker='o', color='red', linestyle='dotted', label='Predicted Population 2022-2030')\n",
    "    \n",
    "    plt.text(2020, plot_data['Population'][0], f\"{plot_data['Population'][0] / 1_000_000:.2f}M\", color='black', ha='center')\n",
    "    plt.text(2022, plot_data['Population'][1], f\"{plot_data['Population'][1] / 1_000_000:.2f}M\", color='black', ha='center')\n",
    "    plt.text(2030, predicted_population_2030, f\"{predicted_population_2030 / 1_000_000:.2f}M\", color='red', ha='left')\n",
    "    \n",
    "    plt.title(f'Population Trend in {continent_name} for 2020, 2022, and Predicted 2030')\n",
    "    plt.xlabel('Year')\n",
    "    plt.ylabel('Population')\n",
    "    plt.xticks([2020, 2022, 2030])\n",
    "    plt.grid(False)\n",
    "    plt.gca().spines['top'].set_visible(False)\n",
    "    plt.gca().spines['right'].set_visible(False)\n",
    "    plt.gca().spines['left'].set_visible(True)\n",
    "    plt.gca().spines['bottom'].set_visible(True)\n",
    "    plt.legend()\n",
    "    plt.show()\n",
    "    \n",
    "    return f\"Predicted population of {continent_name} in 2030: {predicted_population_2030 / 1_000_000:.2f} million.\"\n",
    "\n",
    "continent_dropdown = widgets.Dropdown(\n",
    "    options=df['Continent'].unique(),\n",
    "    description='Select Continent:',\n",
    "    disabled=False,\n",
    ")\n",
    "\n",
    "widgets.interactive(predict_population_and_plot, continent_name=continent_dropdown)"
   ]
  },
  {
   "cell_type": "markdown",
   "metadata": {},
   "source": [
    "<h1 style=\"padding:10px;background-color:#250902;margin:0;color:#e09f3e;font-family:sans-serif;font-size:24px;text-align:center;border-radius: 50px;overflow:hidden;font-weight:700\">World Population Trend</h1>"
   ]
  },
  {
   "cell_type": "code",
   "execution_count": 65,
   "metadata": {},
   "outputs": [
    {
     "data": {
      "application/vnd.plotly.v1+json": {
       "config": {
        "plotlyServerURL": "https://plot.ly"
       },
       "data": [
        {
         "hovertemplate": "x=%{x}<br>y=%{y}<extra></extra>",
         "legendgroup": "",
         "line": {
          "color": "#636efa",
          "dash": "solid"
         },
         "marker": {
          "symbol": "circle"
         },
         "mode": "lines+markers",
         "name": "",
         "orientation": "v",
         "showlegend": false,
         "type": "scatter",
         "x": [
          "1970",
          "1980",
          "1990",
          "2000",
          "2010",
          "2015",
          "2020",
          "2022"
         ],
         "xaxis": "x",
         "y": [
          3694136661,
          4442400371,
          5314191665,
          6147055703,
          6983784998,
          7424809761,
          7839250603,
          7973413042
         ],
         "yaxis": "y"
        }
       ],
       "layout": {
        "legend": {
         "tracegroupgap": 0
        },
        "margin": {
         "t": 60
        },
        "plot_bgcolor": "white",
        "showlegend": true,
        "template": {
         "data": {
          "bar": [
           {
            "error_x": {
             "color": "#2a3f5f"
            },
            "error_y": {
             "color": "#2a3f5f"
            },
            "marker": {
             "line": {
              "color": "#E5ECF6",
              "width": 0.5
             },
             "pattern": {
              "fillmode": "overlay",
              "size": 10,
              "solidity": 0.2
             }
            },
            "type": "bar"
           }
          ],
          "barpolar": [
           {
            "marker": {
             "line": {
              "color": "#E5ECF6",
              "width": 0.5
             },
             "pattern": {
              "fillmode": "overlay",
              "size": 10,
              "solidity": 0.2
             }
            },
            "type": "barpolar"
           }
          ],
          "carpet": [
           {
            "aaxis": {
             "endlinecolor": "#2a3f5f",
             "gridcolor": "white",
             "linecolor": "white",
             "minorgridcolor": "white",
             "startlinecolor": "#2a3f5f"
            },
            "baxis": {
             "endlinecolor": "#2a3f5f",
             "gridcolor": "white",
             "linecolor": "white",
             "minorgridcolor": "white",
             "startlinecolor": "#2a3f5f"
            },
            "type": "carpet"
           }
          ],
          "choropleth": [
           {
            "colorbar": {
             "outlinewidth": 0,
             "ticks": ""
            },
            "type": "choropleth"
           }
          ],
          "contour": [
           {
            "colorbar": {
             "outlinewidth": 0,
             "ticks": ""
            },
            "colorscale": [
             [
              0,
              "#0d0887"
             ],
             [
              0.1111111111111111,
              "#46039f"
             ],
             [
              0.2222222222222222,
              "#7201a8"
             ],
             [
              0.3333333333333333,
              "#9c179e"
             ],
             [
              0.4444444444444444,
              "#bd3786"
             ],
             [
              0.5555555555555556,
              "#d8576b"
             ],
             [
              0.6666666666666666,
              "#ed7953"
             ],
             [
              0.7777777777777778,
              "#fb9f3a"
             ],
             [
              0.8888888888888888,
              "#fdca26"
             ],
             [
              1,
              "#f0f921"
             ]
            ],
            "type": "contour"
           }
          ],
          "contourcarpet": [
           {
            "colorbar": {
             "outlinewidth": 0,
             "ticks": ""
            },
            "type": "contourcarpet"
           }
          ],
          "heatmap": [
           {
            "colorbar": {
             "outlinewidth": 0,
             "ticks": ""
            },
            "colorscale": [
             [
              0,
              "#0d0887"
             ],
             [
              0.1111111111111111,
              "#46039f"
             ],
             [
              0.2222222222222222,
              "#7201a8"
             ],
             [
              0.3333333333333333,
              "#9c179e"
             ],
             [
              0.4444444444444444,
              "#bd3786"
             ],
             [
              0.5555555555555556,
              "#d8576b"
             ],
             [
              0.6666666666666666,
              "#ed7953"
             ],
             [
              0.7777777777777778,
              "#fb9f3a"
             ],
             [
              0.8888888888888888,
              "#fdca26"
             ],
             [
              1,
              "#f0f921"
             ]
            ],
            "type": "heatmap"
           }
          ],
          "heatmapgl": [
           {
            "colorbar": {
             "outlinewidth": 0,
             "ticks": ""
            },
            "colorscale": [
             [
              0,
              "#0d0887"
             ],
             [
              0.1111111111111111,
              "#46039f"
             ],
             [
              0.2222222222222222,
              "#7201a8"
             ],
             [
              0.3333333333333333,
              "#9c179e"
             ],
             [
              0.4444444444444444,
              "#bd3786"
             ],
             [
              0.5555555555555556,
              "#d8576b"
             ],
             [
              0.6666666666666666,
              "#ed7953"
             ],
             [
              0.7777777777777778,
              "#fb9f3a"
             ],
             [
              0.8888888888888888,
              "#fdca26"
             ],
             [
              1,
              "#f0f921"
             ]
            ],
            "type": "heatmapgl"
           }
          ],
          "histogram": [
           {
            "marker": {
             "pattern": {
              "fillmode": "overlay",
              "size": 10,
              "solidity": 0.2
             }
            },
            "type": "histogram"
           }
          ],
          "histogram2d": [
           {
            "colorbar": {
             "outlinewidth": 0,
             "ticks": ""
            },
            "colorscale": [
             [
              0,
              "#0d0887"
             ],
             [
              0.1111111111111111,
              "#46039f"
             ],
             [
              0.2222222222222222,
              "#7201a8"
             ],
             [
              0.3333333333333333,
              "#9c179e"
             ],
             [
              0.4444444444444444,
              "#bd3786"
             ],
             [
              0.5555555555555556,
              "#d8576b"
             ],
             [
              0.6666666666666666,
              "#ed7953"
             ],
             [
              0.7777777777777778,
              "#fb9f3a"
             ],
             [
              0.8888888888888888,
              "#fdca26"
             ],
             [
              1,
              "#f0f921"
             ]
            ],
            "type": "histogram2d"
           }
          ],
          "histogram2dcontour": [
           {
            "colorbar": {
             "outlinewidth": 0,
             "ticks": ""
            },
            "colorscale": [
             [
              0,
              "#0d0887"
             ],
             [
              0.1111111111111111,
              "#46039f"
             ],
             [
              0.2222222222222222,
              "#7201a8"
             ],
             [
              0.3333333333333333,
              "#9c179e"
             ],
             [
              0.4444444444444444,
              "#bd3786"
             ],
             [
              0.5555555555555556,
              "#d8576b"
             ],
             [
              0.6666666666666666,
              "#ed7953"
             ],
             [
              0.7777777777777778,
              "#fb9f3a"
             ],
             [
              0.8888888888888888,
              "#fdca26"
             ],
             [
              1,
              "#f0f921"
             ]
            ],
            "type": "histogram2dcontour"
           }
          ],
          "mesh3d": [
           {
            "colorbar": {
             "outlinewidth": 0,
             "ticks": ""
            },
            "type": "mesh3d"
           }
          ],
          "parcoords": [
           {
            "line": {
             "colorbar": {
              "outlinewidth": 0,
              "ticks": ""
             }
            },
            "type": "parcoords"
           }
          ],
          "pie": [
           {
            "automargin": true,
            "type": "pie"
           }
          ],
          "scatter": [
           {
            "fillpattern": {
             "fillmode": "overlay",
             "size": 10,
             "solidity": 0.2
            },
            "type": "scatter"
           }
          ],
          "scatter3d": [
           {
            "line": {
             "colorbar": {
              "outlinewidth": 0,
              "ticks": ""
             }
            },
            "marker": {
             "colorbar": {
              "outlinewidth": 0,
              "ticks": ""
             }
            },
            "type": "scatter3d"
           }
          ],
          "scattercarpet": [
           {
            "marker": {
             "colorbar": {
              "outlinewidth": 0,
              "ticks": ""
             }
            },
            "type": "scattercarpet"
           }
          ],
          "scattergeo": [
           {
            "marker": {
             "colorbar": {
              "outlinewidth": 0,
              "ticks": ""
             }
            },
            "type": "scattergeo"
           }
          ],
          "scattergl": [
           {
            "marker": {
             "colorbar": {
              "outlinewidth": 0,
              "ticks": ""
             }
            },
            "type": "scattergl"
           }
          ],
          "scattermapbox": [
           {
            "marker": {
             "colorbar": {
              "outlinewidth": 0,
              "ticks": ""
             }
            },
            "type": "scattermapbox"
           }
          ],
          "scatterpolar": [
           {
            "marker": {
             "colorbar": {
              "outlinewidth": 0,
              "ticks": ""
             }
            },
            "type": "scatterpolar"
           }
          ],
          "scatterpolargl": [
           {
            "marker": {
             "colorbar": {
              "outlinewidth": 0,
              "ticks": ""
             }
            },
            "type": "scatterpolargl"
           }
          ],
          "scatterternary": [
           {
            "marker": {
             "colorbar": {
              "outlinewidth": 0,
              "ticks": ""
             }
            },
            "type": "scatterternary"
           }
          ],
          "surface": [
           {
            "colorbar": {
             "outlinewidth": 0,
             "ticks": ""
            },
            "colorscale": [
             [
              0,
              "#0d0887"
             ],
             [
              0.1111111111111111,
              "#46039f"
             ],
             [
              0.2222222222222222,
              "#7201a8"
             ],
             [
              0.3333333333333333,
              "#9c179e"
             ],
             [
              0.4444444444444444,
              "#bd3786"
             ],
             [
              0.5555555555555556,
              "#d8576b"
             ],
             [
              0.6666666666666666,
              "#ed7953"
             ],
             [
              0.7777777777777778,
              "#fb9f3a"
             ],
             [
              0.8888888888888888,
              "#fdca26"
             ],
             [
              1,
              "#f0f921"
             ]
            ],
            "type": "surface"
           }
          ],
          "table": [
           {
            "cells": {
             "fill": {
              "color": "#EBF0F8"
             },
             "line": {
              "color": "white"
             }
            },
            "header": {
             "fill": {
              "color": "#C8D4E3"
             },
             "line": {
              "color": "white"
             }
            },
            "type": "table"
           }
          ]
         },
         "layout": {
          "annotationdefaults": {
           "arrowcolor": "#2a3f5f",
           "arrowhead": 0,
           "arrowwidth": 1
          },
          "autotypenumbers": "strict",
          "coloraxis": {
           "colorbar": {
            "outlinewidth": 0,
            "ticks": ""
           }
          },
          "colorscale": {
           "diverging": [
            [
             0,
             "#8e0152"
            ],
            [
             0.1,
             "#c51b7d"
            ],
            [
             0.2,
             "#de77ae"
            ],
            [
             0.3,
             "#f1b6da"
            ],
            [
             0.4,
             "#fde0ef"
            ],
            [
             0.5,
             "#f7f7f7"
            ],
            [
             0.6,
             "#e6f5d0"
            ],
            [
             0.7,
             "#b8e186"
            ],
            [
             0.8,
             "#7fbc41"
            ],
            [
             0.9,
             "#4d9221"
            ],
            [
             1,
             "#276419"
            ]
           ],
           "sequential": [
            [
             0,
             "#0d0887"
            ],
            [
             0.1111111111111111,
             "#46039f"
            ],
            [
             0.2222222222222222,
             "#7201a8"
            ],
            [
             0.3333333333333333,
             "#9c179e"
            ],
            [
             0.4444444444444444,
             "#bd3786"
            ],
            [
             0.5555555555555556,
             "#d8576b"
            ],
            [
             0.6666666666666666,
             "#ed7953"
            ],
            [
             0.7777777777777778,
             "#fb9f3a"
            ],
            [
             0.8888888888888888,
             "#fdca26"
            ],
            [
             1,
             "#f0f921"
            ]
           ],
           "sequentialminus": [
            [
             0,
             "#0d0887"
            ],
            [
             0.1111111111111111,
             "#46039f"
            ],
            [
             0.2222222222222222,
             "#7201a8"
            ],
            [
             0.3333333333333333,
             "#9c179e"
            ],
            [
             0.4444444444444444,
             "#bd3786"
            ],
            [
             0.5555555555555556,
             "#d8576b"
            ],
            [
             0.6666666666666666,
             "#ed7953"
            ],
            [
             0.7777777777777778,
             "#fb9f3a"
            ],
            [
             0.8888888888888888,
             "#fdca26"
            ],
            [
             1,
             "#f0f921"
            ]
           ]
          },
          "colorway": [
           "#636efa",
           "#EF553B",
           "#00cc96",
           "#ab63fa",
           "#FFA15A",
           "#19d3f3",
           "#FF6692",
           "#B6E880",
           "#FF97FF",
           "#FECB52"
          ],
          "font": {
           "color": "#2a3f5f"
          },
          "geo": {
           "bgcolor": "white",
           "lakecolor": "white",
           "landcolor": "#E5ECF6",
           "showlakes": true,
           "showland": true,
           "subunitcolor": "white"
          },
          "hoverlabel": {
           "align": "left"
          },
          "hovermode": "closest",
          "mapbox": {
           "style": "light"
          },
          "paper_bgcolor": "white",
          "plot_bgcolor": "#E5ECF6",
          "polar": {
           "angularaxis": {
            "gridcolor": "white",
            "linecolor": "white",
            "ticks": ""
           },
           "bgcolor": "#E5ECF6",
           "radialaxis": {
            "gridcolor": "white",
            "linecolor": "white",
            "ticks": ""
           }
          },
          "scene": {
           "xaxis": {
            "backgroundcolor": "#E5ECF6",
            "gridcolor": "white",
            "gridwidth": 2,
            "linecolor": "white",
            "showbackground": true,
            "ticks": "",
            "zerolinecolor": "white"
           },
           "yaxis": {
            "backgroundcolor": "#E5ECF6",
            "gridcolor": "white",
            "gridwidth": 2,
            "linecolor": "white",
            "showbackground": true,
            "ticks": "",
            "zerolinecolor": "white"
           },
           "zaxis": {
            "backgroundcolor": "#E5ECF6",
            "gridcolor": "white",
            "gridwidth": 2,
            "linecolor": "white",
            "showbackground": true,
            "ticks": "",
            "zerolinecolor": "white"
           }
          },
          "shapedefaults": {
           "line": {
            "color": "#2a3f5f"
           }
          },
          "ternary": {
           "aaxis": {
            "gridcolor": "white",
            "linecolor": "white",
            "ticks": ""
           },
           "baxis": {
            "gridcolor": "white",
            "linecolor": "white",
            "ticks": ""
           },
           "bgcolor": "#E5ECF6",
           "caxis": {
            "gridcolor": "white",
            "linecolor": "white",
            "ticks": ""
           }
          },
          "title": {
           "x": 0.05
          },
          "xaxis": {
           "automargin": true,
           "gridcolor": "white",
           "linecolor": "white",
           "ticks": "",
           "title": {
            "standoff": 15
           },
           "zerolinecolor": "white",
           "zerolinewidth": 2
          },
          "yaxis": {
           "automargin": true,
           "gridcolor": "white",
           "linecolor": "white",
           "ticks": "",
           "title": {
            "standoff": 15
           },
           "zerolinecolor": "white",
           "zerolinewidth": 2
          }
         }
        },
        "title": {
         "text": "World Population Trend (1970-2022)"
        },
        "xaxis": {
         "anchor": "y",
         "domain": [
          0,
          1
         ],
         "gridcolor": "white",
         "showgrid": false,
         "tickangle": 20,
         "title": {
          "text": ""
         }
        },
        "yaxis": {
         "anchor": "x",
         "domain": [
          0,
          1
         ],
         "gridcolor": "white",
         "showgrid": false,
         "title": {
          "text": ""
         }
        }
       }
      }
     },
     "metadata": {},
     "output_type": "display_data"
    }
   ],
   "source": [
    "trend = df.iloc[:, 5:13].sum().sort_values(ascending=True)\n",
    "\n",
    "fig = px.line(x=trend.index, y=trend.values, markers=True)\n",
    "fig.update_layout(title=\"World Population Trend (1970-2022)\", xaxis_title='', yaxis_title='')\n",
    "fig.update_layout(\n",
    "        showlegend=True,\n",
    "        plot_bgcolor='white',\n",
    "        xaxis=dict(\n",
    "            showgrid=False,\n",
    "            gridcolor='white'\n",
    "        ),\n",
    "        yaxis=dict(\n",
    "            showgrid=False,\n",
    "            gridcolor='white'\n",
    "        )\n",
    "    )\n",
    "fig.update_xaxes(tickangle=20)\n",
    "fig.show()"
   ]
  },
  {
   "cell_type": "markdown",
   "metadata": {},
   "source": [
    "<h1 style=\"padding:10px;background-color:#e09f3e;margin:0;color:#250902;font-family:sans-serif;font-size:30px;text-align:center;border-radius: 50px;overflow:hidden;font-weight:700\">Prediction by Numpy using Formula : (mx + b)</h1>"
   ]
  },
  {
   "cell_type": "markdown",
   "metadata": {},
   "source": [
    "<h1 style=\"padding:10px;background-color:#250902;margin:0;color:#e09f3e;font-family:sans-serif;font-size:24px;text-align:center;border-radius: 50px;overflow:hidden;font-weight:700\">Predict the Population of World in 2030</h1>"
   ]
  },
  {
   "cell_type": "code",
   "execution_count": 66,
   "metadata": {},
   "outputs": [
    {
     "data": {
      "application/vnd.plotly.v1+json": {
       "config": {
        "plotlyServerURL": "https://plot.ly"
       },
       "data": [
        {
         "line": {
          "color": "#415A77",
          "width": 2
         },
         "marker": {
          "size": 10
         },
         "mode": "lines+markers",
         "name": "Actual Population",
         "type": "scatter",
         "x": [
          2020,
          2022
         ],
         "y": [
          7839250603,
          7973413042
         ]
        },
        {
         "line": {
          "color": "red",
          "dash": "dot"
         },
         "mode": "lines",
         "name": "Predicted Population 2022-2030",
         "type": "scatter",
         "x": [
          2022,
          2030
         ],
         "y": [
          7973413042,
          8655562039.158783
         ]
        },
        {
         "marker": {
          "color": "red",
          "size": 10
         },
         "mode": "markers+text",
         "name": "Predicted Population 2030",
         "text": [
          "8655.56M"
         ],
         "textposition": "top center",
         "type": "scatter",
         "x": [
          2030
         ],
         "y": [
          8655562039.158783
         ]
        }
       ],
       "layout": {
        "plot_bgcolor": "white",
        "showlegend": true,
        "template": {
         "data": {
          "bar": [
           {
            "error_x": {
             "color": "#2a3f5f"
            },
            "error_y": {
             "color": "#2a3f5f"
            },
            "marker": {
             "line": {
              "color": "#E5ECF6",
              "width": 0.5
             },
             "pattern": {
              "fillmode": "overlay",
              "size": 10,
              "solidity": 0.2
             }
            },
            "type": "bar"
           }
          ],
          "barpolar": [
           {
            "marker": {
             "line": {
              "color": "#E5ECF6",
              "width": 0.5
             },
             "pattern": {
              "fillmode": "overlay",
              "size": 10,
              "solidity": 0.2
             }
            },
            "type": "barpolar"
           }
          ],
          "carpet": [
           {
            "aaxis": {
             "endlinecolor": "#2a3f5f",
             "gridcolor": "white",
             "linecolor": "white",
             "minorgridcolor": "white",
             "startlinecolor": "#2a3f5f"
            },
            "baxis": {
             "endlinecolor": "#2a3f5f",
             "gridcolor": "white",
             "linecolor": "white",
             "minorgridcolor": "white",
             "startlinecolor": "#2a3f5f"
            },
            "type": "carpet"
           }
          ],
          "choropleth": [
           {
            "colorbar": {
             "outlinewidth": 0,
             "ticks": ""
            },
            "type": "choropleth"
           }
          ],
          "contour": [
           {
            "colorbar": {
             "outlinewidth": 0,
             "ticks": ""
            },
            "colorscale": [
             [
              0,
              "#0d0887"
             ],
             [
              0.1111111111111111,
              "#46039f"
             ],
             [
              0.2222222222222222,
              "#7201a8"
             ],
             [
              0.3333333333333333,
              "#9c179e"
             ],
             [
              0.4444444444444444,
              "#bd3786"
             ],
             [
              0.5555555555555556,
              "#d8576b"
             ],
             [
              0.6666666666666666,
              "#ed7953"
             ],
             [
              0.7777777777777778,
              "#fb9f3a"
             ],
             [
              0.8888888888888888,
              "#fdca26"
             ],
             [
              1,
              "#f0f921"
             ]
            ],
            "type": "contour"
           }
          ],
          "contourcarpet": [
           {
            "colorbar": {
             "outlinewidth": 0,
             "ticks": ""
            },
            "type": "contourcarpet"
           }
          ],
          "heatmap": [
           {
            "colorbar": {
             "outlinewidth": 0,
             "ticks": ""
            },
            "colorscale": [
             [
              0,
              "#0d0887"
             ],
             [
              0.1111111111111111,
              "#46039f"
             ],
             [
              0.2222222222222222,
              "#7201a8"
             ],
             [
              0.3333333333333333,
              "#9c179e"
             ],
             [
              0.4444444444444444,
              "#bd3786"
             ],
             [
              0.5555555555555556,
              "#d8576b"
             ],
             [
              0.6666666666666666,
              "#ed7953"
             ],
             [
              0.7777777777777778,
              "#fb9f3a"
             ],
             [
              0.8888888888888888,
              "#fdca26"
             ],
             [
              1,
              "#f0f921"
             ]
            ],
            "type": "heatmap"
           }
          ],
          "heatmapgl": [
           {
            "colorbar": {
             "outlinewidth": 0,
             "ticks": ""
            },
            "colorscale": [
             [
              0,
              "#0d0887"
             ],
             [
              0.1111111111111111,
              "#46039f"
             ],
             [
              0.2222222222222222,
              "#7201a8"
             ],
             [
              0.3333333333333333,
              "#9c179e"
             ],
             [
              0.4444444444444444,
              "#bd3786"
             ],
             [
              0.5555555555555556,
              "#d8576b"
             ],
             [
              0.6666666666666666,
              "#ed7953"
             ],
             [
              0.7777777777777778,
              "#fb9f3a"
             ],
             [
              0.8888888888888888,
              "#fdca26"
             ],
             [
              1,
              "#f0f921"
             ]
            ],
            "type": "heatmapgl"
           }
          ],
          "histogram": [
           {
            "marker": {
             "pattern": {
              "fillmode": "overlay",
              "size": 10,
              "solidity": 0.2
             }
            },
            "type": "histogram"
           }
          ],
          "histogram2d": [
           {
            "colorbar": {
             "outlinewidth": 0,
             "ticks": ""
            },
            "colorscale": [
             [
              0,
              "#0d0887"
             ],
             [
              0.1111111111111111,
              "#46039f"
             ],
             [
              0.2222222222222222,
              "#7201a8"
             ],
             [
              0.3333333333333333,
              "#9c179e"
             ],
             [
              0.4444444444444444,
              "#bd3786"
             ],
             [
              0.5555555555555556,
              "#d8576b"
             ],
             [
              0.6666666666666666,
              "#ed7953"
             ],
             [
              0.7777777777777778,
              "#fb9f3a"
             ],
             [
              0.8888888888888888,
              "#fdca26"
             ],
             [
              1,
              "#f0f921"
             ]
            ],
            "type": "histogram2d"
           }
          ],
          "histogram2dcontour": [
           {
            "colorbar": {
             "outlinewidth": 0,
             "ticks": ""
            },
            "colorscale": [
             [
              0,
              "#0d0887"
             ],
             [
              0.1111111111111111,
              "#46039f"
             ],
             [
              0.2222222222222222,
              "#7201a8"
             ],
             [
              0.3333333333333333,
              "#9c179e"
             ],
             [
              0.4444444444444444,
              "#bd3786"
             ],
             [
              0.5555555555555556,
              "#d8576b"
             ],
             [
              0.6666666666666666,
              "#ed7953"
             ],
             [
              0.7777777777777778,
              "#fb9f3a"
             ],
             [
              0.8888888888888888,
              "#fdca26"
             ],
             [
              1,
              "#f0f921"
             ]
            ],
            "type": "histogram2dcontour"
           }
          ],
          "mesh3d": [
           {
            "colorbar": {
             "outlinewidth": 0,
             "ticks": ""
            },
            "type": "mesh3d"
           }
          ],
          "parcoords": [
           {
            "line": {
             "colorbar": {
              "outlinewidth": 0,
              "ticks": ""
             }
            },
            "type": "parcoords"
           }
          ],
          "pie": [
           {
            "automargin": true,
            "type": "pie"
           }
          ],
          "scatter": [
           {
            "fillpattern": {
             "fillmode": "overlay",
             "size": 10,
             "solidity": 0.2
            },
            "type": "scatter"
           }
          ],
          "scatter3d": [
           {
            "line": {
             "colorbar": {
              "outlinewidth": 0,
              "ticks": ""
             }
            },
            "marker": {
             "colorbar": {
              "outlinewidth": 0,
              "ticks": ""
             }
            },
            "type": "scatter3d"
           }
          ],
          "scattercarpet": [
           {
            "marker": {
             "colorbar": {
              "outlinewidth": 0,
              "ticks": ""
             }
            },
            "type": "scattercarpet"
           }
          ],
          "scattergeo": [
           {
            "marker": {
             "colorbar": {
              "outlinewidth": 0,
              "ticks": ""
             }
            },
            "type": "scattergeo"
           }
          ],
          "scattergl": [
           {
            "marker": {
             "colorbar": {
              "outlinewidth": 0,
              "ticks": ""
             }
            },
            "type": "scattergl"
           }
          ],
          "scattermapbox": [
           {
            "marker": {
             "colorbar": {
              "outlinewidth": 0,
              "ticks": ""
             }
            },
            "type": "scattermapbox"
           }
          ],
          "scatterpolar": [
           {
            "marker": {
             "colorbar": {
              "outlinewidth": 0,
              "ticks": ""
             }
            },
            "type": "scatterpolar"
           }
          ],
          "scatterpolargl": [
           {
            "marker": {
             "colorbar": {
              "outlinewidth": 0,
              "ticks": ""
             }
            },
            "type": "scatterpolargl"
           }
          ],
          "scatterternary": [
           {
            "marker": {
             "colorbar": {
              "outlinewidth": 0,
              "ticks": ""
             }
            },
            "type": "scatterternary"
           }
          ],
          "surface": [
           {
            "colorbar": {
             "outlinewidth": 0,
             "ticks": ""
            },
            "colorscale": [
             [
              0,
              "#0d0887"
             ],
             [
              0.1111111111111111,
              "#46039f"
             ],
             [
              0.2222222222222222,
              "#7201a8"
             ],
             [
              0.3333333333333333,
              "#9c179e"
             ],
             [
              0.4444444444444444,
              "#bd3786"
             ],
             [
              0.5555555555555556,
              "#d8576b"
             ],
             [
              0.6666666666666666,
              "#ed7953"
             ],
             [
              0.7777777777777778,
              "#fb9f3a"
             ],
             [
              0.8888888888888888,
              "#fdca26"
             ],
             [
              1,
              "#f0f921"
             ]
            ],
            "type": "surface"
           }
          ],
          "table": [
           {
            "cells": {
             "fill": {
              "color": "#EBF0F8"
             },
             "line": {
              "color": "white"
             }
            },
            "header": {
             "fill": {
              "color": "#C8D4E3"
             },
             "line": {
              "color": "white"
             }
            },
            "type": "table"
           }
          ]
         },
         "layout": {
          "annotationdefaults": {
           "arrowcolor": "#2a3f5f",
           "arrowhead": 0,
           "arrowwidth": 1
          },
          "autotypenumbers": "strict",
          "coloraxis": {
           "colorbar": {
            "outlinewidth": 0,
            "ticks": ""
           }
          },
          "colorscale": {
           "diverging": [
            [
             0,
             "#8e0152"
            ],
            [
             0.1,
             "#c51b7d"
            ],
            [
             0.2,
             "#de77ae"
            ],
            [
             0.3,
             "#f1b6da"
            ],
            [
             0.4,
             "#fde0ef"
            ],
            [
             0.5,
             "#f7f7f7"
            ],
            [
             0.6,
             "#e6f5d0"
            ],
            [
             0.7,
             "#b8e186"
            ],
            [
             0.8,
             "#7fbc41"
            ],
            [
             0.9,
             "#4d9221"
            ],
            [
             1,
             "#276419"
            ]
           ],
           "sequential": [
            [
             0,
             "#0d0887"
            ],
            [
             0.1111111111111111,
             "#46039f"
            ],
            [
             0.2222222222222222,
             "#7201a8"
            ],
            [
             0.3333333333333333,
             "#9c179e"
            ],
            [
             0.4444444444444444,
             "#bd3786"
            ],
            [
             0.5555555555555556,
             "#d8576b"
            ],
            [
             0.6666666666666666,
             "#ed7953"
            ],
            [
             0.7777777777777778,
             "#fb9f3a"
            ],
            [
             0.8888888888888888,
             "#fdca26"
            ],
            [
             1,
             "#f0f921"
            ]
           ],
           "sequentialminus": [
            [
             0,
             "#0d0887"
            ],
            [
             0.1111111111111111,
             "#46039f"
            ],
            [
             0.2222222222222222,
             "#7201a8"
            ],
            [
             0.3333333333333333,
             "#9c179e"
            ],
            [
             0.4444444444444444,
             "#bd3786"
            ],
            [
             0.5555555555555556,
             "#d8576b"
            ],
            [
             0.6666666666666666,
             "#ed7953"
            ],
            [
             0.7777777777777778,
             "#fb9f3a"
            ],
            [
             0.8888888888888888,
             "#fdca26"
            ],
            [
             1,
             "#f0f921"
            ]
           ]
          },
          "colorway": [
           "#636efa",
           "#EF553B",
           "#00cc96",
           "#ab63fa",
           "#FFA15A",
           "#19d3f3",
           "#FF6692",
           "#B6E880",
           "#FF97FF",
           "#FECB52"
          ],
          "font": {
           "color": "#2a3f5f"
          },
          "geo": {
           "bgcolor": "white",
           "lakecolor": "white",
           "landcolor": "#E5ECF6",
           "showlakes": true,
           "showland": true,
           "subunitcolor": "white"
          },
          "hoverlabel": {
           "align": "left"
          },
          "hovermode": "closest",
          "mapbox": {
           "style": "light"
          },
          "paper_bgcolor": "white",
          "plot_bgcolor": "#E5ECF6",
          "polar": {
           "angularaxis": {
            "gridcolor": "white",
            "linecolor": "white",
            "ticks": ""
           },
           "bgcolor": "#E5ECF6",
           "radialaxis": {
            "gridcolor": "white",
            "linecolor": "white",
            "ticks": ""
           }
          },
          "scene": {
           "xaxis": {
            "backgroundcolor": "#E5ECF6",
            "gridcolor": "white",
            "gridwidth": 2,
            "linecolor": "white",
            "showbackground": true,
            "ticks": "",
            "zerolinecolor": "white"
           },
           "yaxis": {
            "backgroundcolor": "#E5ECF6",
            "gridcolor": "white",
            "gridwidth": 2,
            "linecolor": "white",
            "showbackground": true,
            "ticks": "",
            "zerolinecolor": "white"
           },
           "zaxis": {
            "backgroundcolor": "#E5ECF6",
            "gridcolor": "white",
            "gridwidth": 2,
            "linecolor": "white",
            "showbackground": true,
            "ticks": "",
            "zerolinecolor": "white"
           }
          },
          "shapedefaults": {
           "line": {
            "color": "#2a3f5f"
           }
          },
          "ternary": {
           "aaxis": {
            "gridcolor": "white",
            "linecolor": "white",
            "ticks": ""
           },
           "baxis": {
            "gridcolor": "white",
            "linecolor": "white",
            "ticks": ""
           },
           "bgcolor": "#E5ECF6",
           "caxis": {
            "gridcolor": "white",
            "linecolor": "white",
            "ticks": ""
           }
          },
          "title": {
           "x": 0.05
          },
          "xaxis": {
           "automargin": true,
           "gridcolor": "white",
           "linecolor": "white",
           "ticks": "",
           "title": {
            "standoff": 15
           },
           "zerolinecolor": "white",
           "zerolinewidth": 2
          },
          "yaxis": {
           "automargin": true,
           "gridcolor": "white",
           "linecolor": "white",
           "ticks": "",
           "title": {
            "standoff": 15
           },
           "zerolinecolor": "white",
           "zerolinewidth": 2
          }
         }
        },
        "title": {
         "text": "Population Trend Prediction"
        },
        "xaxis": {
         "gridcolor": "white",
         "showgrid": false,
         "title": {
          "text": "Year"
         }
        },
        "yaxis": {
         "gridcolor": "white",
         "showgrid": false,
         "tickformat": ",",
         "title": {
          "text": "Population"
         }
        }
       }
      }
     },
     "metadata": {},
     "output_type": "display_data"
    },
    {
     "name": "stdout",
     "output_type": "stream",
     "text": [
      "Predicted population for 2030: 8655.56 million.\n"
     ]
    }
   ],
   "source": [
    "trend_df = trend.reset_index()\n",
    "trend_df.columns = ['Year', 'Population']\n",
    "trend_df['Year'] = trend_df['Year'].astype(int)\n",
    "\n",
    "years = trend_df['Year'].values\n",
    "populations = trend_df['Population'].values\n",
    "coeffs = np.polyfit(years, populations, 1)\n",
    "m, b = coeffs\n",
    "predicted_population_2030 = m * 2030 + b\n",
    "\n",
    "population_data = {\n",
    "    'Year': [2020, 2022, 2030],\n",
    "    'Population': [\n",
    "        trend_df.loc[trend_df['Year'] == 2020, 'Population'].values[0],\n",
    "        trend_df.loc[trend_df['Year'] == 2022, 'Population'].values[0],\n",
    "        predicted_population_2030\n",
    "    ]\n",
    "}\n",
    "\n",
    "fig = go.Figure()\n",
    "\n",
    "# Actual Population Line\n",
    "fig.add_trace(go.Scatter(\n",
    "    x=population_data['Year'][:2],\n",
    "    y=population_data['Population'][:2],\n",
    "    mode='lines+markers',\n",
    "    name='Actual Population',\n",
    "    marker=dict(size=10),\n",
    "    line=dict(color='#415A77', width=2)\n",
    "))\n",
    "\n",
    "# Predicted Population Line\n",
    "fig.add_trace(go.Scatter(\n",
    "    x=[2022, 2030],\n",
    "    y=[population_data['Population'][1], predicted_population_2030],\n",
    "    mode='lines',\n",
    "    name='Predicted Population 2022-2030',\n",
    "    line=dict(color='red', dash='dot')\n",
    "))\n",
    "\n",
    "# Predicted Population Marker for 2030\n",
    "fig.add_trace(go.Scatter(\n",
    "    x=[2030],\n",
    "    y=[predicted_population_2030],\n",
    "    mode='markers+text',\n",
    "    name='Predicted Population 2030',\n",
    "    marker=dict(size=10, color='red'),\n",
    "    text=[f\"{predicted_population_2030 / 1_000_000:.2f}M\"],\n",
    "    textposition='top center'\n",
    "))\n",
    "\n",
    "# Customize layout\n",
    "fig.update_layout(\n",
    "    title='Population Trend Prediction',\n",
    "    xaxis_title='Year',\n",
    "    yaxis_title='Population',\n",
    "    yaxis_tickformat=',',\n",
    "    showlegend=True,\n",
    "    plot_bgcolor='white',\n",
    "    xaxis=dict(\n",
    "        showgrid=False,\n",
    "        gridcolor='white'\n",
    "    ),\n",
    "    yaxis=dict(\n",
    "        showgrid=False,\n",
    "        gridcolor='white'\n",
    "    )\n",
    ")\n",
    "\n",
    "fig.show()\n",
    "\n",
    "print(f\"Predicted population for 2030: {predicted_population_2030 / 1_000_000:.2f} million.\")"
   ]
  },
  {
   "cell_type": "markdown",
   "metadata": {},
   "source": [
    "<h1 style=\"padding:10px;background-color:#e09f3e;margin:0;color:#250902;font-family:sans-serif;font-size:30px;text-align:center;border-radius: 50px;overflow:hidden;font-weight:700\">THANK YOU</h1>"
   ]
  }
 ],
 "metadata": {
  "kernelspec": {
   "display_name": "Python 3",
   "language": "python",
   "name": "python3"
  },
  "language_info": {
   "codemirror_mode": {
    "name": "ipython",
    "version": 3
   },
   "file_extension": ".py",
   "mimetype": "text/x-python",
   "name": "python",
   "nbconvert_exporter": "python",
   "pygments_lexer": "ipython3",
   "version": "3.12.4"
  }
 },
 "nbformat": 4,
 "nbformat_minor": 2
}
